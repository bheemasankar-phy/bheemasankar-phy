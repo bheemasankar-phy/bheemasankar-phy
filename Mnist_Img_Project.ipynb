{
 "cells": [
  {
   "cell_type": "code",
   "execution_count": 1,
   "id": "aedd1486",
   "metadata": {},
   "outputs": [],
   "source": [
    "import numpy as np\n",
    "import pandas as pd"
   ]
  },
  {
   "cell_type": "code",
   "execution_count": 2,
   "id": "66fbab49",
   "metadata": {},
   "outputs": [],
   "source": [
    "from zipfile import ZipFile"
   ]
  },
  {
   "cell_type": "code",
   "execution_count": 3,
   "id": "4835797e",
   "metadata": {},
   "outputs": [],
   "source": [
    "import zipfile"
   ]
  },
  {
   "cell_type": "code",
   "execution_count": 12,
   "id": "cce3d6d9",
   "metadata": {},
   "outputs": [],
   "source": [
    "zip_folder_img= \"B:\\zip_img.zip\"\n",
    "\n",
    "# Specify the directory where you want to extract the contents\n",
    "extracted_dir = \"B:/\"\n",
    "\n",
    "# Unzip the contents of the zip file folder\n",
    "with zipfile.ZipFile(zip_folder_img, 'r') as zip_ref:\n",
    "    zip_ref.extractall(extracted_dir)  "
   ]
  },
  {
   "cell_type": "code",
   "execution_count": 4,
   "id": "c06c2d33",
   "metadata": {},
   "outputs": [],
   "source": [
    "import os"
   ]
  },
  {
   "cell_type": "code",
   "execution_count": 1,
   "id": "fc120a03",
   "metadata": {},
   "outputs": [],
   "source": [
    "import numpy as np\n",
    "import pandas as pd"
   ]
  },
  {
   "cell_type": "code",
   "execution_count": 2,
   "id": "e5f548f9",
   "metadata": {},
   "outputs": [],
   "source": [
    "import os"
   ]
  },
  {
   "cell_type": "code",
   "execution_count": 3,
   "id": "ca1ec3eb",
   "metadata": {},
   "outputs": [],
   "source": [
    "from matplotlib import pyplot as plt\n",
    "from matplotlib import image\n",
    "from PIL import Image"
   ]
  },
  {
   "cell_type": "code",
   "execution_count": 17,
   "id": "8ae51eb1",
   "metadata": {},
   "outputs": [],
   "source": [
    "label=[]\n",
    "target=[]\n",
    "file=\"B:/Ext_img/\"\n",
    "os.listdir(file)\n",
    "for files in os.listdir(file):\n",
    "    for file_1 in os.listdir(os.path.join(file,files)):\n",
    "        file_2=os.path.join(os.path.join(file,files),file_1)\n",
    "        img=Image.open(file_2)\n",
    "        img1=img.resize((8,8))\n",
    "        img2=np.array(img1).ravel()\n",
    "        label.append(img2)\n",
    "        target.append(files)"
   ]
  },
  {
   "cell_type": "code",
   "execution_count": 15,
   "id": "57632712",
   "metadata": {},
   "outputs": [],
   "source": [
    "file=\"B:/Ext_img/\""
   ]
  },
  {
   "cell_type": "code",
   "execution_count": 16,
   "id": "0ac0188a",
   "metadata": {},
   "outputs": [
    {
     "data": {
      "text/plain": [
       "['A',\n",
       " 'B',\n",
       " 'C',\n",
       " 'D',\n",
       " 'E',\n",
       " 'F',\n",
       " 'G',\n",
       " 'H',\n",
       " 'I',\n",
       " 'J',\n",
       " 'K',\n",
       " 'L',\n",
       " 'M',\n",
       " 'N',\n",
       " 'O',\n",
       " 'P',\n",
       " 'Q',\n",
       " 'R',\n",
       " 'S',\n",
       " 'T',\n",
       " 'U',\n",
       " 'V',\n",
       " 'W',\n",
       " 'X',\n",
       " 'Y',\n",
       " 'Z']"
      ]
     },
     "execution_count": 16,
     "metadata": {},
     "output_type": "execute_result"
    }
   ],
   "source": [
    "os.listdir(file)"
   ]
  },
  {
   "cell_type": "code",
   "execution_count": 18,
   "id": "9623b167",
   "metadata": {},
   "outputs": [],
   "source": [
    "df=pd.DataFrame(label,columns=[\"pixel\"+ str(i) for i in range(0,64)])\n",
    "df[\"label\"]=target"
   ]
  },
  {
   "cell_type": "code",
   "execution_count": 19,
   "id": "69c22836",
   "metadata": {},
   "outputs": [
    {
     "data": {
      "text/plain": [
       "(372451, 65)"
      ]
     },
     "execution_count": 19,
     "metadata": {},
     "output_type": "execute_result"
    }
   ],
   "source": [
    "df.shape"
   ]
  },
  {
   "cell_type": "code",
   "execution_count": 20,
   "id": "ccad42a6",
   "metadata": {},
   "outputs": [
    {
     "data": {
      "text/plain": [
       "O    57825\n",
       "S    48419\n",
       "U    29008\n",
       "C    23409\n",
       "T    22495\n",
       "P    19341\n",
       "N    19010\n",
       "A    13870\n",
       "M    12336\n",
       "L    11586\n",
       "R    11566\n",
       "E    11440\n",
       "Y    10859\n",
       "W    10784\n",
       "D    10134\n",
       "B     8668\n",
       "J     8493\n",
       "H     7218\n",
       "X     6272\n",
       "Z     6076\n",
       "Q     5812\n",
       "G     5762\n",
       "K     5603\n",
       "V     4182\n",
       "F     1163\n",
       "I     1120\n",
       "Name: label, dtype: int64"
      ]
     },
     "execution_count": 20,
     "metadata": {},
     "output_type": "execute_result"
    }
   ],
   "source": [
    "df[\"label\"].value_counts()"
   ]
  },
  {
   "cell_type": "code",
   "execution_count": 23,
   "id": "8fd6f7c8",
   "metadata": {},
   "outputs": [],
   "source": [
    "data=df.to_csv(\"ML_Img_project.csv\")"
   ]
  },
  {
   "cell_type": "code",
   "execution_count": 24,
   "id": "e2af1899",
   "metadata": {},
   "outputs": [],
   "source": [
    "data=pd.read_csv(\"ML_Img_project.csv\")"
   ]
  },
  {
   "cell_type": "code",
   "execution_count": 25,
   "id": "6b2d1ba9",
   "metadata": {},
   "outputs": [
    {
     "data": {
      "text/html": [
       "<div>\n",
       "<style scoped>\n",
       "    .dataframe tbody tr th:only-of-type {\n",
       "        vertical-align: middle;\n",
       "    }\n",
       "\n",
       "    .dataframe tbody tr th {\n",
       "        vertical-align: top;\n",
       "    }\n",
       "\n",
       "    .dataframe thead th {\n",
       "        text-align: right;\n",
       "    }\n",
       "</style>\n",
       "<table border=\"1\" class=\"dataframe\">\n",
       "  <thead>\n",
       "    <tr style=\"text-align: right;\">\n",
       "      <th></th>\n",
       "      <th>Unnamed: 0</th>\n",
       "      <th>pixel0</th>\n",
       "      <th>pixel1</th>\n",
       "      <th>pixel2</th>\n",
       "      <th>pixel3</th>\n",
       "      <th>pixel4</th>\n",
       "      <th>pixel5</th>\n",
       "      <th>pixel6</th>\n",
       "      <th>pixel7</th>\n",
       "      <th>pixel8</th>\n",
       "      <th>...</th>\n",
       "      <th>pixel55</th>\n",
       "      <th>pixel56</th>\n",
       "      <th>pixel57</th>\n",
       "      <th>pixel58</th>\n",
       "      <th>pixel59</th>\n",
       "      <th>pixel60</th>\n",
       "      <th>pixel61</th>\n",
       "      <th>pixel62</th>\n",
       "      <th>pixel63</th>\n",
       "      <th>label</th>\n",
       "    </tr>\n",
       "  </thead>\n",
       "  <tbody>\n",
       "    <tr>\n",
       "      <th>0</th>\n",
       "      <td>0</td>\n",
       "      <td>0</td>\n",
       "      <td>0</td>\n",
       "      <td>0</td>\n",
       "      <td>0</td>\n",
       "      <td>0</td>\n",
       "      <td>0</td>\n",
       "      <td>0</td>\n",
       "      <td>0</td>\n",
       "      <td>0</td>\n",
       "      <td>...</td>\n",
       "      <td>0</td>\n",
       "      <td>0</td>\n",
       "      <td>0</td>\n",
       "      <td>0</td>\n",
       "      <td>0</td>\n",
       "      <td>0</td>\n",
       "      <td>1</td>\n",
       "      <td>0</td>\n",
       "      <td>0</td>\n",
       "      <td>A</td>\n",
       "    </tr>\n",
       "    <tr>\n",
       "      <th>1</th>\n",
       "      <td>1</td>\n",
       "      <td>0</td>\n",
       "      <td>0</td>\n",
       "      <td>0</td>\n",
       "      <td>0</td>\n",
       "      <td>0</td>\n",
       "      <td>0</td>\n",
       "      <td>0</td>\n",
       "      <td>0</td>\n",
       "      <td>0</td>\n",
       "      <td>...</td>\n",
       "      <td>0</td>\n",
       "      <td>0</td>\n",
       "      <td>0</td>\n",
       "      <td>0</td>\n",
       "      <td>0</td>\n",
       "      <td>2</td>\n",
       "      <td>0</td>\n",
       "      <td>0</td>\n",
       "      <td>0</td>\n",
       "      <td>A</td>\n",
       "    </tr>\n",
       "    <tr>\n",
       "      <th>2</th>\n",
       "      <td>2</td>\n",
       "      <td>0</td>\n",
       "      <td>0</td>\n",
       "      <td>1</td>\n",
       "      <td>0</td>\n",
       "      <td>0</td>\n",
       "      <td>0</td>\n",
       "      <td>0</td>\n",
       "      <td>0</td>\n",
       "      <td>0</td>\n",
       "      <td>...</td>\n",
       "      <td>0</td>\n",
       "      <td>0</td>\n",
       "      <td>0</td>\n",
       "      <td>0</td>\n",
       "      <td>0</td>\n",
       "      <td>0</td>\n",
       "      <td>0</td>\n",
       "      <td>0</td>\n",
       "      <td>0</td>\n",
       "      <td>A</td>\n",
       "    </tr>\n",
       "    <tr>\n",
       "      <th>3</th>\n",
       "      <td>3</td>\n",
       "      <td>0</td>\n",
       "      <td>0</td>\n",
       "      <td>0</td>\n",
       "      <td>0</td>\n",
       "      <td>0</td>\n",
       "      <td>0</td>\n",
       "      <td>0</td>\n",
       "      <td>0</td>\n",
       "      <td>0</td>\n",
       "      <td>...</td>\n",
       "      <td>0</td>\n",
       "      <td>0</td>\n",
       "      <td>0</td>\n",
       "      <td>0</td>\n",
       "      <td>0</td>\n",
       "      <td>0</td>\n",
       "      <td>0</td>\n",
       "      <td>1</td>\n",
       "      <td>0</td>\n",
       "      <td>A</td>\n",
       "    </tr>\n",
       "    <tr>\n",
       "      <th>4</th>\n",
       "      <td>4</td>\n",
       "      <td>0</td>\n",
       "      <td>0</td>\n",
       "      <td>0</td>\n",
       "      <td>1</td>\n",
       "      <td>0</td>\n",
       "      <td>0</td>\n",
       "      <td>0</td>\n",
       "      <td>0</td>\n",
       "      <td>0</td>\n",
       "      <td>...</td>\n",
       "      <td>0</td>\n",
       "      <td>0</td>\n",
       "      <td>0</td>\n",
       "      <td>0</td>\n",
       "      <td>0</td>\n",
       "      <td>0</td>\n",
       "      <td>0</td>\n",
       "      <td>0</td>\n",
       "      <td>0</td>\n",
       "      <td>A</td>\n",
       "    </tr>\n",
       "  </tbody>\n",
       "</table>\n",
       "<p>5 rows × 66 columns</p>\n",
       "</div>"
      ],
      "text/plain": [
       "   Unnamed: 0  pixel0  pixel1  pixel2  pixel3  pixel4  pixel5  pixel6  pixel7  \\\n",
       "0           0       0       0       0       0       0       0       0       0   \n",
       "1           1       0       0       0       0       0       0       0       0   \n",
       "2           2       0       0       1       0       0       0       0       0   \n",
       "3           3       0       0       0       0       0       0       0       0   \n",
       "4           4       0       0       0       1       0       0       0       0   \n",
       "\n",
       "   pixel8  ...  pixel55  pixel56  pixel57  pixel58  pixel59  pixel60  pixel61  \\\n",
       "0       0  ...        0        0        0        0        0        0        1   \n",
       "1       0  ...        0        0        0        0        0        2        0   \n",
       "2       0  ...        0        0        0        0        0        0        0   \n",
       "3       0  ...        0        0        0        0        0        0        0   \n",
       "4       0  ...        0        0        0        0        0        0        0   \n",
       "\n",
       "   pixel62  pixel63  label  \n",
       "0        0        0      A  \n",
       "1        0        0      A  \n",
       "2        0        0      A  \n",
       "3        1        0      A  \n",
       "4        0        0      A  \n",
       "\n",
       "[5 rows x 66 columns]"
      ]
     },
     "execution_count": 25,
     "metadata": {},
     "output_type": "execute_result"
    }
   ],
   "source": [
    "data.head()"
   ]
  },
  {
   "cell_type": "code",
   "execution_count": 26,
   "id": "39e3cd38",
   "metadata": {},
   "outputs": [],
   "source": [
    "data.drop(\"Unnamed: 0\",axis=1,inplace=True)"
   ]
  },
  {
   "cell_type": "code",
   "execution_count": 27,
   "id": "f8841302",
   "metadata": {},
   "outputs": [
    {
     "data": {
      "text/plain": [
       "(372451, 65)"
      ]
     },
     "execution_count": 27,
     "metadata": {},
     "output_type": "execute_result"
    }
   ],
   "source": [
    "data.shape"
   ]
  },
  {
   "cell_type": "code",
   "execution_count": 29,
   "id": "60f21986",
   "metadata": {},
   "outputs": [
    {
     "name": "stdout",
     "output_type": "stream",
     "text": [
      "<class 'pandas.core.frame.DataFrame'>\n",
      "RangeIndex: 372451 entries, 0 to 372450\n",
      "Data columns (total 65 columns):\n",
      " #   Column   Non-Null Count   Dtype \n",
      "---  ------   --------------   ----- \n",
      " 0   pixel0   372451 non-null  int64 \n",
      " 1   pixel1   372451 non-null  int64 \n",
      " 2   pixel2   372451 non-null  int64 \n",
      " 3   pixel3   372451 non-null  int64 \n",
      " 4   pixel4   372451 non-null  int64 \n",
      " 5   pixel5   372451 non-null  int64 \n",
      " 6   pixel6   372451 non-null  int64 \n",
      " 7   pixel7   372451 non-null  int64 \n",
      " 8   pixel8   372451 non-null  int64 \n",
      " 9   pixel9   372451 non-null  int64 \n",
      " 10  pixel10  372451 non-null  int64 \n",
      " 11  pixel11  372451 non-null  int64 \n",
      " 12  pixel12  372451 non-null  int64 \n",
      " 13  pixel13  372451 non-null  int64 \n",
      " 14  pixel14  372451 non-null  int64 \n",
      " 15  pixel15  372451 non-null  int64 \n",
      " 16  pixel16  372451 non-null  int64 \n",
      " 17  pixel17  372451 non-null  int64 \n",
      " 18  pixel18  372451 non-null  int64 \n",
      " 19  pixel19  372451 non-null  int64 \n",
      " 20  pixel20  372451 non-null  int64 \n",
      " 21  pixel21  372451 non-null  int64 \n",
      " 22  pixel22  372451 non-null  int64 \n",
      " 23  pixel23  372451 non-null  int64 \n",
      " 24  pixel24  372451 non-null  int64 \n",
      " 25  pixel25  372451 non-null  int64 \n",
      " 26  pixel26  372451 non-null  int64 \n",
      " 27  pixel27  372451 non-null  int64 \n",
      " 28  pixel28  372451 non-null  int64 \n",
      " 29  pixel29  372451 non-null  int64 \n",
      " 30  pixel30  372451 non-null  int64 \n",
      " 31  pixel31  372451 non-null  int64 \n",
      " 32  pixel32  372451 non-null  int64 \n",
      " 33  pixel33  372451 non-null  int64 \n",
      " 34  pixel34  372451 non-null  int64 \n",
      " 35  pixel35  372451 non-null  int64 \n",
      " 36  pixel36  372451 non-null  int64 \n",
      " 37  pixel37  372451 non-null  int64 \n",
      " 38  pixel38  372451 non-null  int64 \n",
      " 39  pixel39  372451 non-null  int64 \n",
      " 40  pixel40  372451 non-null  int64 \n",
      " 41  pixel41  372451 non-null  int64 \n",
      " 42  pixel42  372451 non-null  int64 \n",
      " 43  pixel43  372451 non-null  int64 \n",
      " 44  pixel44  372451 non-null  int64 \n",
      " 45  pixel45  372451 non-null  int64 \n",
      " 46  pixel46  372451 non-null  int64 \n",
      " 47  pixel47  372451 non-null  int64 \n",
      " 48  pixel48  372451 non-null  int64 \n",
      " 49  pixel49  372451 non-null  int64 \n",
      " 50  pixel50  372451 non-null  int64 \n",
      " 51  pixel51  372451 non-null  int64 \n",
      " 52  pixel52  372451 non-null  int64 \n",
      " 53  pixel53  372451 non-null  int64 \n",
      " 54  pixel54  372451 non-null  int64 \n",
      " 55  pixel55  372451 non-null  int64 \n",
      " 56  pixel56  372451 non-null  int64 \n",
      " 57  pixel57  372451 non-null  int64 \n",
      " 58  pixel58  372451 non-null  int64 \n",
      " 59  pixel59  372451 non-null  int64 \n",
      " 60  pixel60  372451 non-null  int64 \n",
      " 61  pixel61  372451 non-null  int64 \n",
      " 62  pixel62  372451 non-null  int64 \n",
      " 63  pixel63  372451 non-null  int64 \n",
      " 64  label    372451 non-null  object\n",
      "dtypes: int64(64), object(1)\n",
      "memory usage: 184.7+ MB\n"
     ]
    }
   ],
   "source": [
    "data.info()"
   ]
  },
  {
   "cell_type": "code",
   "execution_count": 30,
   "id": "eb617ccd",
   "metadata": {},
   "outputs": [
    {
     "data": {
      "text/plain": [
       "O    57825\n",
       "S    48419\n",
       "U    29008\n",
       "C    23409\n",
       "T    22495\n",
       "P    19341\n",
       "N    19010\n",
       "A    13870\n",
       "M    12336\n",
       "L    11586\n",
       "R    11566\n",
       "E    11440\n",
       "Y    10859\n",
       "W    10784\n",
       "D    10134\n",
       "B     8668\n",
       "J     8493\n",
       "H     7218\n",
       "X     6272\n",
       "Z     6076\n",
       "Q     5812\n",
       "G     5762\n",
       "K     5603\n",
       "V     4182\n",
       "F     1163\n",
       "I     1120\n",
       "Name: label, dtype: int64"
      ]
     },
     "execution_count": 30,
     "metadata": {},
     "output_type": "execute_result"
    }
   ],
   "source": [
    "data[\"label\"].value_counts()"
   ]
  },
  {
   "cell_type": "code",
   "execution_count": 31,
   "id": "b123fd39",
   "metadata": {},
   "outputs": [],
   "source": [
    "from matplotlib import pyplot as plt\n",
    "import seaborn as sns"
   ]
  },
  {
   "cell_type": "code",
   "execution_count": 32,
   "id": "a9ce1d43",
   "metadata": {},
   "outputs": [
    {
     "data": {
      "text/plain": [
       "<AxesSubplot:xlabel='label', ylabel='count'>"
      ]
     },
     "execution_count": 32,
     "metadata": {},
     "output_type": "execute_result"
    },
    {
     "data": {
      "image/png": "[encoded data removed]",
      "text/plain": [
       "<Figure size 640x480 with 1 Axes>"
      ]
     },
     "metadata": {},
     "output_type": "display_data"
    }
   ],
   "source": [
    "sns.countplot(data=data,x=\"label\")"
   ]
  },
  {
   "cell_type": "code",
   "execution_count": 33,
   "id": "b96215e3",
   "metadata": {},
   "outputs": [],
   "source": [
    "X=data.drop(\"label\",axis=1)\n",
    "y=df[\"label\"]"
   ]
  },
  {
   "cell_type": "markdown",
   "id": "d2e81db8",
   "metadata": {},
   "source": [
    "# Data Split into Train and Test"
   ]
  },
  {
   "cell_type": "code",
   "execution_count": 34,
   "id": "094294d4",
   "metadata": {},
   "outputs": [],
   "source": [
    "from sklearn.model_selection import train_test_split"
   ]
  },
  {
   "cell_type": "code",
   "execution_count": 35,
   "id": "3eee368f",
   "metadata": {},
   "outputs": [],
   "source": [
    "X_train,X_test,y_train,y_test=train_test_split(X,y,test_size=0.25,random_state=100)"
   ]
  },
  {
   "cell_type": "markdown",
   "id": "91ad8655",
   "metadata": {},
   "source": [
    "# BUILDING THE MODEL"
   ]
  },
  {
   "cell_type": "markdown",
   "id": "1e75441d",
   "metadata": {},
   "source": [
    "## `Logistic Regression`"
   ]
  },
  {
   "cell_type": "code",
   "execution_count": 36,
   "id": "6ba20551",
   "metadata": {},
   "outputs": [
    {
     "name": "stdout",
     "output_type": "stream",
     "text": [
      "Wall time: 32.1 s\n"
     ]
    },
    {
     "name": "stderr",
     "output_type": "stream",
     "text": [
      "B:\\Data Science doc\\lib\\site-packages\\sklearn\\linear_model\\_logistic.py:458: ConvergenceWarning: lbfgs failed to converge (status=1):\n",
      "STOP: TOTAL NO. of ITERATIONS REACHED LIMIT.\n",
      "\n",
      "Increase the number of iterations (max_iter) or scale the data as shown in:\n",
      "    https://scikit-learn.org/stable/modules/preprocessing.html\n",
      "Please also refer to the documentation for alternative solver options:\n",
      "    https://scikit-learn.org/stable/modules/linear_model.html#logistic-regression\n",
      "  n_iter_i = _check_optimize_result(\n"
     ]
    },
    {
     "data": {
      "text/html": [
       "<style>#sk-container-id-1 {color: black;background-color: white;}#sk-container-id-1 pre{padding: 0;}#sk-container-id-1 div.sk-toggleable {background-color: white;}#sk-container-id-1 label.sk-toggleable__label {cursor: pointer;display: block;width: 100%;margin-bottom: 0;padding: 0.3em;box-sizing: border-box;text-align: center;}#sk-container-id-1 label.sk-toggleable__label-arrow:before {content: \"▸\";float: left;margin-right: 0.25em;color: #696969;}#sk-container-id-1 label.sk-toggleable__label-arrow:hover:before {color: black;}#sk-container-id-1 div.sk-estimator:hover label.sk-toggleable__label-arrow:before {color: black;}#sk-container-id-1 div.sk-toggleable__content {max-height: 0;max-width: 0;overflow: hidden;text-align: left;background-color: #f0f8ff;}#sk-container-id-1 div.sk-toggleable__content pre {margin: 0.2em;color: black;border-radius: 0.25em;background-color: #f0f8ff;}#sk-container-id-1 input.sk-toggleable__control:checked~div.sk-toggleable__content {max-height: 200px;max-width: 100%;overflow: auto;}#sk-container-id-1 input.sk-toggleable__control:checked~label.sk-toggleable__label-arrow:before {content: \"▾\";}#sk-container-id-1 div.sk-estimator input.sk-toggleable__control:checked~label.sk-toggleable__label {background-color: #d4ebff;}#sk-container-id-1 div.sk-label input.sk-toggleable__control:checked~label.sk-toggleable__label {background-color: #d4ebff;}#sk-container-id-1 input.sk-hidden--visually {border: 0;clip: rect(1px 1px 1px 1px);clip: rect(1px, 1px, 1px, 1px);height: 1px;margin: -1px;overflow: hidden;padding: 0;position: absolute;width: 1px;}#sk-container-id-1 div.sk-estimator {font-family: monospace;background-color: #f0f8ff;border: 1px dotted black;border-radius: 0.25em;box-sizing: border-box;margin-bottom: 0.5em;}#sk-container-id-1 div.sk-estimator:hover {background-color: #d4ebff;}#sk-container-id-1 div.sk-parallel-item::after {content: \"\";width: 100%;border-bottom: 1px solid gray;flex-grow: 1;}#sk-container-id-1 div.sk-label:hover label.sk-toggleable__label {background-color: #d4ebff;}#sk-container-id-1 div.sk-serial::before {content: \"\";position: absolute;border-left: 1px solid gray;box-sizing: border-box;top: 0;bottom: 0;left: 50%;z-index: 0;}#sk-container-id-1 div.sk-serial {display: flex;flex-direction: column;align-items: center;background-color: white;padding-right: 0.2em;padding-left: 0.2em;position: relative;}#sk-container-id-1 div.sk-item {position: relative;z-index: 1;}#sk-container-id-1 div.sk-parallel {display: flex;align-items: stretch;justify-content: center;background-color: white;position: relative;}#sk-container-id-1 div.sk-item::before, #sk-container-id-1 div.sk-parallel-item::before {content: \"\";position: absolute;border-left: 1px solid gray;box-sizing: border-box;top: 0;bottom: 0;left: 50%;z-index: -1;}#sk-container-id-1 div.sk-parallel-item {display: flex;flex-direction: column;z-index: 1;position: relative;background-color: white;}#sk-container-id-1 div.sk-parallel-item:first-child::after {align-self: flex-end;width: 50%;}#sk-container-id-1 div.sk-parallel-item:last-child::after {align-self: flex-start;width: 50%;}#sk-container-id-1 div.sk-parallel-item:only-child::after {width: 0;}#sk-container-id-1 div.sk-dashed-wrapped {border: 1px dashed gray;margin: 0 0.4em 0.5em 0.4em;box-sizing: border-box;padding-bottom: 0.4em;background-color: white;}#sk-container-id-1 div.sk-label label {font-family: monospace;font-weight: bold;display: inline-block;line-height: 1.2em;}#sk-container-id-1 div.sk-label-container {text-align: center;}#sk-container-id-1 div.sk-container {/* jupyter's `normalize.less` sets `[hidden] { display: none; }` but bootstrap.min.css set `[hidden] { display: none !important; }` so we also need the `!important` here to be able to override the default hidden behavior on the sphinx rendered scikit-learn.org. See: https://github.com/scikit-learn/scikit-learn/issues/21755 */display: inline-block !important;position: relative;}#sk-container-id-1 div.sk-text-repr-fallback {display: none;}</style><div id=\"sk-container-id-1\" class=\"sk-top-container\"><div class=\"sk-text-repr-fallback\"><pre>LogisticRegression()</pre><b>In a Jupyter environment, please rerun this cell to show the HTML representation or trust the notebook. <br />On GitHub, the HTML representation is unable to render, please try loading this page with nbviewer.org.</b></div><div class=\"sk-container\" hidden><div class=\"sk-item\"><div class=\"sk-estimator sk-toggleable\"><input class=\"sk-toggleable__control sk-hidden--visually\" id=\"sk-estimator-id-1\" type=\"checkbox\" checked><label for=\"sk-estimator-id-1\" class=\"sk-toggleable__label sk-toggleable__label-arrow\">LogisticRegression</label><div class=\"sk-toggleable__content\"><pre>LogisticRegression()</pre></div></div></div></div></div>"
      ],
      "text/plain": [
       "LogisticRegression()"
      ]
     },
     "execution_count": 36,
     "metadata": {},
     "output_type": "execute_result"
    }
   ],
   "source": [
    "%%time\n",
    "from sklearn.linear_model import LogisticRegression\n",
    "lrc=LogisticRegression()\n",
    "lrc.fit(X_train,y_train)"
   ]
  },
  {
   "cell_type": "code",
   "execution_count": 47,
   "id": "4a153641",
   "metadata": {},
   "outputs": [],
   "source": [
    "from sklearn.metrics import accuracy_score,confusion_matrix,precision_score, recall_score,classification_report"
   ]
  },
  {
   "cell_type": "code",
   "execution_count": 38,
   "id": "c9204bf8",
   "metadata": {},
   "outputs": [
    {
     "name": "stdout",
     "output_type": "stream",
     "text": [
      "Wall time: 128 ms\n"
     ]
    },
    {
     "data": {
      "text/plain": [
       "array(['N', 'S', 'O', ..., 'E', 'A', 'O'], dtype=object)"
      ]
     },
     "execution_count": 38,
     "metadata": {},
     "output_type": "execute_result"
    }
   ],
   "source": [
    "%%time\n",
    "y_pred_lrc=lrc.predict(X_test)\n",
    "y_pred_lrc"
   ]
  },
  {
   "cell_type": "code",
   "execution_count": 39,
   "id": "8d0e7e34",
   "metadata": {},
   "outputs": [
    {
     "data": {
      "text/plain": [
       "0.4376617658114334"
      ]
     },
     "execution_count": 39,
     "metadata": {},
     "output_type": "execute_result"
    }
   ],
   "source": [
    "accuracy_score(y_test,y_pred_lrc)"
   ]
  },
  {
   "cell_type": "code",
   "execution_count": 40,
   "id": "d3d1b0e5",
   "metadata": {
    "collapsed": true
   },
   "outputs": [
    {
     "data": {
      "text/plain": [
       "array([[ 1354,    22,    53,     5,    50,     4,     6,    74,     3,\n",
       "           14,    10,    63,   137,   310,   332,   171,    34,   187,\n",
       "          256,    77,   115,     5,    19,    66,    91,    17],\n",
       "       [   91,   422,    79,   115,    84,     0,    28,    20,     0,\n",
       "           13,     4,    36,    76,    50,   290,   164,     8,    55,\n",
       "          382,    52,    62,     4,    28,    16,    37,    35],\n",
       "       [   44,   177,  2084,    15,   190,     9,   114,    10,     5,\n",
       "           84,     4,   129,    95,    45,  1311,    65,    54,    66,\n",
       "          874,    71,   414,     3,    33,     2,    35,    18],\n",
       "       [   52,   100,    59,   470,    32,     0,    28,     4,     0,\n",
       "           18,     4,    50,   120,    55,   790,   134,    15,    13,\n",
       "          218,    93,    94,     9,    78,     6,    41,    31],\n",
       "       [   84,   103,   161,    22,   589,     4,    22,    31,     2,\n",
       "           32,    14,    87,    57,   115,   414,   164,    19,    96,\n",
       "          477,   161,   107,    10,    15,    18,    46,    26],\n",
       "       [    4,     1,     1,     2,    70,    15,     1,     0,     0,\n",
       "            7,     1,     0,     1,     7,     3,    61,     0,     3,\n",
       "           13,    72,     8,     2,     5,     1,     5,     1],\n",
       "       [   27,    57,   192,    20,    34,     0,   167,     2,     0,\n",
       "           15,     0,    12,    21,    20,   265,    42,    28,    15,\n",
       "          275,    16,   171,     2,    14,     1,     9,     3],\n",
       "       [  252,     7,     9,     0,    23,     0,     3,   222,     1,\n",
       "           14,    20,    22,    32,   323,   113,    77,    10,    43,\n",
       "           99,    88,   233,    19,    19,    37,   120,    13],\n",
       "       [    2,    13,     3,    13,    63,     0,     0,     0,    21,\n",
       "            7,     1,    20,     0,     1,     5,    10,     0,    18,\n",
       "           73,    41,     8,     0,     0,     8,     3,     5],\n",
       "       [   24,    69,    73,    43,    85,     2,    25,     9,     3,\n",
       "          209,     4,    30,    22,    49,   263,    67,    14,     8,\n",
       "          396,   382,   223,    11,    33,     7,    77,     5],\n",
       "       [   80,     2,    24,     3,    27,     2,     2,    40,     0,\n",
       "           15,   229,    43,    23,   181,    62,    58,     5,    95,\n",
       "          104,    88,   124,     7,    14,    48,    85,    20],\n",
       "       [  164,    37,   210,    10,    50,     9,    26,    29,     3,\n",
       "           17,    35,   743,    42,    20,   288,    89,    36,   116,\n",
       "          361,    67,   285,    24,    11,    37,    96,   109],\n",
       "       [  127,     3,   102,     5,    17,     2,     2,    16,     0,\n",
       "            3,    20,    19,  1604,   194,   216,    18,    13,    62,\n",
       "          113,    53,   168,     9,   193,    18,    17,    19],\n",
       "       [  287,     4,    34,     8,    74,     2,     3,   120,     0,\n",
       "           16,    33,    32,   292,  2008,   374,   169,    18,   101,\n",
       "          439,   152,   308,    35,   173,    39,    42,    14],\n",
       "       [  225,   100,   460,    84,   148,     9,    70,    34,     4,\n",
       "           38,    12,    73,   229,   166, 10377,   111,    24,    60,\n",
       "         1234,   132,   475,    35,   104,    23,    82,    37],\n",
       "       [  102,   101,    14,    70,    98,     6,     5,    41,     2,\n",
       "           20,     4,     7,    23,   255,   294,  2530,    25,    69,\n",
       "          367,   299,    71,    21,    92,    26,   252,    24],\n",
       "       [   29,    12,   155,     9,    40,     1,    24,    20,     0,\n",
       "            4,     3,    13,    28,    24,   209,   122,   275,    71,\n",
       "          166,    35,   135,     8,    60,     5,     6,     4],\n",
       "       [  215,    33,    81,    13,   117,    10,     4,    27,     3,\n",
       "            2,    40,    71,   103,   229,   164,   286,    40,   816,\n",
       "          219,    76,   138,     3,    25,    39,    33,    43],\n",
       "       [  201,   385,   411,    99,   274,     3,   172,    32,     7,\n",
       "          140,    15,   129,   164,   289,  1394,   375,    61,    97,\n",
       "         6706,   333,   464,    36,    90,    55,   162,    36],\n",
       "       [   56,    16,    20,    34,    62,     6,     3,     8,     2,\n",
       "           30,    15,    16,    16,   124,   243,   240,    42,    18,\n",
       "          321,  3575,   226,    36,   126,    24,   316,    40],\n",
       "       [  117,    24,   404,    41,    97,     8,    28,   128,     0,\n",
       "           76,    30,   159,   199,   295,  1362,    89,    60,    83,\n",
       "          557,   251,  2610,    77,   290,    54,   200,    74],\n",
       "       [   33,     2,    20,     1,    10,     2,     6,     7,     0,\n",
       "            9,     1,    11,    22,    36,    44,     9,     8,     2,\n",
       "           17,   135,   111,   438,    82,    16,    24,    13],\n",
       "       [   31,     1,    32,    14,     9,     0,     1,    26,     0,\n",
       "            3,    14,     5,   165,   255,   159,    39,    16,     8,\n",
       "           64,   216,   236,    16,  1317,    14,    14,    22],\n",
       "       [  109,     6,    13,     7,    22,     2,     0,    20,     0,\n",
       "            8,    29,    46,    17,    35,    23,    82,    12,    54,\n",
       "          170,   149,    86,    21,    17,   417,   234,    40],\n",
       "       [   28,    20,    15,     4,    27,     0,     9,    17,     0,\n",
       "           48,     5,    52,    12,    38,    94,   259,    10,     3,\n",
       "          143,   398,   173,    25,     6,    92,  1166,    24],\n",
       "       [   31,    72,    45,    72,    32,     1,     2,     8,     5,\n",
       "            9,    23,   130,    30,     4,    94,    41,    16,    90,\n",
       "          135,    88,   151,    12,    11,    52,    47,   388]],\n",
       "      dtype=int64)"
      ]
     },
     "execution_count": 40,
     "metadata": {},
     "output_type": "execute_result"
    }
   ],
   "source": [
    "confusion_matrix(y_test,y_pred_lrc)"
   ]
  },
  {
   "cell_type": "code",
   "execution_count": 41,
   "id": "5e7dd096",
   "metadata": {},
   "outputs": [
    {
     "data": {
      "text/html": [
       "<div>\n",
       "<style scoped>\n",
       "    .dataframe tbody tr th:only-of-type {\n",
       "        vertical-align: middle;\n",
       "    }\n",
       "\n",
       "    .dataframe tbody tr th {\n",
       "        vertical-align: top;\n",
       "    }\n",
       "\n",
       "    .dataframe thead th {\n",
       "        text-align: right;\n",
       "    }\n",
       "</style>\n",
       "<table border=\"1\" class=\"dataframe\">\n",
       "  <thead>\n",
       "    <tr style=\"text-align: right;\">\n",
       "      <th></th>\n",
       "      <th>Actual</th>\n",
       "      <th>Predicted</th>\n",
       "    </tr>\n",
       "  </thead>\n",
       "  <tbody>\n",
       "    <tr>\n",
       "      <th>129113</th>\n",
       "      <td>N</td>\n",
       "      <td>N</td>\n",
       "    </tr>\n",
       "    <tr>\n",
       "      <th>250873</th>\n",
       "      <td>S</td>\n",
       "      <td>S</td>\n",
       "    </tr>\n",
       "    <tr>\n",
       "      <th>89920</th>\n",
       "      <td>J</td>\n",
       "      <td>O</td>\n",
       "    </tr>\n",
       "    <tr>\n",
       "      <th>97176</th>\n",
       "      <td>L</td>\n",
       "      <td>M</td>\n",
       "    </tr>\n",
       "    <tr>\n",
       "      <th>136486</th>\n",
       "      <td>N</td>\n",
       "      <td>K</td>\n",
       "    </tr>\n",
       "    <tr>\n",
       "      <th>218406</th>\n",
       "      <td>Q</td>\n",
       "      <td>Q</td>\n",
       "    </tr>\n",
       "    <tr>\n",
       "      <th>89153</th>\n",
       "      <td>J</td>\n",
       "      <td>O</td>\n",
       "    </tr>\n",
       "    <tr>\n",
       "      <th>103427</th>\n",
       "      <td>L</td>\n",
       "      <td>O</td>\n",
       "    </tr>\n",
       "    <tr>\n",
       "      <th>254515</th>\n",
       "      <td>S</td>\n",
       "      <td>G</td>\n",
       "    </tr>\n",
       "    <tr>\n",
       "      <th>203992</th>\n",
       "      <td>P</td>\n",
       "      <td>W</td>\n",
       "    </tr>\n",
       "  </tbody>\n",
       "</table>\n",
       "</div>"
      ],
      "text/plain": [
       "       Actual Predicted\n",
       "129113      N         N\n",
       "250873      S         S\n",
       "89920       J         O\n",
       "97176       L         M\n",
       "136486      N         K\n",
       "218406      Q         Q\n",
       "89153       J         O\n",
       "103427      L         O\n",
       "254515      S         G\n",
       "203992      P         W"
      ]
     },
     "execution_count": 41,
     "metadata": {},
     "output_type": "execute_result"
    }
   ],
   "source": [
    "temp_df=pd.DataFrame({\"Actual\":y_test,\"Predicted\":y_pred_lrc})\n",
    "temp_df.head(10)"
   ]
  },
  {
   "cell_type": "code",
   "execution_count": 56,
   "id": "dc87dc13",
   "metadata": {},
   "outputs": [
    {
     "data": {
      "text/plain": [
       "<AxesSubplot:xlabel='label', ylabel='Count'>"
      ]
     },
     "execution_count": 56,
     "metadata": {},
     "output_type": "execute_result"
    },
    {
     "data": {
      "image/png": "[encoded data removed]",
      "text/plain": [
       "<Figure size 640x480 with 1 Axes>"
      ]
     },
     "metadata": {},
     "output_type": "display_data"
    }
   ],
   "source": [
    "sns.histplot(y_test,color='blue',alpha=0.5)\n",
    "sns.histplot(y_pred_lrc,color='red',alpha=0.5)"
   ]
  },
  {
   "cell_type": "code",
   "execution_count": 49,
   "id": "3afa8304",
   "metadata": {},
   "outputs": [
    {
     "name": "stdout",
     "output_type": "stream",
     "text": [
      "              precision    recall  f1-score   support\n",
      "\n",
      "           A       0.36      0.39      0.37      3475\n",
      "           B       0.24      0.20      0.21      2151\n",
      "           C       0.44      0.35      0.39      5951\n",
      "           D       0.40      0.19      0.25      2514\n",
      "           E       0.25      0.20      0.23      2876\n",
      "           F       0.15      0.05      0.08       284\n",
      "           G       0.22      0.12      0.15      1408\n",
      "           H       0.23      0.12      0.16      1799\n",
      "           I       0.34      0.07      0.11       315\n",
      "           J       0.25      0.10      0.14      2133\n",
      "           K       0.40      0.17      0.23      1381\n",
      "           L       0.37      0.25      0.30      2914\n",
      "           M       0.45      0.53      0.49      3013\n",
      "           N       0.39      0.42      0.41      4777\n",
      "           O       0.54      0.72      0.62     14346\n",
      "           P       0.46      0.53      0.49      4818\n",
      "           Q       0.33      0.19      0.24      1458\n",
      "           R       0.36      0.29      0.32      2830\n",
      "           S       0.47      0.55      0.51     12130\n",
      "           T       0.50      0.64      0.56      5615\n",
      "           U       0.36      0.36      0.36      7313\n",
      "           V       0.50      0.41      0.45      1059\n",
      "           W       0.46      0.49      0.48      2677\n",
      "           X       0.37      0.26      0.30      1619\n",
      "           Y       0.36      0.44      0.39      2668\n",
      "           Z       0.37      0.24      0.29      1589\n",
      "\n",
      "    accuracy                           0.44     93113\n",
      "   macro avg       0.37      0.32      0.33     93113\n",
      "weighted avg       0.42      0.44      0.42     93113\n",
      "\n"
     ]
    }
   ],
   "source": [
    "print(classification_report(y_test,y_pred_lrc))"
   ]
  },
  {
   "cell_type": "markdown",
   "id": "2859fdec",
   "metadata": {},
   "source": [
    "## `KNN Clasification`"
   ]
  },
  {
   "cell_type": "code",
   "execution_count": 50,
   "id": "e894d4e6",
   "metadata": {},
   "outputs": [
    {
     "name": "stdout",
     "output_type": "stream",
     "text": [
      "Wall time: 1.19 s\n"
     ]
    },
    {
     "data": {
      "text/html": [
       "<style>#sk-container-id-2 {color: black;background-color: white;}#sk-container-id-2 pre{padding: 0;}#sk-container-id-2 div.sk-toggleable {background-color: white;}#sk-container-id-2 label.sk-toggleable__label {cursor: pointer;display: block;width: 100%;margin-bottom: 0;padding: 0.3em;box-sizing: border-box;text-align: center;}#sk-container-id-2 label.sk-toggleable__label-arrow:before {content: \"▸\";float: left;margin-right: 0.25em;color: #696969;}#sk-container-id-2 label.sk-toggleable__label-arrow:hover:before {color: black;}#sk-container-id-2 div.sk-estimator:hover label.sk-toggleable__label-arrow:before {color: black;}#sk-container-id-2 div.sk-toggleable__content {max-height: 0;max-width: 0;overflow: hidden;text-align: left;background-color: #f0f8ff;}#sk-container-id-2 div.sk-toggleable__content pre {margin: 0.2em;color: black;border-radius: 0.25em;background-color: #f0f8ff;}#sk-container-id-2 input.sk-toggleable__control:checked~div.sk-toggleable__content {max-height: 200px;max-width: 100%;overflow: auto;}#sk-container-id-2 input.sk-toggleable__control:checked~label.sk-toggleable__label-arrow:before {content: \"▾\";}#sk-container-id-2 div.sk-estimator input.sk-toggleable__control:checked~label.sk-toggleable__label {background-color: #d4ebff;}#sk-container-id-2 div.sk-label input.sk-toggleable__control:checked~label.sk-toggleable__label {background-color: #d4ebff;}#sk-container-id-2 input.sk-hidden--visually {border: 0;clip: rect(1px 1px 1px 1px);clip: rect(1px, 1px, 1px, 1px);height: 1px;margin: -1px;overflow: hidden;padding: 0;position: absolute;width: 1px;}#sk-container-id-2 div.sk-estimator {font-family: monospace;background-color: #f0f8ff;border: 1px dotted black;border-radius: 0.25em;box-sizing: border-box;margin-bottom: 0.5em;}#sk-container-id-2 div.sk-estimator:hover {background-color: #d4ebff;}#sk-container-id-2 div.sk-parallel-item::after {content: \"\";width: 100%;border-bottom: 1px solid gray;flex-grow: 1;}#sk-container-id-2 div.sk-label:hover label.sk-toggleable__label {background-color: #d4ebff;}#sk-container-id-2 div.sk-serial::before {content: \"\";position: absolute;border-left: 1px solid gray;box-sizing: border-box;top: 0;bottom: 0;left: 50%;z-index: 0;}#sk-container-id-2 div.sk-serial {display: flex;flex-direction: column;align-items: center;background-color: white;padding-right: 0.2em;padding-left: 0.2em;position: relative;}#sk-container-id-2 div.sk-item {position: relative;z-index: 1;}#sk-container-id-2 div.sk-parallel {display: flex;align-items: stretch;justify-content: center;background-color: white;position: relative;}#sk-container-id-2 div.sk-item::before, #sk-container-id-2 div.sk-parallel-item::before {content: \"\";position: absolute;border-left: 1px solid gray;box-sizing: border-box;top: 0;bottom: 0;left: 50%;z-index: -1;}#sk-container-id-2 div.sk-parallel-item {display: flex;flex-direction: column;z-index: 1;position: relative;background-color: white;}#sk-container-id-2 div.sk-parallel-item:first-child::after {align-self: flex-end;width: 50%;}#sk-container-id-2 div.sk-parallel-item:last-child::after {align-self: flex-start;width: 50%;}#sk-container-id-2 div.sk-parallel-item:only-child::after {width: 0;}#sk-container-id-2 div.sk-dashed-wrapped {border: 1px dashed gray;margin: 0 0.4em 0.5em 0.4em;box-sizing: border-box;padding-bottom: 0.4em;background-color: white;}#sk-container-id-2 div.sk-label label {font-family: monospace;font-weight: bold;display: inline-block;line-height: 1.2em;}#sk-container-id-2 div.sk-label-container {text-align: center;}#sk-container-id-2 div.sk-container {/* jupyter's `normalize.less` sets `[hidden] { display: none; }` but bootstrap.min.css set `[hidden] { display: none !important; }` so we also need the `!important` here to be able to override the default hidden behavior on the sphinx rendered scikit-learn.org. See: https://github.com/scikit-learn/scikit-learn/issues/21755 */display: inline-block !important;position: relative;}#sk-container-id-2 div.sk-text-repr-fallback {display: none;}</style><div id=\"sk-container-id-2\" class=\"sk-top-container\"><div class=\"sk-text-repr-fallback\"><pre>KNeighborsClassifier()</pre><b>In a Jupyter environment, please rerun this cell to show the HTML representation or trust the notebook. <br />On GitHub, the HTML representation is unable to render, please try loading this page with nbviewer.org.</b></div><div class=\"sk-container\" hidden><div class=\"sk-item\"><div class=\"sk-estimator sk-toggleable\"><input class=\"sk-toggleable__control sk-hidden--visually\" id=\"sk-estimator-id-2\" type=\"checkbox\" checked><label for=\"sk-estimator-id-2\" class=\"sk-toggleable__label sk-toggleable__label-arrow\">KNeighborsClassifier</label><div class=\"sk-toggleable__content\"><pre>KNeighborsClassifier()</pre></div></div></div></div></div>"
      ],
      "text/plain": [
       "KNeighborsClassifier()"
      ]
     },
     "execution_count": 50,
     "metadata": {},
     "output_type": "execute_result"
    }
   ],
   "source": [
    "%%time\n",
    "from sklearn.neighbors import KNeighborsClassifier\n",
    "knc=KNeighborsClassifier()\n",
    "knc.fit(X_train,y_train)"
   ]
  },
  {
   "cell_type": "code",
   "execution_count": 51,
   "id": "4e735f3b",
   "metadata": {},
   "outputs": [
    {
     "name": "stdout",
     "output_type": "stream",
     "text": [
      "Wall time: 185 ms\n"
     ]
    },
    {
     "data": {
      "text/plain": [
       "array(['N', 'S', 'O', ..., 'E', 'A', 'O'], dtype=object)"
      ]
     },
     "execution_count": 51,
     "metadata": {},
     "output_type": "execute_result"
    }
   ],
   "source": [
    "%%time\n",
    "y_pred_knc=lrc.predict(X_test)\n",
    "y_pred_knc"
   ]
  },
  {
   "cell_type": "code",
   "execution_count": 52,
   "id": "f9f4a46b",
   "metadata": {},
   "outputs": [
    {
     "data": {
      "text/plain": [
       "0.4376617658114334"
      ]
     },
     "execution_count": 52,
     "metadata": {},
     "output_type": "execute_result"
    }
   ],
   "source": [
    "accuracy_score(y_test,y_pred_knc)"
   ]
  },
  {
   "cell_type": "code",
   "execution_count": 53,
   "id": "1446a17c",
   "metadata": {},
   "outputs": [
    {
     "data": {
      "text/html": [
       "<div>\n",
       "<style scoped>\n",
       "    .dataframe tbody tr th:only-of-type {\n",
       "        vertical-align: middle;\n",
       "    }\n",
       "\n",
       "    .dataframe tbody tr th {\n",
       "        vertical-align: top;\n",
       "    }\n",
       "\n",
       "    .dataframe thead th {\n",
       "        text-align: right;\n",
       "    }\n",
       "</style>\n",
       "<table border=\"1\" class=\"dataframe\">\n",
       "  <thead>\n",
       "    <tr style=\"text-align: right;\">\n",
       "      <th></th>\n",
       "      <th>Actual</th>\n",
       "      <th>Predicted</th>\n",
       "    </tr>\n",
       "  </thead>\n",
       "  <tbody>\n",
       "    <tr>\n",
       "      <th>129113</th>\n",
       "      <td>N</td>\n",
       "      <td>N</td>\n",
       "    </tr>\n",
       "    <tr>\n",
       "      <th>250873</th>\n",
       "      <td>S</td>\n",
       "      <td>S</td>\n",
       "    </tr>\n",
       "    <tr>\n",
       "      <th>89920</th>\n",
       "      <td>J</td>\n",
       "      <td>O</td>\n",
       "    </tr>\n",
       "    <tr>\n",
       "      <th>97176</th>\n",
       "      <td>L</td>\n",
       "      <td>M</td>\n",
       "    </tr>\n",
       "    <tr>\n",
       "      <th>136486</th>\n",
       "      <td>N</td>\n",
       "      <td>K</td>\n",
       "    </tr>\n",
       "    <tr>\n",
       "      <th>218406</th>\n",
       "      <td>Q</td>\n",
       "      <td>Q</td>\n",
       "    </tr>\n",
       "    <tr>\n",
       "      <th>89153</th>\n",
       "      <td>J</td>\n",
       "      <td>O</td>\n",
       "    </tr>\n",
       "    <tr>\n",
       "      <th>103427</th>\n",
       "      <td>L</td>\n",
       "      <td>O</td>\n",
       "    </tr>\n",
       "    <tr>\n",
       "      <th>254515</th>\n",
       "      <td>S</td>\n",
       "      <td>G</td>\n",
       "    </tr>\n",
       "    <tr>\n",
       "      <th>203992</th>\n",
       "      <td>P</td>\n",
       "      <td>W</td>\n",
       "    </tr>\n",
       "  </tbody>\n",
       "</table>\n",
       "</div>"
      ],
      "text/plain": [
       "       Actual Predicted\n",
       "129113      N         N\n",
       "250873      S         S\n",
       "89920       J         O\n",
       "97176       L         M\n",
       "136486      N         K\n",
       "218406      Q         Q\n",
       "89153       J         O\n",
       "103427      L         O\n",
       "254515      S         G\n",
       "203992      P         W"
      ]
     },
     "execution_count": 53,
     "metadata": {},
     "output_type": "execute_result"
    }
   ],
   "source": [
    "temp_df1=pd.DataFrame({\"Actual\":y_test,\"Predicted\":y_pred_knc})\n",
    "temp_df1.head(10)"
   ]
  },
  {
   "cell_type": "code",
   "execution_count": 55,
   "id": "640a71d0",
   "metadata": {},
   "outputs": [
    {
     "data": {
      "text/plain": [
       "<AxesSubplot:xlabel='label', ylabel='Count'>"
      ]
     },
     "execution_count": 55,
     "metadata": {},
     "output_type": "execute_result"
    },
    {
     "data": {
      "image/png": "[encoded data removed]",
      "text/plain": [
       "<Figure size 640x480 with 1 Axes>"
      ]
     },
     "metadata": {},
     "output_type": "display_data"
    }
   ],
   "source": [
    "sns.histplot(y_test,color='blue',alpha=0.5)\n",
    "sns.histplot(y_pred_knc,color='red',alpha=0.5)"
   ]
  },
  {
   "cell_type": "markdown",
   "id": "36716d39",
   "metadata": {},
   "source": [
    "## `Decision Tree Classification`"
   ]
  },
  {
   "cell_type": "code",
   "execution_count": 57,
   "id": "e11410b3",
   "metadata": {},
   "outputs": [
    {
     "name": "stdout",
     "output_type": "stream",
     "text": [
      "Wall time: 22.2 s\n"
     ]
    },
    {
     "data": {
      "text/html": [
       "<style>#sk-container-id-3 {color: black;background-color: white;}#sk-container-id-3 pre{padding: 0;}#sk-container-id-3 div.sk-toggleable {background-color: white;}#sk-container-id-3 label.sk-toggleable__label {cursor: pointer;display: block;width: 100%;margin-bottom: 0;padding: 0.3em;box-sizing: border-box;text-align: center;}#sk-container-id-3 label.sk-toggleable__label-arrow:before {content: \"▸\";float: left;margin-right: 0.25em;color: #696969;}#sk-container-id-3 label.sk-toggleable__label-arrow:hover:before {color: black;}#sk-container-id-3 div.sk-estimator:hover label.sk-toggleable__label-arrow:before {color: black;}#sk-container-id-3 div.sk-toggleable__content {max-height: 0;max-width: 0;overflow: hidden;text-align: left;background-color: #f0f8ff;}#sk-container-id-3 div.sk-toggleable__content pre {margin: 0.2em;color: black;border-radius: 0.25em;background-color: #f0f8ff;}#sk-container-id-3 input.sk-toggleable__control:checked~div.sk-toggleable__content {max-height: 200px;max-width: 100%;overflow: auto;}#sk-container-id-3 input.sk-toggleable__control:checked~label.sk-toggleable__label-arrow:before {content: \"▾\";}#sk-container-id-3 div.sk-estimator input.sk-toggleable__control:checked~label.sk-toggleable__label {background-color: #d4ebff;}#sk-container-id-3 div.sk-label input.sk-toggleable__control:checked~label.sk-toggleable__label {background-color: #d4ebff;}#sk-container-id-3 input.sk-hidden--visually {border: 0;clip: rect(1px 1px 1px 1px);clip: rect(1px, 1px, 1px, 1px);height: 1px;margin: -1px;overflow: hidden;padding: 0;position: absolute;width: 1px;}#sk-container-id-3 div.sk-estimator {font-family: monospace;background-color: #f0f8ff;border: 1px dotted black;border-radius: 0.25em;box-sizing: border-box;margin-bottom: 0.5em;}#sk-container-id-3 div.sk-estimator:hover {background-color: #d4ebff;}#sk-container-id-3 div.sk-parallel-item::after {content: \"\";width: 100%;border-bottom: 1px solid gray;flex-grow: 1;}#sk-container-id-3 div.sk-label:hover label.sk-toggleable__label {background-color: #d4ebff;}#sk-container-id-3 div.sk-serial::before {content: \"\";position: absolute;border-left: 1px solid gray;box-sizing: border-box;top: 0;bottom: 0;left: 50%;z-index: 0;}#sk-container-id-3 div.sk-serial {display: flex;flex-direction: column;align-items: center;background-color: white;padding-right: 0.2em;padding-left: 0.2em;position: relative;}#sk-container-id-3 div.sk-item {position: relative;z-index: 1;}#sk-container-id-3 div.sk-parallel {display: flex;align-items: stretch;justify-content: center;background-color: white;position: relative;}#sk-container-id-3 div.sk-item::before, #sk-container-id-3 div.sk-parallel-item::before {content: \"\";position: absolute;border-left: 1px solid gray;box-sizing: border-box;top: 0;bottom: 0;left: 50%;z-index: -1;}#sk-container-id-3 div.sk-parallel-item {display: flex;flex-direction: column;z-index: 1;position: relative;background-color: white;}#sk-container-id-3 div.sk-parallel-item:first-child::after {align-self: flex-end;width: 50%;}#sk-container-id-3 div.sk-parallel-item:last-child::after {align-self: flex-start;width: 50%;}#sk-container-id-3 div.sk-parallel-item:only-child::after {width: 0;}#sk-container-id-3 div.sk-dashed-wrapped {border: 1px dashed gray;margin: 0 0.4em 0.5em 0.4em;box-sizing: border-box;padding-bottom: 0.4em;background-color: white;}#sk-container-id-3 div.sk-label label {font-family: monospace;font-weight: bold;display: inline-block;line-height: 1.2em;}#sk-container-id-3 div.sk-label-container {text-align: center;}#sk-container-id-3 div.sk-container {/* jupyter's `normalize.less` sets `[hidden] { display: none; }` but bootstrap.min.css set `[hidden] { display: none !important; }` so we also need the `!important` here to be able to override the default hidden behavior on the sphinx rendered scikit-learn.org. See: https://github.com/scikit-learn/scikit-learn/issues/21755 */display: inline-block !important;position: relative;}#sk-container-id-3 div.sk-text-repr-fallback {display: none;}</style><div id=\"sk-container-id-3\" class=\"sk-top-container\"><div class=\"sk-text-repr-fallback\"><pre>DecisionTreeClassifier()</pre><b>In a Jupyter environment, please rerun this cell to show the HTML representation or trust the notebook. <br />On GitHub, the HTML representation is unable to render, please try loading this page with nbviewer.org.</b></div><div class=\"sk-container\" hidden><div class=\"sk-item\"><div class=\"sk-estimator sk-toggleable\"><input class=\"sk-toggleable__control sk-hidden--visually\" id=\"sk-estimator-id-3\" type=\"checkbox\" checked><label for=\"sk-estimator-id-3\" class=\"sk-toggleable__label sk-toggleable__label-arrow\">DecisionTreeClassifier</label><div class=\"sk-toggleable__content\"><pre>DecisionTreeClassifier()</pre></div></div></div></div></div>"
      ],
      "text/plain": [
       "DecisionTreeClassifier()"
      ]
     },
     "execution_count": 57,
     "metadata": {},
     "output_type": "execute_result"
    }
   ],
   "source": [
    "%%time\n",
    "from sklearn.tree import DecisionTreeClassifier\n",
    "dt=DecisionTreeClassifier()\n",
    "dt.fit(X_train,y_train)"
   ]
  },
  {
   "cell_type": "code",
   "execution_count": 58,
   "id": "87e33d48",
   "metadata": {},
   "outputs": [
    {
     "data": {
      "text/plain": [
       "array(['N', 'S', 'J', ..., 'E', 'A', 'O'], dtype=object)"
      ]
     },
     "execution_count": 58,
     "metadata": {},
     "output_type": "execute_result"
    }
   ],
   "source": [
    "y_pred_dt=dt.predict(X_test)\n",
    "y_pred_dt"
   ]
  },
  {
   "cell_type": "code",
   "execution_count": 59,
   "id": "9e715b1a",
   "metadata": {},
   "outputs": [
    {
     "data": {
      "text/plain": [
       "0.926229420166894"
      ]
     },
     "execution_count": 59,
     "metadata": {},
     "output_type": "execute_result"
    }
   ],
   "source": [
    "accuracy_score(y_test,y_pred_dt)"
   ]
  },
  {
   "cell_type": "code",
   "execution_count": 60,
   "id": "81195a61",
   "metadata": {},
   "outputs": [
    {
     "data": {
      "text/html": [
       "<div>\n",
       "<style scoped>\n",
       "    .dataframe tbody tr th:only-of-type {\n",
       "        vertical-align: middle;\n",
       "    }\n",
       "\n",
       "    .dataframe tbody tr th {\n",
       "        vertical-align: top;\n",
       "    }\n",
       "\n",
       "    .dataframe thead th {\n",
       "        text-align: right;\n",
       "    }\n",
       "</style>\n",
       "<table border=\"1\" class=\"dataframe\">\n",
       "  <thead>\n",
       "    <tr style=\"text-align: right;\">\n",
       "      <th></th>\n",
       "      <th>Actual</th>\n",
       "      <th>Predicted</th>\n",
       "    </tr>\n",
       "  </thead>\n",
       "  <tbody>\n",
       "    <tr>\n",
       "      <th>129113</th>\n",
       "      <td>N</td>\n",
       "      <td>N</td>\n",
       "    </tr>\n",
       "    <tr>\n",
       "      <th>250873</th>\n",
       "      <td>S</td>\n",
       "      <td>S</td>\n",
       "    </tr>\n",
       "    <tr>\n",
       "      <th>89920</th>\n",
       "      <td>J</td>\n",
       "      <td>J</td>\n",
       "    </tr>\n",
       "    <tr>\n",
       "      <th>97176</th>\n",
       "      <td>L</td>\n",
       "      <td>L</td>\n",
       "    </tr>\n",
       "    <tr>\n",
       "      <th>136486</th>\n",
       "      <td>N</td>\n",
       "      <td>K</td>\n",
       "    </tr>\n",
       "    <tr>\n",
       "      <th>218406</th>\n",
       "      <td>Q</td>\n",
       "      <td>Q</td>\n",
       "    </tr>\n",
       "    <tr>\n",
       "      <th>89153</th>\n",
       "      <td>J</td>\n",
       "      <td>J</td>\n",
       "    </tr>\n",
       "    <tr>\n",
       "      <th>103427</th>\n",
       "      <td>L</td>\n",
       "      <td>L</td>\n",
       "    </tr>\n",
       "    <tr>\n",
       "      <th>254515</th>\n",
       "      <td>S</td>\n",
       "      <td>S</td>\n",
       "    </tr>\n",
       "    <tr>\n",
       "      <th>203992</th>\n",
       "      <td>P</td>\n",
       "      <td>P</td>\n",
       "    </tr>\n",
       "  </tbody>\n",
       "</table>\n",
       "</div>"
      ],
      "text/plain": [
       "       Actual Predicted\n",
       "129113      N         N\n",
       "250873      S         S\n",
       "89920       J         J\n",
       "97176       L         L\n",
       "136486      N         K\n",
       "218406      Q         Q\n",
       "89153       J         J\n",
       "103427      L         L\n",
       "254515      S         S\n",
       "203992      P         P"
      ]
     },
     "execution_count": 60,
     "metadata": {},
     "output_type": "execute_result"
    }
   ],
   "source": [
    "temp_df2=pd.DataFrame({\"Actual\":y_test,\"Predicted\":y_pred_dt})\n",
    "temp_df2.head(10)"
   ]
  },
  {
   "cell_type": "code",
   "execution_count": 61,
   "id": "68339141",
   "metadata": {},
   "outputs": [
    {
     "data": {
      "text/plain": [
       "<AxesSubplot:xlabel='label', ylabel='Count'>"
      ]
     },
     "execution_count": 61,
     "metadata": {},
     "output_type": "execute_result"
    },
    {
     "data": {
      "image/png": "[encoded data removed]",
      "text/plain": [
       "<Figure size 640x480 with 1 Axes>"
      ]
     },
     "metadata": {},
     "output_type": "display_data"
    }
   ],
   "source": [
    "sns.histplot(y_test,color='blue',alpha=0.5)\n",
    "sns.histplot(y_pred_dt,color='red',alpha=0.5)"
   ]
  },
  {
   "cell_type": "code",
   "execution_count": 63,
   "id": "f2f263b0",
   "metadata": {},
   "outputs": [
    {
     "name": "stdout",
     "output_type": "stream",
     "text": [
      "              precision    recall  f1-score   support\n",
      "\n",
      "           A       0.90      0.90      0.90      3475\n",
      "           B       0.85      0.82      0.84      2151\n",
      "           C       0.93      0.95      0.94      5951\n",
      "           D       0.88      0.87      0.87      2514\n",
      "           E       0.88      0.86      0.87      2876\n",
      "           F       0.80      0.59      0.68       284\n",
      "           G       0.85      0.85      0.85      1408\n",
      "           H       0.83      0.85      0.84      1799\n",
      "           I       0.79      0.73      0.76       315\n",
      "           J       0.88      0.90      0.89      2133\n",
      "           K       0.85      0.83      0.84      1381\n",
      "           L       0.94      0.95      0.94      2914\n",
      "           M       0.91      0.85      0.88      3013\n",
      "           N       0.90      0.92      0.91      4777\n",
      "           O       0.97      0.98      0.97     14346\n",
      "           P       0.95      0.95      0.95      4818\n",
      "           Q       0.85      0.83      0.84      1458\n",
      "           R       0.88      0.89      0.89      2830\n",
      "           S       0.97      0.96      0.96     12130\n",
      "           T       0.97      0.97      0.97      5615\n",
      "           U       0.94      0.95      0.95      7313\n",
      "           V       0.92      0.91      0.91      1059\n",
      "           W       0.92      0.91      0.91      2677\n",
      "           X       0.88      0.90      0.89      1619\n",
      "           Y       0.91      0.93      0.92      2668\n",
      "           Z       0.90      0.88      0.89      1589\n",
      "\n",
      "    accuracy                           0.93     93113\n",
      "   macro avg       0.89      0.88      0.89     93113\n",
      "weighted avg       0.93      0.93      0.93     93113\n",
      "\n"
     ]
    }
   ],
   "source": [
    "print(classification_report(y_test,y_pred_dt))"
   ]
  },
  {
   "cell_type": "markdown",
   "id": "a4603b52",
   "metadata": {},
   "source": [
    "## `GaussianNB Classification`"
   ]
  },
  {
   "cell_type": "code",
   "execution_count": 73,
   "id": "b56d0b57",
   "metadata": {},
   "outputs": [
    {
     "name": "stdout",
     "output_type": "stream",
     "text": [
      "Wall time: 843 ms\n"
     ]
    },
    {
     "data": {
      "text/html": [
       "<style>#sk-container-id-6 {color: black;background-color: white;}#sk-container-id-6 pre{padding: 0;}#sk-container-id-6 div.sk-toggleable {background-color: white;}#sk-container-id-6 label.sk-toggleable__label {cursor: pointer;display: block;width: 100%;margin-bottom: 0;padding: 0.3em;box-sizing: border-box;text-align: center;}#sk-container-id-6 label.sk-toggleable__label-arrow:before {content: \"▸\";float: left;margin-right: 0.25em;color: #696969;}#sk-container-id-6 label.sk-toggleable__label-arrow:hover:before {color: black;}#sk-container-id-6 div.sk-estimator:hover label.sk-toggleable__label-arrow:before {color: black;}#sk-container-id-6 div.sk-toggleable__content {max-height: 0;max-width: 0;overflow: hidden;text-align: left;background-color: #f0f8ff;}#sk-container-id-6 div.sk-toggleable__content pre {margin: 0.2em;color: black;border-radius: 0.25em;background-color: #f0f8ff;}#sk-container-id-6 input.sk-toggleable__control:checked~div.sk-toggleable__content {max-height: 200px;max-width: 100%;overflow: auto;}#sk-container-id-6 input.sk-toggleable__control:checked~label.sk-toggleable__label-arrow:before {content: \"▾\";}#sk-container-id-6 div.sk-estimator input.sk-toggleable__control:checked~label.sk-toggleable__label {background-color: #d4ebff;}#sk-container-id-6 div.sk-label input.sk-toggleable__control:checked~label.sk-toggleable__label {background-color: #d4ebff;}#sk-container-id-6 input.sk-hidden--visually {border: 0;clip: rect(1px 1px 1px 1px);clip: rect(1px, 1px, 1px, 1px);height: 1px;margin: -1px;overflow: hidden;padding: 0;position: absolute;width: 1px;}#sk-container-id-6 div.sk-estimator {font-family: monospace;background-color: #f0f8ff;border: 1px dotted black;border-radius: 0.25em;box-sizing: border-box;margin-bottom: 0.5em;}#sk-container-id-6 div.sk-estimator:hover {background-color: #d4ebff;}#sk-container-id-6 div.sk-parallel-item::after {content: \"\";width: 100%;border-bottom: 1px solid gray;flex-grow: 1;}#sk-container-id-6 div.sk-label:hover label.sk-toggleable__label {background-color: #d4ebff;}#sk-container-id-6 div.sk-serial::before {content: \"\";position: absolute;border-left: 1px solid gray;box-sizing: border-box;top: 0;bottom: 0;left: 50%;z-index: 0;}#sk-container-id-6 div.sk-serial {display: flex;flex-direction: column;align-items: center;background-color: white;padding-right: 0.2em;padding-left: 0.2em;position: relative;}#sk-container-id-6 div.sk-item {position: relative;z-index: 1;}#sk-container-id-6 div.sk-parallel {display: flex;align-items: stretch;justify-content: center;background-color: white;position: relative;}#sk-container-id-6 div.sk-item::before, #sk-container-id-6 div.sk-parallel-item::before {content: \"\";position: absolute;border-left: 1px solid gray;box-sizing: border-box;top: 0;bottom: 0;left: 50%;z-index: -1;}#sk-container-id-6 div.sk-parallel-item {display: flex;flex-direction: column;z-index: 1;position: relative;background-color: white;}#sk-container-id-6 div.sk-parallel-item:first-child::after {align-self: flex-end;width: 50%;}#sk-container-id-6 div.sk-parallel-item:last-child::after {align-self: flex-start;width: 50%;}#sk-container-id-6 div.sk-parallel-item:only-child::after {width: 0;}#sk-container-id-6 div.sk-dashed-wrapped {border: 1px dashed gray;margin: 0 0.4em 0.5em 0.4em;box-sizing: border-box;padding-bottom: 0.4em;background-color: white;}#sk-container-id-6 div.sk-label label {font-family: monospace;font-weight: bold;display: inline-block;line-height: 1.2em;}#sk-container-id-6 div.sk-label-container {text-align: center;}#sk-container-id-6 div.sk-container {/* jupyter's `normalize.less` sets `[hidden] { display: none; }` but bootstrap.min.css set `[hidden] { display: none !important; }` so we also need the `!important` here to be able to override the default hidden behavior on the sphinx rendered scikit-learn.org. See: https://github.com/scikit-learn/scikit-learn/issues/21755 */display: inline-block !important;position: relative;}#sk-container-id-6 div.sk-text-repr-fallback {display: none;}</style><div id=\"sk-container-id-6\" class=\"sk-top-container\"><div class=\"sk-text-repr-fallback\"><pre>GaussianNB()</pre><b>In a Jupyter environment, please rerun this cell to show the HTML representation or trust the notebook. <br />On GitHub, the HTML representation is unable to render, please try loading this page with nbviewer.org.</b></div><div class=\"sk-container\" hidden><div class=\"sk-item\"><div class=\"sk-estimator sk-toggleable\"><input class=\"sk-toggleable__control sk-hidden--visually\" id=\"sk-estimator-id-6\" type=\"checkbox\" checked><label for=\"sk-estimator-id-6\" class=\"sk-toggleable__label sk-toggleable__label-arrow\">GaussianNB</label><div class=\"sk-toggleable__content\"><pre>GaussianNB()</pre></div></div></div></div></div>"
      ],
      "text/plain": [
       "GaussianNB()"
      ]
     },
     "execution_count": 73,
     "metadata": {},
     "output_type": "execute_result"
    }
   ],
   "source": [
    "%%time\n",
    "from sklearn.naive_bayes import GaussianNB\n",
    "gnb=GaussianNB()\n",
    "gnb.fit(X_train,y_train)"
   ]
  },
  {
   "cell_type": "code",
   "execution_count": 67,
   "id": "83574125",
   "metadata": {},
   "outputs": [
    {
     "data": {
      "text/plain": [
       "array(['N', 'O', 'O', ..., 'S', 'S', 'O'], dtype='<U1')"
      ]
     },
     "execution_count": 67,
     "metadata": {},
     "output_type": "execute_result"
    }
   ],
   "source": [
    "y_pred_gnb=gnb.predict(X_test)\n",
    "y_pred_gnb"
   ]
  },
  {
   "cell_type": "code",
   "execution_count": 68,
   "id": "0f6653f3",
   "metadata": {},
   "outputs": [
    {
     "data": {
      "text/plain": [
       "0.441796526800769"
      ]
     },
     "execution_count": 68,
     "metadata": {},
     "output_type": "execute_result"
    }
   ],
   "source": [
    "accuracy_score(y_test,y_pred_gnb)"
   ]
  },
  {
   "cell_type": "code",
   "execution_count": 69,
   "id": "76a85b63",
   "metadata": {},
   "outputs": [
    {
     "data": {
      "text/html": [
       "<div>\n",
       "<style scoped>\n",
       "    .dataframe tbody tr th:only-of-type {\n",
       "        vertical-align: middle;\n",
       "    }\n",
       "\n",
       "    .dataframe tbody tr th {\n",
       "        vertical-align: top;\n",
       "    }\n",
       "\n",
       "    .dataframe thead th {\n",
       "        text-align: right;\n",
       "    }\n",
       "</style>\n",
       "<table border=\"1\" class=\"dataframe\">\n",
       "  <thead>\n",
       "    <tr style=\"text-align: right;\">\n",
       "      <th></th>\n",
       "      <th>Actual</th>\n",
       "      <th>Predicted</th>\n",
       "    </tr>\n",
       "  </thead>\n",
       "  <tbody>\n",
       "    <tr>\n",
       "      <th>129113</th>\n",
       "      <td>N</td>\n",
       "      <td>N</td>\n",
       "    </tr>\n",
       "    <tr>\n",
       "      <th>250873</th>\n",
       "      <td>S</td>\n",
       "      <td>O</td>\n",
       "    </tr>\n",
       "    <tr>\n",
       "      <th>89920</th>\n",
       "      <td>J</td>\n",
       "      <td>O</td>\n",
       "    </tr>\n",
       "    <tr>\n",
       "      <th>97176</th>\n",
       "      <td>L</td>\n",
       "      <td>M</td>\n",
       "    </tr>\n",
       "    <tr>\n",
       "      <th>136486</th>\n",
       "      <td>N</td>\n",
       "      <td>O</td>\n",
       "    </tr>\n",
       "    <tr>\n",
       "      <th>218406</th>\n",
       "      <td>Q</td>\n",
       "      <td>Q</td>\n",
       "    </tr>\n",
       "    <tr>\n",
       "      <th>89153</th>\n",
       "      <td>J</td>\n",
       "      <td>O</td>\n",
       "    </tr>\n",
       "    <tr>\n",
       "      <th>103427</th>\n",
       "      <td>L</td>\n",
       "      <td>L</td>\n",
       "    </tr>\n",
       "    <tr>\n",
       "      <th>254515</th>\n",
       "      <td>S</td>\n",
       "      <td>S</td>\n",
       "    </tr>\n",
       "    <tr>\n",
       "      <th>203992</th>\n",
       "      <td>P</td>\n",
       "      <td>A</td>\n",
       "    </tr>\n",
       "  </tbody>\n",
       "</table>\n",
       "</div>"
      ],
      "text/plain": [
       "       Actual Predicted\n",
       "129113      N         N\n",
       "250873      S         O\n",
       "89920       J         O\n",
       "97176       L         M\n",
       "136486      N         O\n",
       "218406      Q         Q\n",
       "89153       J         O\n",
       "103427      L         L\n",
       "254515      S         S\n",
       "203992      P         A"
      ]
     },
     "execution_count": 69,
     "metadata": {},
     "output_type": "execute_result"
    }
   ],
   "source": [
    "temp_df3=pd.DataFrame({\"Actual\":y_test,\"Predicted\":y_pred_gnb})\n",
    "temp_df3.head(10)"
   ]
  },
  {
   "cell_type": "code",
   "execution_count": 70,
   "id": "f52ed6da",
   "metadata": {},
   "outputs": [
    {
     "data": {
      "text/plain": [
       "<AxesSubplot:xlabel='label', ylabel='Count'>"
      ]
     },
     "execution_count": 70,
     "metadata": {},
     "output_type": "execute_result"
    },
    {
     "data": {
      "image/png": "[encoded data removed]",
      "text/plain": [
       "<Figure size 640x480 with 1 Axes>"
      ]
     },
     "metadata": {},
     "output_type": "display_data"
    }
   ],
   "source": [
    "sns.histplot(y_test,color='blue',alpha=0.5)\n",
    "sns.histplot(y_pred_gnb,color='red',alpha=0.5)"
   ]
  },
  {
   "cell_type": "code",
   "execution_count": 71,
   "id": "0400c67f",
   "metadata": {},
   "outputs": [
    {
     "name": "stdout",
     "output_type": "stream",
     "text": [
      "              precision    recall  f1-score   support\n",
      "\n",
      "           A       0.34      0.04      0.07      3475\n",
      "           B       0.38      0.14      0.20      2151\n",
      "           C       0.68      0.32      0.43      5951\n",
      "           D       0.49      0.35      0.41      2514\n",
      "           E       0.50      0.08      0.14      2876\n",
      "           F       0.14      0.88      0.25       284\n",
      "           G       0.19      0.40      0.26      1408\n",
      "           H       0.18      0.07      0.10      1799\n",
      "           I       0.49      0.74      0.59       315\n",
      "           J       0.45      0.11      0.17      2133\n",
      "           K       0.41      0.08      0.13      1381\n",
      "           L       0.62      0.34      0.44      2914\n",
      "           M       0.35      0.88      0.50      3013\n",
      "           N       0.44      0.37      0.40      4777\n",
      "           O       0.40      0.90      0.56     14346\n",
      "           P       0.41      0.88      0.56      4818\n",
      "           Q       0.42      0.34      0.38      1458\n",
      "           R       0.67      0.16      0.25      2830\n",
      "           S       0.54      0.47      0.51     12130\n",
      "           T       0.81      0.40      0.53      5615\n",
      "           U       0.62      0.11      0.19      7313\n",
      "           V       0.67      0.78      0.72      1059\n",
      "           W       0.60      0.44      0.51      2677\n",
      "           X       0.47      0.35      0.40      1619\n",
      "           Y       0.33      0.37      0.35      2668\n",
      "           Z       0.56      0.17      0.26      1589\n",
      "\n",
      "    accuracy                           0.44     93113\n",
      "   macro avg       0.47      0.39      0.36     93113\n",
      "weighted avg       0.50      0.44      0.40     93113\n",
      "\n"
     ]
    }
   ],
   "source": [
    "print(classification_report(y_test,y_pred_gnb))"
   ]
  },
  {
   "cell_type": "markdown",
   "id": "c74395cb",
   "metadata": {},
   "source": [
    "## `Random Forest Classification`"
   ]
  },
  {
   "cell_type": "code",
   "execution_count": 72,
   "id": "06456d5e",
   "metadata": {},
   "outputs": [
    {
     "name": "stdout",
     "output_type": "stream",
     "text": [
      "Wall time: 2min 31s\n"
     ]
    },
    {
     "data": {
      "text/html": [
       "<style>#sk-container-id-5 {color: black;background-color: white;}#sk-container-id-5 pre{padding: 0;}#sk-container-id-5 div.sk-toggleable {background-color: white;}#sk-container-id-5 label.sk-toggleable__label {cursor: pointer;display: block;width: 100%;margin-bottom: 0;padding: 0.3em;box-sizing: border-box;text-align: center;}#sk-container-id-5 label.sk-toggleable__label-arrow:before {content: \"▸\";float: left;margin-right: 0.25em;color: #696969;}#sk-container-id-5 label.sk-toggleable__label-arrow:hover:before {color: black;}#sk-container-id-5 div.sk-estimator:hover label.sk-toggleable__label-arrow:before {color: black;}#sk-container-id-5 div.sk-toggleable__content {max-height: 0;max-width: 0;overflow: hidden;text-align: left;background-color: #f0f8ff;}#sk-container-id-5 div.sk-toggleable__content pre {margin: 0.2em;color: black;border-radius: 0.25em;background-color: #f0f8ff;}#sk-container-id-5 input.sk-toggleable__control:checked~div.sk-toggleable__content {max-height: 200px;max-width: 100%;overflow: auto;}#sk-container-id-5 input.sk-toggleable__control:checked~label.sk-toggleable__label-arrow:before {content: \"▾\";}#sk-container-id-5 div.sk-estimator input.sk-toggleable__control:checked~label.sk-toggleable__label {background-color: #d4ebff;}#sk-container-id-5 div.sk-label input.sk-toggleable__control:checked~label.sk-toggleable__label {background-color: #d4ebff;}#sk-container-id-5 input.sk-hidden--visually {border: 0;clip: rect(1px 1px 1px 1px);clip: rect(1px, 1px, 1px, 1px);height: 1px;margin: -1px;overflow: hidden;padding: 0;position: absolute;width: 1px;}#sk-container-id-5 div.sk-estimator {font-family: monospace;background-color: #f0f8ff;border: 1px dotted black;border-radius: 0.25em;box-sizing: border-box;margin-bottom: 0.5em;}#sk-container-id-5 div.sk-estimator:hover {background-color: #d4ebff;}#sk-container-id-5 div.sk-parallel-item::after {content: \"\";width: 100%;border-bottom: 1px solid gray;flex-grow: 1;}#sk-container-id-5 div.sk-label:hover label.sk-toggleable__label {background-color: #d4ebff;}#sk-container-id-5 div.sk-serial::before {content: \"\";position: absolute;border-left: 1px solid gray;box-sizing: border-box;top: 0;bottom: 0;left: 50%;z-index: 0;}#sk-container-id-5 div.sk-serial {display: flex;flex-direction: column;align-items: center;background-color: white;padding-right: 0.2em;padding-left: 0.2em;position: relative;}#sk-container-id-5 div.sk-item {position: relative;z-index: 1;}#sk-container-id-5 div.sk-parallel {display: flex;align-items: stretch;justify-content: center;background-color: white;position: relative;}#sk-container-id-5 div.sk-item::before, #sk-container-id-5 div.sk-parallel-item::before {content: \"\";position: absolute;border-left: 1px solid gray;box-sizing: border-box;top: 0;bottom: 0;left: 50%;z-index: -1;}#sk-container-id-5 div.sk-parallel-item {display: flex;flex-direction: column;z-index: 1;position: relative;background-color: white;}#sk-container-id-5 div.sk-parallel-item:first-child::after {align-self: flex-end;width: 50%;}#sk-container-id-5 div.sk-parallel-item:last-child::after {align-self: flex-start;width: 50%;}#sk-container-id-5 div.sk-parallel-item:only-child::after {width: 0;}#sk-container-id-5 div.sk-dashed-wrapped {border: 1px dashed gray;margin: 0 0.4em 0.5em 0.4em;box-sizing: border-box;padding-bottom: 0.4em;background-color: white;}#sk-container-id-5 div.sk-label label {font-family: monospace;font-weight: bold;display: inline-block;line-height: 1.2em;}#sk-container-id-5 div.sk-label-container {text-align: center;}#sk-container-id-5 div.sk-container {/* jupyter's `normalize.less` sets `[hidden] { display: none; }` but bootstrap.min.css set `[hidden] { display: none !important; }` so we also need the `!important` here to be able to override the default hidden behavior on the sphinx rendered scikit-learn.org. See: https://github.com/scikit-learn/scikit-learn/issues/21755 */display: inline-block !important;position: relative;}#sk-container-id-5 div.sk-text-repr-fallback {display: none;}</style><div id=\"sk-container-id-5\" class=\"sk-top-container\"><div class=\"sk-text-repr-fallback\"><pre>RandomForestClassifier()</pre><b>In a Jupyter environment, please rerun this cell to show the HTML representation or trust the notebook. <br />On GitHub, the HTML representation is unable to render, please try loading this page with nbviewer.org.</b></div><div class=\"sk-container\" hidden><div class=\"sk-item\"><div class=\"sk-estimator sk-toggleable\"><input class=\"sk-toggleable__control sk-hidden--visually\" id=\"sk-estimator-id-5\" type=\"checkbox\" checked><label for=\"sk-estimator-id-5\" class=\"sk-toggleable__label sk-toggleable__label-arrow\">RandomForestClassifier</label><div class=\"sk-toggleable__content\"><pre>RandomForestClassifier()</pre></div></div></div></div></div>"
      ],
      "text/plain": [
       "RandomForestClassifier()"
      ]
     },
     "execution_count": 72,
     "metadata": {},
     "output_type": "execute_result"
    }
   ],
   "source": [
    "%%time\n",
    "from sklearn.ensemble import RandomForestClassifier\n",
    "rfc=RandomForestClassifier()\n",
    "rfc.fit(X_train,y_train)"
   ]
  },
  {
   "cell_type": "code",
   "execution_count": 74,
   "id": "c5260ce4",
   "metadata": {},
   "outputs": [
    {
     "data": {
      "text/plain": [
       "array(['N', 'S', 'J', ..., 'E', 'A', 'O'], dtype=object)"
      ]
     },
     "execution_count": 74,
     "metadata": {},
     "output_type": "execute_result"
    }
   ],
   "source": [
    "y_pred_rfc=rfc.predict(X_test)\n",
    "y_pred_rfc"
   ]
  },
  {
   "cell_type": "code",
   "execution_count": 75,
   "id": "27e77f8e",
   "metadata": {},
   "outputs": [
    {
     "data": {
      "text/plain": [
       "0.974343002588253"
      ]
     },
     "execution_count": 75,
     "metadata": {},
     "output_type": "execute_result"
    }
   ],
   "source": [
    "accuracy_score(y_test,y_pred_rfc)"
   ]
  },
  {
   "cell_type": "code",
   "execution_count": 76,
   "id": "9a9fc0b6",
   "metadata": {},
   "outputs": [
    {
     "data": {
      "text/html": [
       "<div>\n",
       "<style scoped>\n",
       "    .dataframe tbody tr th:only-of-type {\n",
       "        vertical-align: middle;\n",
       "    }\n",
       "\n",
       "    .dataframe tbody tr th {\n",
       "        vertical-align: top;\n",
       "    }\n",
       "\n",
       "    .dataframe thead th {\n",
       "        text-align: right;\n",
       "    }\n",
       "</style>\n",
       "<table border=\"1\" class=\"dataframe\">\n",
       "  <thead>\n",
       "    <tr style=\"text-align: right;\">\n",
       "      <th></th>\n",
       "      <th>Actual</th>\n",
       "      <th>Predicted</th>\n",
       "    </tr>\n",
       "  </thead>\n",
       "  <tbody>\n",
       "    <tr>\n",
       "      <th>129113</th>\n",
       "      <td>N</td>\n",
       "      <td>N</td>\n",
       "    </tr>\n",
       "    <tr>\n",
       "      <th>250873</th>\n",
       "      <td>S</td>\n",
       "      <td>S</td>\n",
       "    </tr>\n",
       "    <tr>\n",
       "      <th>89920</th>\n",
       "      <td>J</td>\n",
       "      <td>J</td>\n",
       "    </tr>\n",
       "    <tr>\n",
       "      <th>97176</th>\n",
       "      <td>L</td>\n",
       "      <td>L</td>\n",
       "    </tr>\n",
       "    <tr>\n",
       "      <th>136486</th>\n",
       "      <td>N</td>\n",
       "      <td>K</td>\n",
       "    </tr>\n",
       "    <tr>\n",
       "      <th>218406</th>\n",
       "      <td>Q</td>\n",
       "      <td>Q</td>\n",
       "    </tr>\n",
       "    <tr>\n",
       "      <th>89153</th>\n",
       "      <td>J</td>\n",
       "      <td>J</td>\n",
       "    </tr>\n",
       "    <tr>\n",
       "      <th>103427</th>\n",
       "      <td>L</td>\n",
       "      <td>L</td>\n",
       "    </tr>\n",
       "    <tr>\n",
       "      <th>254515</th>\n",
       "      <td>S</td>\n",
       "      <td>S</td>\n",
       "    </tr>\n",
       "    <tr>\n",
       "      <th>203992</th>\n",
       "      <td>P</td>\n",
       "      <td>P</td>\n",
       "    </tr>\n",
       "  </tbody>\n",
       "</table>\n",
       "</div>"
      ],
      "text/plain": [
       "       Actual Predicted\n",
       "129113      N         N\n",
       "250873      S         S\n",
       "89920       J         J\n",
       "97176       L         L\n",
       "136486      N         K\n",
       "218406      Q         Q\n",
       "89153       J         J\n",
       "103427      L         L\n",
       "254515      S         S\n",
       "203992      P         P"
      ]
     },
     "execution_count": 76,
     "metadata": {},
     "output_type": "execute_result"
    }
   ],
   "source": [
    "temp_df4=pd.DataFrame({\"Actual\":y_test,\"Predicted\":y_pred_rfc})\n",
    "temp_df4.head(10)"
   ]
  },
  {
   "cell_type": "code",
   "execution_count": 77,
   "id": "1bc58109",
   "metadata": {},
   "outputs": [
    {
     "data": {
      "text/plain": [
       "<AxesSubplot:xlabel='label', ylabel='Count'>"
      ]
     },
     "execution_count": 77,
     "metadata": {},
     "output_type": "execute_result"
    },
    {
     "data": {
      "image/png": "[encoded data removed]",
      "text/plain": [
       "<Figure size 640x480 with 1 Axes>"
      ]
     },
     "metadata": {},
     "output_type": "display_data"
    }
   ],
   "source": [
    "sns.histplot(y_test,color='blue',alpha=0.5)\n",
    "sns.histplot(y_pred_rfc,color='red',alpha=0.5)"
   ]
  },
  {
   "cell_type": "code",
   "execution_count": 78,
   "id": "bc6eb6c2",
   "metadata": {},
   "outputs": [
    {
     "name": "stdout",
     "output_type": "stream",
     "text": [
      "              precision    recall  f1-score   support\n",
      "\n",
      "           A       0.94      0.98      0.96      3475\n",
      "           B       0.97      0.91      0.94      2151\n",
      "           C       0.98      0.99      0.98      5951\n",
      "           D       0.96      0.93      0.95      2514\n",
      "           E       0.97      0.95      0.96      2876\n",
      "           F       0.99      0.81      0.89       284\n",
      "           G       0.97      0.92      0.94      1408\n",
      "           H       0.97      0.92      0.94      1799\n",
      "           I       1.00      0.86      0.93       315\n",
      "           J       0.98      0.94      0.96      2133\n",
      "           K       0.96      0.92      0.94      1381\n",
      "           L       0.98      0.99      0.99      2914\n",
      "           M       0.97      0.95      0.96      3013\n",
      "           N       0.96      0.98      0.97      4777\n",
      "           O       0.98      1.00      0.99     14346\n",
      "           P       0.97      0.99      0.98      4818\n",
      "           Q       0.98      0.91      0.94      1458\n",
      "           R       0.96      0.96      0.96      2830\n",
      "           S       0.98      0.99      0.98     12130\n",
      "           T       0.99      0.99      0.99      5615\n",
      "           U       0.98      0.99      0.98      7313\n",
      "           V       0.98      0.97      0.97      1059\n",
      "           W       0.98      0.97      0.98      2677\n",
      "           X       0.98      0.96      0.97      1619\n",
      "           Y       0.98      0.97      0.98      2668\n",
      "           Z       0.99      0.96      0.97      1589\n",
      "\n",
      "    accuracy                           0.97     93113\n",
      "   macro avg       0.98      0.95      0.96     93113\n",
      "weighted avg       0.97      0.97      0.97     93113\n",
      "\n"
     ]
    }
   ],
   "source": [
    "print(classification_report(y_test,y_pred_rfc))"
   ]
  },
  {
   "cell_type": "markdown",
   "id": "8ae981d4",
   "metadata": {},
   "source": [
    "## `AdaBoost Classification`"
   ]
  },
  {
   "cell_type": "code",
   "execution_count": 79,
   "id": "dd5ed29d",
   "metadata": {},
   "outputs": [
    {
     "name": "stdout",
     "output_type": "stream",
     "text": [
      "Wall time: 1min 5s\n"
     ]
    },
    {
     "data": {
      "text/html": [
       "<style>#sk-container-id-7 {color: black;background-color: white;}#sk-container-id-7 pre{padding: 0;}#sk-container-id-7 div.sk-toggleable {background-color: white;}#sk-container-id-7 label.sk-toggleable__label {cursor: pointer;display: block;width: 100%;margin-bottom: 0;padding: 0.3em;box-sizing: border-box;text-align: center;}#sk-container-id-7 label.sk-toggleable__label-arrow:before {content: \"▸\";float: left;margin-right: 0.25em;color: #696969;}#sk-container-id-7 label.sk-toggleable__label-arrow:hover:before {color: black;}#sk-container-id-7 div.sk-estimator:hover label.sk-toggleable__label-arrow:before {color: black;}#sk-container-id-7 div.sk-toggleable__content {max-height: 0;max-width: 0;overflow: hidden;text-align: left;background-color: #f0f8ff;}#sk-container-id-7 div.sk-toggleable__content pre {margin: 0.2em;color: black;border-radius: 0.25em;background-color: #f0f8ff;}#sk-container-id-7 input.sk-toggleable__control:checked~div.sk-toggleable__content {max-height: 200px;max-width: 100%;overflow: auto;}#sk-container-id-7 input.sk-toggleable__control:checked~label.sk-toggleable__label-arrow:before {content: \"▾\";}#sk-container-id-7 div.sk-estimator input.sk-toggleable__control:checked~label.sk-toggleable__label {background-color: #d4ebff;}#sk-container-id-7 div.sk-label input.sk-toggleable__control:checked~label.sk-toggleable__label {background-color: #d4ebff;}#sk-container-id-7 input.sk-hidden--visually {border: 0;clip: rect(1px 1px 1px 1px);clip: rect(1px, 1px, 1px, 1px);height: 1px;margin: -1px;overflow: hidden;padding: 0;position: absolute;width: 1px;}#sk-container-id-7 div.sk-estimator {font-family: monospace;background-color: #f0f8ff;border: 1px dotted black;border-radius: 0.25em;box-sizing: border-box;margin-bottom: 0.5em;}#sk-container-id-7 div.sk-estimator:hover {background-color: #d4ebff;}#sk-container-id-7 div.sk-parallel-item::after {content: \"\";width: 100%;border-bottom: 1px solid gray;flex-grow: 1;}#sk-container-id-7 div.sk-label:hover label.sk-toggleable__label {background-color: #d4ebff;}#sk-container-id-7 div.sk-serial::before {content: \"\";position: absolute;border-left: 1px solid gray;box-sizing: border-box;top: 0;bottom: 0;left: 50%;z-index: 0;}#sk-container-id-7 div.sk-serial {display: flex;flex-direction: column;align-items: center;background-color: white;padding-right: 0.2em;padding-left: 0.2em;position: relative;}#sk-container-id-7 div.sk-item {position: relative;z-index: 1;}#sk-container-id-7 div.sk-parallel {display: flex;align-items: stretch;justify-content: center;background-color: white;position: relative;}#sk-container-id-7 div.sk-item::before, #sk-container-id-7 div.sk-parallel-item::before {content: \"\";position: absolute;border-left: 1px solid gray;box-sizing: border-box;top: 0;bottom: 0;left: 50%;z-index: -1;}#sk-container-id-7 div.sk-parallel-item {display: flex;flex-direction: column;z-index: 1;position: relative;background-color: white;}#sk-container-id-7 div.sk-parallel-item:first-child::after {align-self: flex-end;width: 50%;}#sk-container-id-7 div.sk-parallel-item:last-child::after {align-self: flex-start;width: 50%;}#sk-container-id-7 div.sk-parallel-item:only-child::after {width: 0;}#sk-container-id-7 div.sk-dashed-wrapped {border: 1px dashed gray;margin: 0 0.4em 0.5em 0.4em;box-sizing: border-box;padding-bottom: 0.4em;background-color: white;}#sk-container-id-7 div.sk-label label {font-family: monospace;font-weight: bold;display: inline-block;line-height: 1.2em;}#sk-container-id-7 div.sk-label-container {text-align: center;}#sk-container-id-7 div.sk-container {/* jupyter's `normalize.less` sets `[hidden] { display: none; }` but bootstrap.min.css set `[hidden] { display: none !important; }` so we also need the `!important` here to be able to override the default hidden behavior on the sphinx rendered scikit-learn.org. See: https://github.com/scikit-learn/scikit-learn/issues/21755 */display: inline-block !important;position: relative;}#sk-container-id-7 div.sk-text-repr-fallback {display: none;}</style><div id=\"sk-container-id-7\" class=\"sk-top-container\"><div class=\"sk-text-repr-fallback\"><pre>AdaBoostClassifier()</pre><b>In a Jupyter environment, please rerun this cell to show the HTML representation or trust the notebook. <br />On GitHub, the HTML representation is unable to render, please try loading this page with nbviewer.org.</b></div><div class=\"sk-container\" hidden><div class=\"sk-item\"><div class=\"sk-estimator sk-toggleable\"><input class=\"sk-toggleable__control sk-hidden--visually\" id=\"sk-estimator-id-7\" type=\"checkbox\" checked><label for=\"sk-estimator-id-7\" class=\"sk-toggleable__label sk-toggleable__label-arrow\">AdaBoostClassifier</label><div class=\"sk-toggleable__content\"><pre>AdaBoostClassifier()</pre></div></div></div></div></div>"
      ],
      "text/plain": [
       "AdaBoostClassifier()"
      ]
     },
     "execution_count": 79,
     "metadata": {},
     "output_type": "execute_result"
    }
   ],
   "source": [
    "%%time\n",
    "from sklearn.ensemble import AdaBoostClassifier\n",
    "abc=AdaBoostClassifier()\n",
    "abc.fit(X_train,y_train)"
   ]
  },
  {
   "cell_type": "code",
   "execution_count": 80,
   "id": "0f55634c",
   "metadata": {},
   "outputs": [
    {
     "data": {
      "text/plain": [
       "array(['M', 'O', 'U', ..., 'E', 'A', 'C'], dtype=object)"
      ]
     },
     "execution_count": 80,
     "metadata": {},
     "output_type": "execute_result"
    }
   ],
   "source": [
    "y_pred_abc=abc.predict(X_test)\n",
    "y_pred_abc"
   ]
  },
  {
   "cell_type": "code",
   "execution_count": 82,
   "id": "19087780",
   "metadata": {},
   "outputs": [
    {
     "data": {
      "text/plain": [
       "0.5538217005144287"
      ]
     },
     "execution_count": 82,
     "metadata": {},
     "output_type": "execute_result"
    }
   ],
   "source": [
    "accuracy_score(y_test,y_pred_abc)"
   ]
  },
  {
   "cell_type": "code",
   "execution_count": 83,
   "id": "b6a4659f",
   "metadata": {},
   "outputs": [
    {
     "data": {
      "text/html": [
       "<div>\n",
       "<style scoped>\n",
       "    .dataframe tbody tr th:only-of-type {\n",
       "        vertical-align: middle;\n",
       "    }\n",
       "\n",
       "    .dataframe tbody tr th {\n",
       "        vertical-align: top;\n",
       "    }\n",
       "\n",
       "    .dataframe thead th {\n",
       "        text-align: right;\n",
       "    }\n",
       "</style>\n",
       "<table border=\"1\" class=\"dataframe\">\n",
       "  <thead>\n",
       "    <tr style=\"text-align: right;\">\n",
       "      <th></th>\n",
       "      <th>Actual</th>\n",
       "      <th>Predicted</th>\n",
       "    </tr>\n",
       "  </thead>\n",
       "  <tbody>\n",
       "    <tr>\n",
       "      <th>129113</th>\n",
       "      <td>N</td>\n",
       "      <td>M</td>\n",
       "    </tr>\n",
       "    <tr>\n",
       "      <th>250873</th>\n",
       "      <td>S</td>\n",
       "      <td>O</td>\n",
       "    </tr>\n",
       "    <tr>\n",
       "      <th>89920</th>\n",
       "      <td>J</td>\n",
       "      <td>U</td>\n",
       "    </tr>\n",
       "    <tr>\n",
       "      <th>97176</th>\n",
       "      <td>L</td>\n",
       "      <td>S</td>\n",
       "    </tr>\n",
       "    <tr>\n",
       "      <th>136486</th>\n",
       "      <td>N</td>\n",
       "      <td>K</td>\n",
       "    </tr>\n",
       "    <tr>\n",
       "      <th>218406</th>\n",
       "      <td>Q</td>\n",
       "      <td>Q</td>\n",
       "    </tr>\n",
       "    <tr>\n",
       "      <th>89153</th>\n",
       "      <td>J</td>\n",
       "      <td>U</td>\n",
       "    </tr>\n",
       "    <tr>\n",
       "      <th>103427</th>\n",
       "      <td>L</td>\n",
       "      <td>C</td>\n",
       "    </tr>\n",
       "    <tr>\n",
       "      <th>254515</th>\n",
       "      <td>S</td>\n",
       "      <td>S</td>\n",
       "    </tr>\n",
       "    <tr>\n",
       "      <th>203992</th>\n",
       "      <td>P</td>\n",
       "      <td>P</td>\n",
       "    </tr>\n",
       "  </tbody>\n",
       "</table>\n",
       "</div>"
      ],
      "text/plain": [
       "       Actual Predicted\n",
       "129113      N         M\n",
       "250873      S         O\n",
       "89920       J         U\n",
       "97176       L         S\n",
       "136486      N         K\n",
       "218406      Q         Q\n",
       "89153       J         U\n",
       "103427      L         C\n",
       "254515      S         S\n",
       "203992      P         P"
      ]
     },
     "execution_count": 83,
     "metadata": {},
     "output_type": "execute_result"
    }
   ],
   "source": [
    "temp_df5=pd.DataFrame({\"Actual\":y_test,\"Predicted\":y_pred_abc})\n",
    "temp_df5.head(10)"
   ]
  },
  {
   "cell_type": "code",
   "execution_count": 84,
   "id": "dc40d2f9",
   "metadata": {},
   "outputs": [
    {
     "data": {
      "text/plain": [
       "<AxesSubplot:xlabel='label', ylabel='Count'>"
      ]
     },
     "execution_count": 84,
     "metadata": {},
     "output_type": "execute_result"
    },
    {
     "data": {
      "image/png": "[encoded data removed]",
      "text/plain": [
       "<Figure size 640x480 with 1 Axes>"
      ]
     },
     "metadata": {},
     "output_type": "display_data"
    }
   ],
   "source": [
    "sns.histplot(y_test,color='blue',alpha=0.5)\n",
    "sns.histplot(y_pred_abc,color='red',alpha=0.5)"
   ]
  },
  {
   "cell_type": "code",
   "execution_count": 85,
   "id": "f46cbb15",
   "metadata": {},
   "outputs": [
    {
     "name": "stdout",
     "output_type": "stream",
     "text": [
      "              precision    recall  f1-score   support\n",
      "\n",
      "           A       0.53      0.46      0.50      3475\n",
      "           B       0.33      0.19      0.24      2151\n",
      "           C       0.42      0.58      0.49      5951\n",
      "           D       0.30      0.29      0.29      2514\n",
      "           E       0.43      0.36      0.39      2876\n",
      "           F       0.36      0.63      0.46       284\n",
      "           G       0.44      0.07      0.13      1408\n",
      "           H       0.35      0.10      0.15      1799\n",
      "           I       0.57      0.57      0.57       315\n",
      "           J       0.45      0.26      0.33      2133\n",
      "           K       0.41      0.47      0.43      1381\n",
      "           L       0.52      0.44      0.48      2914\n",
      "           M       0.42      0.56      0.48      3013\n",
      "           N       0.42      0.47      0.45      4777\n",
      "           O       0.79      0.66      0.72     14346\n",
      "           P       0.64      0.64      0.64      4818\n",
      "           Q       0.50      0.35      0.41      1458\n",
      "           R       0.48      0.46      0.47      2830\n",
      "           S       0.70      0.73      0.71     12130\n",
      "           T       0.62      0.76      0.68      5615\n",
      "           U       0.51      0.68      0.58      7313\n",
      "           V       0.50      0.82      0.62      1059\n",
      "           W       0.49      0.46      0.47      2677\n",
      "           X       0.60      0.60      0.60      1619\n",
      "           Y       0.47      0.37      0.41      2668\n",
      "           Z       0.43      0.49      0.46      1589\n",
      "\n",
      "    accuracy                           0.55     93113\n",
      "   macro avg       0.49      0.48      0.47     93113\n",
      "weighted avg       0.56      0.55      0.55     93113\n",
      "\n"
     ]
    }
   ],
   "source": [
    "print(classification_report(y_test,y_pred_abc))"
   ]
  },
  {
   "cell_type": "code",
   "execution_count": 87,
   "id": "c50711ca",
   "metadata": {},
   "outputs": [],
   "source": [
    "model=[(\"Logistic Regression\",accuracy_score(y_test,y_pred_lrc)),(\"KNN Classification\",accuracy_score(y_test,y_pred_knc)),\n",
    "       (\"Decision Tree Classification\",accuracy_score(y_test,y_pred_dt)),(\"GaussianNB Classification\",accuracy_score(y_test,y_pred_gnb)),\n",
    "       (\"Random Forest Classification\",accuracy_score(y_test,y_pred_rfc)),(\"Ada Boost Classification\",accuracy_score(y_test,y_pred_abc))]\n",
    "    "
   ]
  },
  {
   "cell_type": "code",
   "execution_count": 88,
   "id": "978f3e43",
   "metadata": {},
   "outputs": [
    {
     "data": {
      "text/html": [
       "<div>\n",
       "<style scoped>\n",
       "    .dataframe tbody tr th:only-of-type {\n",
       "        vertical-align: middle;\n",
       "    }\n",
       "\n",
       "    .dataframe tbody tr th {\n",
       "        vertical-align: top;\n",
       "    }\n",
       "\n",
       "    .dataframe thead th {\n",
       "        text-align: right;\n",
       "    }\n",
       "</style>\n",
       "<table border=\"1\" class=\"dataframe\">\n",
       "  <thead>\n",
       "    <tr style=\"text-align: right;\">\n",
       "      <th></th>\n",
       "      <th>Algorithm</th>\n",
       "      <th>Accuracy_Score</th>\n",
       "    </tr>\n",
       "  </thead>\n",
       "  <tbody>\n",
       "    <tr>\n",
       "      <th>5</th>\n",
       "      <td>Random Forest Classification</td>\n",
       "      <td>0.974343</td>\n",
       "    </tr>\n",
       "    <tr>\n",
       "      <th>3</th>\n",
       "      <td>Decision Tree Classification</td>\n",
       "      <td>0.926229</td>\n",
       "    </tr>\n",
       "    <tr>\n",
       "      <th>6</th>\n",
       "      <td>Ada Boost Classification</td>\n",
       "      <td>0.553822</td>\n",
       "    </tr>\n",
       "    <tr>\n",
       "      <th>4</th>\n",
       "      <td>GaussianNB Classification</td>\n",
       "      <td>0.441797</td>\n",
       "    </tr>\n",
       "    <tr>\n",
       "      <th>1</th>\n",
       "      <td>Logistic Regression</td>\n",
       "      <td>0.437662</td>\n",
       "    </tr>\n",
       "    <tr>\n",
       "      <th>2</th>\n",
       "      <td>KNN Classification</td>\n",
       "      <td>0.437662</td>\n",
       "    </tr>\n",
       "  </tbody>\n",
       "</table>\n",
       "</div>"
      ],
      "text/plain": [
       "                      Algorithm  Accuracy_Score\n",
       "5  Random Forest Classification        0.974343\n",
       "3  Decision Tree Classification        0.926229\n",
       "6      Ada Boost Classification        0.553822\n",
       "4     GaussianNB Classification        0.441797\n",
       "1           Logistic Regression        0.437662\n",
       "2            KNN Classification        0.437662"
      ]
     },
     "execution_count": 88,
     "metadata": {},
     "output_type": "execute_result"
    }
   ],
   "source": [
    "predict=pd.DataFrame(data=model,columns=[\"Algorithm\",\"Accuracy_Score\"],index=[1,2,3,4,5,6])\n",
    "predict.sort_values(by='Accuracy_Score',ascending=False)"
   ]
  },
  {
   "cell_type": "code",
   "execution_count": 89,
   "id": "ccb5f6a0",
   "metadata": {},
   "outputs": [
    {
     "data": {
      "image/png": "[encoded data removed]",
      "text/plain": [
       "<Figure size 800x300 with 1 Axes>"
      ]
     },
     "metadata": {},
     "output_type": "display_data"
    }
   ],
   "source": [
    "plt.figure(figsize=(8,3))\n",
    "sns.barplot(x=predict['Accuracy_Score'],y=predict['Algorithm'])\n",
    "plt.show()"
   ]
  },
  {
   "cell_type": "markdown",
   "id": "05d5e922",
   "metadata": {},
   "source": [
    "## `Conclusion:`"
   ]
  },
  {
   "cell_type": "markdown",
   "id": "0fa7696f",
   "metadata": {},
   "source": [
    "### `from the above model it has been seen that Random Forest achieve highest accuracy with 97.4 % and Decision Tree is 92.6 %.`"
   ]
  },
  {
   "cell_type": "code",
   "execution_count": null,
   "id": "b06939bc",
   "metadata": {},
   "outputs": [],
   "source": []
  }
 ],
 "metadata": {
  "kernelspec": {
   "display_name": "Python 3 (ipykernel)",
   "language": "python",
   "name": "python3"
  },
  "language_info": {
   "codemirror_mode": {
    "name": "ipython",
    "version": 3
   },
   "file_extension": ".py",
   "mimetype": "text/x-python",
   "name": "python",
   "nbconvert_exporter": "python",
   "pygments_lexer": "ipython3",
   "version": "3.9.13"
  }
 },
 "nbformat": 4,
 "nbformat_minor": 5
}
