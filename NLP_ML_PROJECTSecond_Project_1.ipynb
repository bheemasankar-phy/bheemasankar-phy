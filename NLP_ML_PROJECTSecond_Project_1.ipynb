{
 "cells": [
  {
   "cell_type": "code",
   "execution_count": 2,
   "id": "39e036ef",
   "metadata": {},
   "outputs": [],
   "source": [
    "import os\n",
    "import pandas as pd"
   ]
  },
  {
   "cell_type": "code",
   "execution_count": 269,
   "id": "1e544f20",
   "metadata": {},
   "outputs": [],
   "source": [
    "zip_folder_path = \"B:/zip_file.zip\"\n",
    "\n",
    "# Specify the directory where you want to extract the contents\n",
    "extracted_dir = \"B:/txt_reviews\"\n",
    "\n",
    "# Unzip the contents of the zip file folder\n",
    "with zipfile.ZipFile(zip_folder_path, 'r') as zip_ref:\n",
    "    zip_ref.extractall(extracted_dir)  "
   ]
  },
  {
   "cell_type": "code",
   "execution_count": 49,
   "id": "3869f66a",
   "metadata": {},
   "outputs": [],
   "source": [
    "content = open(r\"B:\\txt_reviews\\review_{i}.txt\",'r', encoding = 'utf-8')\n",
    "content.readlines()"
   ]
  },
  {
   "cell_type": "code",
   "execution_count": 53,
   "id": "f86a1b0e",
   "metadata": {},
   "outputs": [
    {
     "data": {
      "text/plain": [
       "['ProductId: B00813GRG4\\n',\n",
       " 'UserId: A1D87F6ZCVE5NK\\n',\n",
       " 'ProfileName: dll pa\\n',\n",
       " 'HelpfulnessNumerator: 0\\n',\n",
       " 'HelpfulnessDenominator: 0\\n',\n",
       " 'Score: 1\\n',\n",
       " 'Time: 1346976000\\n',\n",
       " 'ReviewSummary: Not as Advertised\\n',\n",
       " 'ReviewText: Product arrived labeled as Jumbo Salted Peanuts...the peanuts were actually small sized unsalted. Not sure if this was an error or if the vendor intended to represent the product as \"Jumbo\".\\n']"
      ]
     },
     "execution_count": 53,
     "metadata": {},
     "output_type": "execute_result"
    }
   ],
   "source": [
    "content.readlines()"
   ]
  },
  {
   "cell_type": "code",
   "execution_count": 69,
   "id": "c807731c",
   "metadata": {},
   "outputs": [
    {
     "data": {
      "text/html": [
       "<div>\n",
       "<style scoped>\n",
       "    .dataframe tbody tr th:only-of-type {\n",
       "        vertical-align: middle;\n",
       "    }\n",
       "\n",
       "    .dataframe tbody tr th {\n",
       "        vertical-align: top;\n",
       "    }\n",
       "\n",
       "    .dataframe thead th {\n",
       "        text-align: right;\n",
       "    }\n",
       "</style>\n",
       "<table border=\"1\" class=\"dataframe\">\n",
       "  <thead>\n",
       "    <tr style=\"text-align: right;\">\n",
       "      <th></th>\n",
       "      <th>File Name</th>\n",
       "      <th>File Content</th>\n",
       "    </tr>\n",
       "  </thead>\n",
       "  <tbody>\n",
       "    <tr>\n",
       "      <th>0</th>\n",
       "      <td>review_10</td>\n",
       "      <td>ProductId: B00171APVA\\nUserId: A21BT40VZCCYT4\\...</td>\n",
       "    </tr>\n",
       "    <tr>\n",
       "      <th>1</th>\n",
       "      <td>review_100</td>\n",
       "      <td>ProductId: B0019CW0HE\\nUserId: A2P6ACFZ8FTNVV\\...</td>\n",
       "    </tr>\n",
       "    <tr>\n",
       "      <th>2</th>\n",
       "      <td>review_1000</td>\n",
       "      <td>ProductId: B006F2NYI2\\nUserId: A132DJVI37RB4X\\...</td>\n",
       "    </tr>\n",
       "    <tr>\n",
       "      <th>3</th>\n",
       "      <td>review_10000</td>\n",
       "      <td>ProductId: B000P41A28\\nUserId: A82WIMR4RSVLI\\n...</td>\n",
       "    </tr>\n",
       "    <tr>\n",
       "      <th>4</th>\n",
       "      <td>review_100000</td>\n",
       "      <td>ProductId: B000LQORDE\\nUserId: A19W47CXJJP1MI\\...</td>\n",
       "    </tr>\n",
       "  </tbody>\n",
       "</table>\n",
       "</div>"
      ],
      "text/plain": [
       "       File Name                                       File Content\n",
       "0      review_10  ProductId: B00171APVA\\nUserId: A21BT40VZCCYT4\\...\n",
       "1     review_100  ProductId: B0019CW0HE\\nUserId: A2P6ACFZ8FTNVV\\...\n",
       "2    review_1000  ProductId: B006F2NYI2\\nUserId: A132DJVI37RB4X\\...\n",
       "3   review_10000  ProductId: B000P41A28\\nUserId: A82WIMR4RSVLI\\n...\n",
       "4  review_100000  ProductId: B000LQORDE\\nUserId: A19W47CXJJP1MI\\..."
      ]
     },
     "execution_count": 69,
     "metadata": {},
     "output_type": "execute_result"
    }
   ],
   "source": [
    "import os\n",
    "import pandas as pd\n",
    "text_files_directory = \"B:/txt_reviews\"\n",
    "\n",
    "file_names = []\n",
    "file_contents = []\n",
    "\n",
    "for filename in os.listdir(text_files_directory):\n",
    "    if filename.endswith(\".txt\"):\n",
    "        file_path = os.path.join(text_files_directory, filename)\n",
    "\n",
    "        with open(file_path, 'r', encoding='utf-8') as file:\n",
    "            file_name = os.path.splitext(filename)[0] \n",
    "            content = file.read()\n",
    "            \n",
    "            file_names.append(file_name)\n",
    "            file_contents.append(content)\n",
    "\n",
    "# Create a DataFrame\n",
    "df = pd.DataFrame({'File Name': file_names, 'File Content': file_contents})\n",
    "\n",
    "# Display the DataFrame\n",
    "df.head()\n"
   ]
  },
  {
   "cell_type": "code",
   "execution_count": 132,
   "id": "f4f05be6",
   "metadata": {},
   "outputs": [
    {
     "data": {
      "text/plain": [
       "568453"
      ]
     },
     "execution_count": 132,
     "metadata": {},
     "output_type": "execute_result"
    }
   ],
   "source": [
    "len(df['File Name'])"
   ]
  },
  {
   "cell_type": "code",
   "execution_count": 3,
   "id": "ae124c2a",
   "metadata": {},
   "outputs": [],
   "source": [
    "import re"
   ]
  },
  {
   "cell_type": "code",
   "execution_count": 111,
   "id": "896424f3",
   "metadata": {},
   "outputs": [
    {
     "data": {
      "text/plain": [
       "'ProductId: B00171APVA\\nUserId: A21BT40VZCCYT4\\nProfileName: Carol A. Reed\\nHelpfulnessNumerator: 0\\nHelpfulnessDenominator: 0\\nScore: 5\\nTime: 1351209600\\nReviewSummary: Healthy Dog Food\\nReviewText: This is a very healthy dog food. Good for their digestion. Also good for small puppies. My dog eats her required amount at every feeding.\\n'"
      ]
     },
     "execution_count": 111,
     "metadata": {},
     "output_type": "execute_result"
    }
   ],
   "source": [
    "df['File Content'][0]"
   ]
  },
  {
   "cell_type": "code",
   "execution_count": null,
   "id": "f7b44473",
   "metadata": {},
   "outputs": [],
   "source": [
    "# re.findall(r\"Good:(.*)\\nBad:\",reviews)"
   ]
  },
  {
   "cell_type": "code",
   "execution_count": 147,
   "id": "5b0e8418",
   "metadata": {},
   "outputs": [
    {
     "data": {
      "text/plain": [
       "['B00171APVA']"
      ]
     },
     "execution_count": 147,
     "metadata": {},
     "output_type": "execute_result"
    }
   ],
   "source": [
    "re.findall(r\"ProductId: (.*)\\nUserId:\",df['File Content'][0])"
   ]
  },
  {
   "cell_type": "code",
   "execution_count": 204,
   "id": "a4cb45fa",
   "metadata": {},
   "outputs": [],
   "source": [
    "regex = r\"ProductId: (.*)\\nUserId:\"\n",
    "df['ProductId'] = df['File Content'].apply(lambda x: re.findall(regex,x)[0])"
   ]
  },
  {
   "cell_type": "code",
   "execution_count": 206,
   "id": "7fc5d9c1",
   "metadata": {},
   "outputs": [
    {
     "data": {
      "text/plain": [
       "0         B00171APVA\n",
       "1         B0019CW0HE\n",
       "2         B006F2NYI2\n",
       "3         B000P41A28\n",
       "4         B000LQORDE\n",
       "             ...    \n",
       "568448    B000LQORDE\n",
       "568449    B000LQORDE\n",
       "568450    B000LQORDE\n",
       "568451    B000LQORDE\n",
       "568452    B000LQORDE\n",
       "Name: ProductId, Length: 568453, dtype: object"
      ]
     },
     "execution_count": 206,
     "metadata": {},
     "output_type": "execute_result"
    }
   ],
   "source": [
    "df['ProductId']"
   ]
  },
  {
   "cell_type": "code",
   "execution_count": 196,
   "id": "35813f02",
   "metadata": {},
   "outputs": [],
   "source": [
    "# UserId=[]\n",
    "# for i in df['File Content']:\n",
    "#     ab=re.findall(r\"UserId: (.*)\\nProfileName:\",df['File Content'][8])\n",
    "#     UserId.append(ab)"
   ]
  },
  {
   "cell_type": "code",
   "execution_count": 202,
   "id": "e51b14e5",
   "metadata": {},
   "outputs": [],
   "source": [
    "regex = r\"UserId: (.*)\\nProfileName:\"\n",
    "df['Userid'] = df['File Content'].apply(lambda x: re.findall(regex,x)[0])"
   ]
  },
  {
   "cell_type": "code",
   "execution_count": 203,
   "id": "c01faf72",
   "metadata": {},
   "outputs": [
    {
     "data": {
      "text/plain": [
       "0         A21BT40VZCCYT4\n",
       "1         A2P6ACFZ8FTNVV\n",
       "2         A132DJVI37RB4X\n",
       "3          A82WIMR4RSVLI\n",
       "4         A19W47CXJJP1MI\n",
       "               ...      \n",
       "568448     AL22WN8RBBOW7\n",
       "568449    A2P7HIRYYWVOBD\n",
       "568450    A1K0ZH5MQFBA77\n",
       "568451    A29FRN2O7LWINL\n",
       "568452     A9Q950IPXJR1D\n",
       "Name: Userid, Length: 568453, dtype: object"
      ]
     },
     "execution_count": 203,
     "metadata": {},
     "output_type": "execute_result"
    }
   ],
   "source": [
    "df['Userid']"
   ]
  },
  {
   "cell_type": "code",
   "execution_count": 220,
   "id": "782516a4",
   "metadata": {},
   "outputs": [
    {
     "data": {
      "text/plain": [
       "'Melissa Benjamin'"
      ]
     },
     "execution_count": 220,
     "metadata": {},
     "output_type": "execute_result"
    }
   ],
   "source": [
    "df['ProfileName'][1]"
   ]
  },
  {
   "cell_type": "code",
   "execution_count": 211,
   "id": "3e4e3b90",
   "metadata": {},
   "outputs": [],
   "source": [
    "regex = r\"ProfileName: (.*)\\nHelpfulnessNumerator:\"\n",
    "df['ProfileName'] = df['File Content'].apply(lambda x: re.findall(regex,x)[0])"
   ]
  },
  {
   "cell_type": "code",
   "execution_count": 212,
   "id": "a523f341",
   "metadata": {
    "scrolled": true
   },
   "outputs": [
    {
     "data": {
      "text/plain": [
       "0                   Carol A. Reed\n",
       "1                Melissa Benjamin\n",
       "2                       Scottdrum\n",
       "3                      Emrose mom\n",
       "4              Amazonian Consumer\n",
       "                   ...           \n",
       "568448      LifeInTheCity \"trogg\"\n",
       "568449                      Mason\n",
       "568450                 jennilight\n",
       "568451                    T. Tsai\n",
       "568452    Lynda \"casual customer\"\n",
       "Name: ProfileName, Length: 568453, dtype: object"
      ]
     },
     "execution_count": 212,
     "metadata": {},
     "output_type": "execute_result"
    }
   ],
   "source": [
    "df['ProfileName']"
   ]
  },
  {
   "cell_type": "code",
   "execution_count": 235,
   "id": "5f2ab8af",
   "metadata": {},
   "outputs": [],
   "source": [
    "regex = r\"HelpfulnessNumerator: (.*)\\nHelpfulnessDenominator:\"\n",
    "df['HelpfulnessNumerator'] = df['File Content'].apply(lambda x: re.findall(regex,x)[0])"
   ]
  },
  {
   "cell_type": "code",
   "execution_count": 236,
   "id": "459b77c9",
   "metadata": {},
   "outputs": [
    {
     "data": {
      "text/plain": [
       "0         0\n",
       "1         0\n",
       "2         2\n",
       "3         0\n",
       "4         2\n",
       "         ..\n",
       "568448    2\n",
       "568449    2\n",
       "568450    2\n",
       "568451    2\n",
       "568452    2\n",
       "Name: HelpfulnessNumerator, Length: 568453, dtype: object"
      ]
     },
     "execution_count": 236,
     "metadata": {},
     "output_type": "execute_result"
    }
   ],
   "source": [
    "df['HelpfulnessNumerator']"
   ]
  },
  {
   "cell_type": "code",
   "execution_count": 237,
   "id": "56086f6e",
   "metadata": {},
   "outputs": [],
   "source": [
    "regex = r\"HelpfulnessDenominator: (.*)\\nScore:\"\n",
    "df['HelpfulnessDenominator'] = df['File Content'].apply(lambda x: re.findall(regex,x)[0])"
   ]
  },
  {
   "cell_type": "code",
   "execution_count": 238,
   "id": "30b6c4cd",
   "metadata": {},
   "outputs": [
    {
     "data": {
      "text/plain": [
       "0         0\n",
       "1         1\n",
       "2         5\n",
       "3         1\n",
       "4         5\n",
       "         ..\n",
       "568448    5\n",
       "568449    5\n",
       "568450    5\n",
       "568451    5\n",
       "568452    5\n",
       "Name: HelpfulnessDenominator, Length: 568453, dtype: object"
      ]
     },
     "execution_count": 238,
     "metadata": {},
     "output_type": "execute_result"
    }
   ],
   "source": [
    "df['HelpfulnessDenominator']"
   ]
  },
  {
   "cell_type": "code",
   "execution_count": 240,
   "id": "f8b3390a",
   "metadata": {},
   "outputs": [],
   "source": [
    "regex = r\"Score: (.*)\\nTime:\"\n",
    "df['Score'] = df['File Content'].apply(lambda x: re.findall(regex,x)[0])"
   ]
  },
  {
   "cell_type": "code",
   "execution_count": 241,
   "id": "1e1f775c",
   "metadata": {},
   "outputs": [
    {
     "data": {
      "text/plain": [
       "0         5\n",
       "1         1\n",
       "2         2\n",
       "3         4\n",
       "4         5\n",
       "         ..\n",
       "568448    5\n",
       "568449    5\n",
       "568450    4\n",
       "568451    5\n",
       "568452    4\n",
       "Name: Score, Length: 568453, dtype: object"
      ]
     },
     "execution_count": 241,
     "metadata": {},
     "output_type": "execute_result"
    }
   ],
   "source": [
    "df['Score']"
   ]
  },
  {
   "cell_type": "code",
   "execution_count": 242,
   "id": "d91da569",
   "metadata": {},
   "outputs": [],
   "source": [
    "regex = r\"Time: (.*)\\nReviewSummary:\"\n",
    "df['Time'] = df['File Content'].apply(lambda x: re.findall(regex,x)[0])"
   ]
  },
  {
   "cell_type": "code",
   "execution_count": 243,
   "id": "f0b038be",
   "metadata": {},
   "outputs": [
    {
     "data": {
      "text/plain": [
       "0         1351209600\n",
       "1         1331164800\n",
       "2         1332374400\n",
       "3         1337472000\n",
       "4         1235088000\n",
       "             ...    \n",
       "568448    1256428800\n",
       "568449    1254096000\n",
       "568450    1250985600\n",
       "568451    1237766400\n",
       "568452    1237161600\n",
       "Name: Time, Length: 568453, dtype: object"
      ]
     },
     "execution_count": 243,
     "metadata": {},
     "output_type": "execute_result"
    }
   ],
   "source": [
    "df['Time']"
   ]
  },
  {
   "cell_type": "code",
   "execution_count": 244,
   "id": "84e3921a",
   "metadata": {},
   "outputs": [],
   "source": [
    "regex = r\"ReviewSummary: (.*)\\nReviewText:\"\n",
    "df['ReviewSummary'] = df['File Content'].apply(lambda x: re.findall(regex,x)[0])"
   ]
  },
  {
   "cell_type": "code",
   "execution_count": 245,
   "id": "7af826f3",
   "metadata": {},
   "outputs": [
    {
     "data": {
      "text/plain": [
       "0                                          Healthy Dog Food\n",
       "1                                                       Bad\n",
       "2                                     Not hot, not habanero\n",
       "3                                The best weve tried so far\n",
       "4         This spicy noodle cures my cold, upset stomach...\n",
       "                                ...                        \n",
       "568448                                           Good Stuff\n",
       "568449                                               yummy!\n",
       "568450                                    Tastes like More!\n",
       "568451                                          Great ramen\n",
       "568452                                              Spicy!!\n",
       "Name: ReviewSummary, Length: 568453, dtype: object"
      ]
     },
     "execution_count": 245,
     "metadata": {},
     "output_type": "execute_result"
    }
   ],
   "source": [
    "df['ReviewSummary']"
   ]
  },
  {
   "cell_type": "code",
   "execution_count": 247,
   "id": "e184165b",
   "metadata": {},
   "outputs": [],
   "source": [
    "regex = r\"ReviewText: (.*)\\n\"\n",
    "df['ReviewText'] = df['File Content'].apply(lambda x: re.findall(regex,x)[0])"
   ]
  },
  {
   "cell_type": "code",
   "execution_count": 248,
   "id": "a3b29b38",
   "metadata": {},
   "outputs": [
    {
     "data": {
      "text/plain": [
       "0         This is a very healthy dog food. Good for thei...\n",
       "1         I fed this to my Golden Retriever and he hated...\n",
       "2         I have to admit, I was a sucker for the large ...\n",
       "3         We have a 7 week old... He had gas and constip...\n",
       "4         I love this noodle and have it once or twice a...\n",
       "                                ...                        \n",
       "568448    I love these noodle.  A little to spicy for th...\n",
       "568449    I just love it and will buy another box when I...\n",
       "568450    My late father in law used to have a rating sy...\n",
       "568451    This is my favorite brand of Korean ramen. It ...\n",
       "568452    I do like these noodles although, to say they ...\n",
       "Name: ReviewText, Length: 568453, dtype: object"
      ]
     },
     "execution_count": 248,
     "metadata": {},
     "output_type": "execute_result"
    }
   ],
   "source": [
    "df['ReviewText']"
   ]
  },
  {
   "cell_type": "code",
   "execution_count": 221,
   "id": "d546eb27",
   "metadata": {},
   "outputs": [
    {
     "data": {
      "text/plain": [
       "\"ProductId: B0019CW0HE\\nUserId: A2P6ACFZ8FTNVV\\nProfileName: Melissa Benjamin\\nHelpfulnessNumerator: 0\\nHelpfulnessDenominator: 1\\nScore: 1\\nTime: 1331164800\\nReviewSummary: Bad\\nReviewText: I fed this to my Golden Retriever and he hated it.  He wouldn't eat it, and when he did, it gave him terrible diarrhea.  We will not be buying this again.  It's also super expensive.\\n\""
      ]
     },
     "execution_count": 221,
     "metadata": {},
     "output_type": "execute_result"
    }
   ],
   "source": [
    "df['File Content'][1]"
   ]
  },
  {
   "cell_type": "code",
   "execution_count": 257,
   "id": "baae307a",
   "metadata": {},
   "outputs": [],
   "source": [
    "final_df=pd.DataFrame({\"ProductId\":df[\"ProductId\"],\"UserId\":df['Userid'],\"ProfileName\":df['ProfileName']\n",
    "                       ,\"HelpfulnessNumerator\":df['HelpfulnessNumerator'],\"HelpfulnessDenominator\":df['HelpfulnessDenominator'],\n",
    "                      \"Score\":df['Score'],\"Time\":df['Time'],\"ReviewSummary\":df['ReviewSummary'],\"ReviewText\":df['ReviewText']})"
   ]
  },
  {
   "cell_type": "code",
   "execution_count": 258,
   "id": "6b800919",
   "metadata": {},
   "outputs": [
    {
     "data": {
      "text/html": [
       "<div>\n",
       "<style scoped>\n",
       "    .dataframe tbody tr th:only-of-type {\n",
       "        vertical-align: middle;\n",
       "    }\n",
       "\n",
       "    .dataframe tbody tr th {\n",
       "        vertical-align: top;\n",
       "    }\n",
       "\n",
       "    .dataframe thead th {\n",
       "        text-align: right;\n",
       "    }\n",
       "</style>\n",
       "<table border=\"1\" class=\"dataframe\">\n",
       "  <thead>\n",
       "    <tr style=\"text-align: right;\">\n",
       "      <th></th>\n",
       "      <th>ProductId</th>\n",
       "      <th>UserId</th>\n",
       "      <th>ProfileName</th>\n",
       "      <th>HelpfulnessNumerator</th>\n",
       "      <th>HelpfulnessDenominator</th>\n",
       "      <th>Score</th>\n",
       "      <th>Time</th>\n",
       "      <th>ReviewSummary</th>\n",
       "      <th>ReviewText</th>\n",
       "    </tr>\n",
       "  </thead>\n",
       "  <tbody>\n",
       "    <tr>\n",
       "      <th>0</th>\n",
       "      <td>B00171APVA</td>\n",
       "      <td>A21BT40VZCCYT4</td>\n",
       "      <td>Carol A. Reed</td>\n",
       "      <td>0</td>\n",
       "      <td>0</td>\n",
       "      <td>5</td>\n",
       "      <td>1351209600</td>\n",
       "      <td>Healthy Dog Food</td>\n",
       "      <td>This is a very healthy dog food. Good for thei...</td>\n",
       "    </tr>\n",
       "    <tr>\n",
       "      <th>1</th>\n",
       "      <td>B0019CW0HE</td>\n",
       "      <td>A2P6ACFZ8FTNVV</td>\n",
       "      <td>Melissa Benjamin</td>\n",
       "      <td>0</td>\n",
       "      <td>1</td>\n",
       "      <td>1</td>\n",
       "      <td>1331164800</td>\n",
       "      <td>Bad</td>\n",
       "      <td>I fed this to my Golden Retriever and he hated...</td>\n",
       "    </tr>\n",
       "    <tr>\n",
       "      <th>2</th>\n",
       "      <td>B006F2NYI2</td>\n",
       "      <td>A132DJVI37RB4X</td>\n",
       "      <td>Scottdrum</td>\n",
       "      <td>2</td>\n",
       "      <td>5</td>\n",
       "      <td>2</td>\n",
       "      <td>1332374400</td>\n",
       "      <td>Not hot, not habanero</td>\n",
       "      <td>I have to admit, I was a sucker for the large ...</td>\n",
       "    </tr>\n",
       "    <tr>\n",
       "      <th>3</th>\n",
       "      <td>B000P41A28</td>\n",
       "      <td>A82WIMR4RSVLI</td>\n",
       "      <td>Emrose mom</td>\n",
       "      <td>0</td>\n",
       "      <td>1</td>\n",
       "      <td>4</td>\n",
       "      <td>1337472000</td>\n",
       "      <td>The best weve tried so far</td>\n",
       "      <td>We have a 7 week old... He had gas and constip...</td>\n",
       "    </tr>\n",
       "    <tr>\n",
       "      <th>4</th>\n",
       "      <td>B000LQORDE</td>\n",
       "      <td>A19W47CXJJP1MI</td>\n",
       "      <td>Amazonian Consumer</td>\n",
       "      <td>2</td>\n",
       "      <td>5</td>\n",
       "      <td>5</td>\n",
       "      <td>1235088000</td>\n",
       "      <td>This spicy noodle cures my cold, upset stomach...</td>\n",
       "      <td>I love this noodle and have it once or twice a...</td>\n",
       "    </tr>\n",
       "    <tr>\n",
       "      <th>...</th>\n",
       "      <td>...</td>\n",
       "      <td>...</td>\n",
       "      <td>...</td>\n",
       "      <td>...</td>\n",
       "      <td>...</td>\n",
       "      <td>...</td>\n",
       "      <td>...</td>\n",
       "      <td>...</td>\n",
       "      <td>...</td>\n",
       "    </tr>\n",
       "    <tr>\n",
       "      <th>568448</th>\n",
       "      <td>B000LQORDE</td>\n",
       "      <td>AL22WN8RBBOW7</td>\n",
       "      <td>LifeInTheCity \"trogg\"</td>\n",
       "      <td>2</td>\n",
       "      <td>5</td>\n",
       "      <td>5</td>\n",
       "      <td>1256428800</td>\n",
       "      <td>Good Stuff</td>\n",
       "      <td>I love these noodle.  A little to spicy for th...</td>\n",
       "    </tr>\n",
       "    <tr>\n",
       "      <th>568449</th>\n",
       "      <td>B000LQORDE</td>\n",
       "      <td>A2P7HIRYYWVOBD</td>\n",
       "      <td>Mason</td>\n",
       "      <td>2</td>\n",
       "      <td>5</td>\n",
       "      <td>5</td>\n",
       "      <td>1254096000</td>\n",
       "      <td>yummy!</td>\n",
       "      <td>I just love it and will buy another box when I...</td>\n",
       "    </tr>\n",
       "    <tr>\n",
       "      <th>568450</th>\n",
       "      <td>B000LQORDE</td>\n",
       "      <td>A1K0ZH5MQFBA77</td>\n",
       "      <td>jennilight</td>\n",
       "      <td>2</td>\n",
       "      <td>5</td>\n",
       "      <td>4</td>\n",
       "      <td>1250985600</td>\n",
       "      <td>Tastes like More!</td>\n",
       "      <td>My late father in law used to have a rating sy...</td>\n",
       "    </tr>\n",
       "    <tr>\n",
       "      <th>568451</th>\n",
       "      <td>B000LQORDE</td>\n",
       "      <td>A29FRN2O7LWINL</td>\n",
       "      <td>T. Tsai</td>\n",
       "      <td>2</td>\n",
       "      <td>5</td>\n",
       "      <td>5</td>\n",
       "      <td>1237766400</td>\n",
       "      <td>Great ramen</td>\n",
       "      <td>This is my favorite brand of Korean ramen. It ...</td>\n",
       "    </tr>\n",
       "    <tr>\n",
       "      <th>568452</th>\n",
       "      <td>B000LQORDE</td>\n",
       "      <td>A9Q950IPXJR1D</td>\n",
       "      <td>Lynda \"casual customer\"</td>\n",
       "      <td>2</td>\n",
       "      <td>5</td>\n",
       "      <td>4</td>\n",
       "      <td>1237161600</td>\n",
       "      <td>Spicy!!</td>\n",
       "      <td>I do like these noodles although, to say they ...</td>\n",
       "    </tr>\n",
       "  </tbody>\n",
       "</table>\n",
       "<p>568453 rows × 9 columns</p>\n",
       "</div>"
      ],
      "text/plain": [
       "         ProductId          UserId              ProfileName  \\\n",
       "0       B00171APVA  A21BT40VZCCYT4            Carol A. Reed   \n",
       "1       B0019CW0HE  A2P6ACFZ8FTNVV         Melissa Benjamin   \n",
       "2       B006F2NYI2  A132DJVI37RB4X                Scottdrum   \n",
       "3       B000P41A28   A82WIMR4RSVLI               Emrose mom   \n",
       "4       B000LQORDE  A19W47CXJJP1MI       Amazonian Consumer   \n",
       "...            ...             ...                      ...   \n",
       "568448  B000LQORDE   AL22WN8RBBOW7    LifeInTheCity \"trogg\"   \n",
       "568449  B000LQORDE  A2P7HIRYYWVOBD                    Mason   \n",
       "568450  B000LQORDE  A1K0ZH5MQFBA77               jennilight   \n",
       "568451  B000LQORDE  A29FRN2O7LWINL                  T. Tsai   \n",
       "568452  B000LQORDE   A9Q950IPXJR1D  Lynda \"casual customer\"   \n",
       "\n",
       "       HelpfulnessNumerator HelpfulnessDenominator Score        Time  \\\n",
       "0                         0                      0     5  1351209600   \n",
       "1                         0                      1     1  1331164800   \n",
       "2                         2                      5     2  1332374400   \n",
       "3                         0                      1     4  1337472000   \n",
       "4                         2                      5     5  1235088000   \n",
       "...                     ...                    ...   ...         ...   \n",
       "568448                    2                      5     5  1256428800   \n",
       "568449                    2                      5     5  1254096000   \n",
       "568450                    2                      5     4  1250985600   \n",
       "568451                    2                      5     5  1237766400   \n",
       "568452                    2                      5     4  1237161600   \n",
       "\n",
       "                                            ReviewSummary  \\\n",
       "0                                        Healthy Dog Food   \n",
       "1                                                     Bad   \n",
       "2                                   Not hot, not habanero   \n",
       "3                              The best weve tried so far   \n",
       "4       This spicy noodle cures my cold, upset stomach...   \n",
       "...                                                   ...   \n",
       "568448                                         Good Stuff   \n",
       "568449                                             yummy!   \n",
       "568450                                  Tastes like More!   \n",
       "568451                                        Great ramen   \n",
       "568452                                            Spicy!!   \n",
       "\n",
       "                                               ReviewText  \n",
       "0       This is a very healthy dog food. Good for thei...  \n",
       "1       I fed this to my Golden Retriever and he hated...  \n",
       "2       I have to admit, I was a sucker for the large ...  \n",
       "3       We have a 7 week old... He had gas and constip...  \n",
       "4       I love this noodle and have it once or twice a...  \n",
       "...                                                   ...  \n",
       "568448  I love these noodle.  A little to spicy for th...  \n",
       "568449  I just love it and will buy another box when I...  \n",
       "568450  My late father in law used to have a rating sy...  \n",
       "568451  This is my favorite brand of Korean ramen. It ...  \n",
       "568452  I do like these noodles although, to say they ...  \n",
       "\n",
       "[568453 rows x 9 columns]"
      ]
     },
     "execution_count": 258,
     "metadata": {},
     "output_type": "execute_result"
    }
   ],
   "source": [
    "final_df"
   ]
  },
  {
   "cell_type": "code",
   "execution_count": 259,
   "id": "cd8f8e94",
   "metadata": {},
   "outputs": [],
   "source": [
    "final_df.to_csv(\"TextDataProject.csv\")"
   ]
  },
  {
   "cell_type": "code",
   "execution_count": 13,
   "id": "c027453f",
   "metadata": {},
   "outputs": [],
   "source": [
    "final_df=pd.read_csv(\"TextDataProject.csv\")"
   ]
  },
  {
   "cell_type": "code",
   "execution_count": 14,
   "id": "542791d9",
   "metadata": {},
   "outputs": [],
   "source": [
    "final_df=final_df.drop(\"Unnamed: 0\",axis=1)"
   ]
  },
  {
   "cell_type": "code",
   "execution_count": 15,
   "id": "fb4ee0c6",
   "metadata": {
    "collapsed": true
   },
   "outputs": [
    {
     "data": {
      "text/html": [
       "<div>\n",
       "<style scoped>\n",
       "    .dataframe tbody tr th:only-of-type {\n",
       "        vertical-align: middle;\n",
       "    }\n",
       "\n",
       "    .dataframe tbody tr th {\n",
       "        vertical-align: top;\n",
       "    }\n",
       "\n",
       "    .dataframe thead th {\n",
       "        text-align: right;\n",
       "    }\n",
       "</style>\n",
       "<table border=\"1\" class=\"dataframe\">\n",
       "  <thead>\n",
       "    <tr style=\"text-align: right;\">\n",
       "      <th></th>\n",
       "      <th>ProductId</th>\n",
       "      <th>UserId</th>\n",
       "      <th>ProfileName</th>\n",
       "      <th>HelpfulnessNumerator</th>\n",
       "      <th>HelpfulnessDenominator</th>\n",
       "      <th>Score</th>\n",
       "      <th>Time</th>\n",
       "      <th>ReviewSummary</th>\n",
       "      <th>ReviewText</th>\n",
       "    </tr>\n",
       "  </thead>\n",
       "  <tbody>\n",
       "    <tr>\n",
       "      <th>0</th>\n",
       "      <td>B00171APVA</td>\n",
       "      <td>A21BT40VZCCYT4</td>\n",
       "      <td>Carol A. Reed</td>\n",
       "      <td>0</td>\n",
       "      <td>0</td>\n",
       "      <td>5</td>\n",
       "      <td>1351209600</td>\n",
       "      <td>Healthy Dog Food</td>\n",
       "      <td>This is a very healthy dog food. Good for thei...</td>\n",
       "    </tr>\n",
       "    <tr>\n",
       "      <th>1</th>\n",
       "      <td>B0019CW0HE</td>\n",
       "      <td>A2P6ACFZ8FTNVV</td>\n",
       "      <td>Melissa Benjamin</td>\n",
       "      <td>0</td>\n",
       "      <td>1</td>\n",
       "      <td>1</td>\n",
       "      <td>1331164800</td>\n",
       "      <td>Bad</td>\n",
       "      <td>I fed this to my Golden Retriever and he hated...</td>\n",
       "    </tr>\n",
       "    <tr>\n",
       "      <th>2</th>\n",
       "      <td>B006F2NYI2</td>\n",
       "      <td>A132DJVI37RB4X</td>\n",
       "      <td>Scottdrum</td>\n",
       "      <td>2</td>\n",
       "      <td>5</td>\n",
       "      <td>2</td>\n",
       "      <td>1332374400</td>\n",
       "      <td>Not hot, not habanero</td>\n",
       "      <td>I have to admit, I was a sucker for the large ...</td>\n",
       "    </tr>\n",
       "    <tr>\n",
       "      <th>3</th>\n",
       "      <td>B000P41A28</td>\n",
       "      <td>A82WIMR4RSVLI</td>\n",
       "      <td>Emrose mom</td>\n",
       "      <td>0</td>\n",
       "      <td>1</td>\n",
       "      <td>4</td>\n",
       "      <td>1337472000</td>\n",
       "      <td>The best weve tried so far</td>\n",
       "      <td>We have a 7 week old... He had gas and constip...</td>\n",
       "    </tr>\n",
       "    <tr>\n",
       "      <th>4</th>\n",
       "      <td>B000LQORDE</td>\n",
       "      <td>A19W47CXJJP1MI</td>\n",
       "      <td>Amazonian Consumer</td>\n",
       "      <td>2</td>\n",
       "      <td>5</td>\n",
       "      <td>5</td>\n",
       "      <td>1235088000</td>\n",
       "      <td>This spicy noodle cures my cold, upset stomach...</td>\n",
       "      <td>I love this noodle and have it once or twice a...</td>\n",
       "    </tr>\n",
       "    <tr>\n",
       "      <th>...</th>\n",
       "      <td>...</td>\n",
       "      <td>...</td>\n",
       "      <td>...</td>\n",
       "      <td>...</td>\n",
       "      <td>...</td>\n",
       "      <td>...</td>\n",
       "      <td>...</td>\n",
       "      <td>...</td>\n",
       "      <td>...</td>\n",
       "    </tr>\n",
       "    <tr>\n",
       "      <th>568448</th>\n",
       "      <td>B000LQORDE</td>\n",
       "      <td>AL22WN8RBBOW7</td>\n",
       "      <td>LifeInTheCity \"trogg\"</td>\n",
       "      <td>2</td>\n",
       "      <td>5</td>\n",
       "      <td>5</td>\n",
       "      <td>1256428800</td>\n",
       "      <td>Good Stuff</td>\n",
       "      <td>I love these noodle.  A little to spicy for th...</td>\n",
       "    </tr>\n",
       "    <tr>\n",
       "      <th>568449</th>\n",
       "      <td>B000LQORDE</td>\n",
       "      <td>A2P7HIRYYWVOBD</td>\n",
       "      <td>Mason</td>\n",
       "      <td>2</td>\n",
       "      <td>5</td>\n",
       "      <td>5</td>\n",
       "      <td>1254096000</td>\n",
       "      <td>yummy!</td>\n",
       "      <td>I just love it and will buy another box when I...</td>\n",
       "    </tr>\n",
       "    <tr>\n",
       "      <th>568450</th>\n",
       "      <td>B000LQORDE</td>\n",
       "      <td>A1K0ZH5MQFBA77</td>\n",
       "      <td>jennilight</td>\n",
       "      <td>2</td>\n",
       "      <td>5</td>\n",
       "      <td>4</td>\n",
       "      <td>1250985600</td>\n",
       "      <td>Tastes like More!</td>\n",
       "      <td>My late father in law used to have a rating sy...</td>\n",
       "    </tr>\n",
       "    <tr>\n",
       "      <th>568451</th>\n",
       "      <td>B000LQORDE</td>\n",
       "      <td>A29FRN2O7LWINL</td>\n",
       "      <td>T. Tsai</td>\n",
       "      <td>2</td>\n",
       "      <td>5</td>\n",
       "      <td>5</td>\n",
       "      <td>1237766400</td>\n",
       "      <td>Great ramen</td>\n",
       "      <td>This is my favorite brand of Korean ramen. It ...</td>\n",
       "    </tr>\n",
       "    <tr>\n",
       "      <th>568452</th>\n",
       "      <td>B000LQORDE</td>\n",
       "      <td>A9Q950IPXJR1D</td>\n",
       "      <td>Lynda \"casual customer\"</td>\n",
       "      <td>2</td>\n",
       "      <td>5</td>\n",
       "      <td>4</td>\n",
       "      <td>1237161600</td>\n",
       "      <td>Spicy!!</td>\n",
       "      <td>I do like these noodles although, to say they ...</td>\n",
       "    </tr>\n",
       "  </tbody>\n",
       "</table>\n",
       "<p>568453 rows × 9 columns</p>\n",
       "</div>"
      ],
      "text/plain": [
       "         ProductId          UserId              ProfileName  \\\n",
       "0       B00171APVA  A21BT40VZCCYT4            Carol A. Reed   \n",
       "1       B0019CW0HE  A2P6ACFZ8FTNVV         Melissa Benjamin   \n",
       "2       B006F2NYI2  A132DJVI37RB4X                Scottdrum   \n",
       "3       B000P41A28   A82WIMR4RSVLI               Emrose mom   \n",
       "4       B000LQORDE  A19W47CXJJP1MI       Amazonian Consumer   \n",
       "...            ...             ...                      ...   \n",
       "568448  B000LQORDE   AL22WN8RBBOW7    LifeInTheCity \"trogg\"   \n",
       "568449  B000LQORDE  A2P7HIRYYWVOBD                    Mason   \n",
       "568450  B000LQORDE  A1K0ZH5MQFBA77               jennilight   \n",
       "568451  B000LQORDE  A29FRN2O7LWINL                  T. Tsai   \n",
       "568452  B000LQORDE   A9Q950IPXJR1D  Lynda \"casual customer\"   \n",
       "\n",
       "        HelpfulnessNumerator  HelpfulnessDenominator  Score        Time  \\\n",
       "0                          0                       0      5  1351209600   \n",
       "1                          0                       1      1  1331164800   \n",
       "2                          2                       5      2  1332374400   \n",
       "3                          0                       1      4  1337472000   \n",
       "4                          2                       5      5  1235088000   \n",
       "...                      ...                     ...    ...         ...   \n",
       "568448                     2                       5      5  1256428800   \n",
       "568449                     2                       5      5  1254096000   \n",
       "568450                     2                       5      4  1250985600   \n",
       "568451                     2                       5      5  1237766400   \n",
       "568452                     2                       5      4  1237161600   \n",
       "\n",
       "                                            ReviewSummary  \\\n",
       "0                                        Healthy Dog Food   \n",
       "1                                                     Bad   \n",
       "2                                   Not hot, not habanero   \n",
       "3                              The best weve tried so far   \n",
       "4       This spicy noodle cures my cold, upset stomach...   \n",
       "...                                                   ...   \n",
       "568448                                         Good Stuff   \n",
       "568449                                             yummy!   \n",
       "568450                                  Tastes like More!   \n",
       "568451                                        Great ramen   \n",
       "568452                                            Spicy!!   \n",
       "\n",
       "                                               ReviewText  \n",
       "0       This is a very healthy dog food. Good for thei...  \n",
       "1       I fed this to my Golden Retriever and he hated...  \n",
       "2       I have to admit, I was a sucker for the large ...  \n",
       "3       We have a 7 week old... He had gas and constip...  \n",
       "4       I love this noodle and have it once or twice a...  \n",
       "...                                                   ...  \n",
       "568448  I love these noodle.  A little to spicy for th...  \n",
       "568449  I just love it and will buy another box when I...  \n",
       "568450  My late father in law used to have a rating sy...  \n",
       "568451  This is my favorite brand of Korean ramen. It ...  \n",
       "568452  I do like these noodles although, to say they ...  \n",
       "\n",
       "[568453 rows x 9 columns]"
      ]
     },
     "execution_count": 15,
     "metadata": {},
     "output_type": "execute_result"
    }
   ],
   "source": [
    "final_df"
   ]
  },
  {
   "cell_type": "code",
   "execution_count": 16,
   "id": "bb7894c7",
   "metadata": {},
   "outputs": [],
   "source": [
    "final_df.insert(0, 'Id', range(1,len(final_df)+1))"
   ]
  },
  {
   "cell_type": "code",
   "execution_count": 17,
   "id": "38dfe83b",
   "metadata": {
    "collapsed": true
   },
   "outputs": [
    {
     "data": {
      "text/html": [
       "<div>\n",
       "<style scoped>\n",
       "    .dataframe tbody tr th:only-of-type {\n",
       "        vertical-align: middle;\n",
       "    }\n",
       "\n",
       "    .dataframe tbody tr th {\n",
       "        vertical-align: top;\n",
       "    }\n",
       "\n",
       "    .dataframe thead th {\n",
       "        text-align: right;\n",
       "    }\n",
       "</style>\n",
       "<table border=\"1\" class=\"dataframe\">\n",
       "  <thead>\n",
       "    <tr style=\"text-align: right;\">\n",
       "      <th></th>\n",
       "      <th>Id</th>\n",
       "      <th>ProductId</th>\n",
       "      <th>UserId</th>\n",
       "      <th>ProfileName</th>\n",
       "      <th>HelpfulnessNumerator</th>\n",
       "      <th>HelpfulnessDenominator</th>\n",
       "      <th>Score</th>\n",
       "      <th>Time</th>\n",
       "      <th>ReviewSummary</th>\n",
       "      <th>ReviewText</th>\n",
       "    </tr>\n",
       "  </thead>\n",
       "  <tbody>\n",
       "    <tr>\n",
       "      <th>0</th>\n",
       "      <td>1</td>\n",
       "      <td>B00171APVA</td>\n",
       "      <td>A21BT40VZCCYT4</td>\n",
       "      <td>Carol A. Reed</td>\n",
       "      <td>0</td>\n",
       "      <td>0</td>\n",
       "      <td>5</td>\n",
       "      <td>1351209600</td>\n",
       "      <td>Healthy Dog Food</td>\n",
       "      <td>This is a very healthy dog food. Good for thei...</td>\n",
       "    </tr>\n",
       "    <tr>\n",
       "      <th>1</th>\n",
       "      <td>2</td>\n",
       "      <td>B0019CW0HE</td>\n",
       "      <td>A2P6ACFZ8FTNVV</td>\n",
       "      <td>Melissa Benjamin</td>\n",
       "      <td>0</td>\n",
       "      <td>1</td>\n",
       "      <td>1</td>\n",
       "      <td>1331164800</td>\n",
       "      <td>Bad</td>\n",
       "      <td>I fed this to my Golden Retriever and he hated...</td>\n",
       "    </tr>\n",
       "    <tr>\n",
       "      <th>2</th>\n",
       "      <td>3</td>\n",
       "      <td>B006F2NYI2</td>\n",
       "      <td>A132DJVI37RB4X</td>\n",
       "      <td>Scottdrum</td>\n",
       "      <td>2</td>\n",
       "      <td>5</td>\n",
       "      <td>2</td>\n",
       "      <td>1332374400</td>\n",
       "      <td>Not hot, not habanero</td>\n",
       "      <td>I have to admit, I was a sucker for the large ...</td>\n",
       "    </tr>\n",
       "    <tr>\n",
       "      <th>3</th>\n",
       "      <td>4</td>\n",
       "      <td>B000P41A28</td>\n",
       "      <td>A82WIMR4RSVLI</td>\n",
       "      <td>Emrose mom</td>\n",
       "      <td>0</td>\n",
       "      <td>1</td>\n",
       "      <td>4</td>\n",
       "      <td>1337472000</td>\n",
       "      <td>The best weve tried so far</td>\n",
       "      <td>We have a 7 week old... He had gas and constip...</td>\n",
       "    </tr>\n",
       "    <tr>\n",
       "      <th>4</th>\n",
       "      <td>5</td>\n",
       "      <td>B000LQORDE</td>\n",
       "      <td>A19W47CXJJP1MI</td>\n",
       "      <td>Amazonian Consumer</td>\n",
       "      <td>2</td>\n",
       "      <td>5</td>\n",
       "      <td>5</td>\n",
       "      <td>1235088000</td>\n",
       "      <td>This spicy noodle cures my cold, upset stomach...</td>\n",
       "      <td>I love this noodle and have it once or twice a...</td>\n",
       "    </tr>\n",
       "    <tr>\n",
       "      <th>...</th>\n",
       "      <td>...</td>\n",
       "      <td>...</td>\n",
       "      <td>...</td>\n",
       "      <td>...</td>\n",
       "      <td>...</td>\n",
       "      <td>...</td>\n",
       "      <td>...</td>\n",
       "      <td>...</td>\n",
       "      <td>...</td>\n",
       "      <td>...</td>\n",
       "    </tr>\n",
       "    <tr>\n",
       "      <th>568448</th>\n",
       "      <td>568449</td>\n",
       "      <td>B000LQORDE</td>\n",
       "      <td>AL22WN8RBBOW7</td>\n",
       "      <td>LifeInTheCity \"trogg\"</td>\n",
       "      <td>2</td>\n",
       "      <td>5</td>\n",
       "      <td>5</td>\n",
       "      <td>1256428800</td>\n",
       "      <td>Good Stuff</td>\n",
       "      <td>I love these noodle.  A little to spicy for th...</td>\n",
       "    </tr>\n",
       "    <tr>\n",
       "      <th>568449</th>\n",
       "      <td>568450</td>\n",
       "      <td>B000LQORDE</td>\n",
       "      <td>A2P7HIRYYWVOBD</td>\n",
       "      <td>Mason</td>\n",
       "      <td>2</td>\n",
       "      <td>5</td>\n",
       "      <td>5</td>\n",
       "      <td>1254096000</td>\n",
       "      <td>yummy!</td>\n",
       "      <td>I just love it and will buy another box when I...</td>\n",
       "    </tr>\n",
       "    <tr>\n",
       "      <th>568450</th>\n",
       "      <td>568451</td>\n",
       "      <td>B000LQORDE</td>\n",
       "      <td>A1K0ZH5MQFBA77</td>\n",
       "      <td>jennilight</td>\n",
       "      <td>2</td>\n",
       "      <td>5</td>\n",
       "      <td>4</td>\n",
       "      <td>1250985600</td>\n",
       "      <td>Tastes like More!</td>\n",
       "      <td>My late father in law used to have a rating sy...</td>\n",
       "    </tr>\n",
       "    <tr>\n",
       "      <th>568451</th>\n",
       "      <td>568452</td>\n",
       "      <td>B000LQORDE</td>\n",
       "      <td>A29FRN2O7LWINL</td>\n",
       "      <td>T. Tsai</td>\n",
       "      <td>2</td>\n",
       "      <td>5</td>\n",
       "      <td>5</td>\n",
       "      <td>1237766400</td>\n",
       "      <td>Great ramen</td>\n",
       "      <td>This is my favorite brand of Korean ramen. It ...</td>\n",
       "    </tr>\n",
       "    <tr>\n",
       "      <th>568452</th>\n",
       "      <td>568453</td>\n",
       "      <td>B000LQORDE</td>\n",
       "      <td>A9Q950IPXJR1D</td>\n",
       "      <td>Lynda \"casual customer\"</td>\n",
       "      <td>2</td>\n",
       "      <td>5</td>\n",
       "      <td>4</td>\n",
       "      <td>1237161600</td>\n",
       "      <td>Spicy!!</td>\n",
       "      <td>I do like these noodles although, to say they ...</td>\n",
       "    </tr>\n",
       "  </tbody>\n",
       "</table>\n",
       "<p>568453 rows × 10 columns</p>\n",
       "</div>"
      ],
      "text/plain": [
       "            Id   ProductId          UserId              ProfileName  \\\n",
       "0            1  B00171APVA  A21BT40VZCCYT4            Carol A. Reed   \n",
       "1            2  B0019CW0HE  A2P6ACFZ8FTNVV         Melissa Benjamin   \n",
       "2            3  B006F2NYI2  A132DJVI37RB4X                Scottdrum   \n",
       "3            4  B000P41A28   A82WIMR4RSVLI               Emrose mom   \n",
       "4            5  B000LQORDE  A19W47CXJJP1MI       Amazonian Consumer   \n",
       "...        ...         ...             ...                      ...   \n",
       "568448  568449  B000LQORDE   AL22WN8RBBOW7    LifeInTheCity \"trogg\"   \n",
       "568449  568450  B000LQORDE  A2P7HIRYYWVOBD                    Mason   \n",
       "568450  568451  B000LQORDE  A1K0ZH5MQFBA77               jennilight   \n",
       "568451  568452  B000LQORDE  A29FRN2O7LWINL                  T. Tsai   \n",
       "568452  568453  B000LQORDE   A9Q950IPXJR1D  Lynda \"casual customer\"   \n",
       "\n",
       "        HelpfulnessNumerator  HelpfulnessDenominator  Score        Time  \\\n",
       "0                          0                       0      5  1351209600   \n",
       "1                          0                       1      1  1331164800   \n",
       "2                          2                       5      2  1332374400   \n",
       "3                          0                       1      4  1337472000   \n",
       "4                          2                       5      5  1235088000   \n",
       "...                      ...                     ...    ...         ...   \n",
       "568448                     2                       5      5  1256428800   \n",
       "568449                     2                       5      5  1254096000   \n",
       "568450                     2                       5      4  1250985600   \n",
       "568451                     2                       5      5  1237766400   \n",
       "568452                     2                       5      4  1237161600   \n",
       "\n",
       "                                            ReviewSummary  \\\n",
       "0                                        Healthy Dog Food   \n",
       "1                                                     Bad   \n",
       "2                                   Not hot, not habanero   \n",
       "3                              The best weve tried so far   \n",
       "4       This spicy noodle cures my cold, upset stomach...   \n",
       "...                                                   ...   \n",
       "568448                                         Good Stuff   \n",
       "568449                                             yummy!   \n",
       "568450                                  Tastes like More!   \n",
       "568451                                        Great ramen   \n",
       "568452                                            Spicy!!   \n",
       "\n",
       "                                               ReviewText  \n",
       "0       This is a very healthy dog food. Good for thei...  \n",
       "1       I fed this to my Golden Retriever and he hated...  \n",
       "2       I have to admit, I was a sucker for the large ...  \n",
       "3       We have a 7 week old... He had gas and constip...  \n",
       "4       I love this noodle and have it once or twice a...  \n",
       "...                                                   ...  \n",
       "568448  I love these noodle.  A little to spicy for th...  \n",
       "568449  I just love it and will buy another box when I...  \n",
       "568450  My late father in law used to have a rating sy...  \n",
       "568451  This is my favorite brand of Korean ramen. It ...  \n",
       "568452  I do like these noodles although, to say they ...  \n",
       "\n",
       "[568453 rows x 10 columns]"
      ]
     },
     "execution_count": 17,
     "metadata": {},
     "output_type": "execute_result"
    }
   ],
   "source": [
    "final_df"
   ]
  },
  {
   "cell_type": "code",
   "execution_count": 18,
   "id": "e89d8e86",
   "metadata": {},
   "outputs": [
    {
     "data": {
      "text/plain": [
       "Id                         int64\n",
       "ProductId                 object\n",
       "UserId                    object\n",
       "ProfileName               object\n",
       "HelpfulnessNumerator       int64\n",
       "HelpfulnessDenominator     int64\n",
       "Score                      int64\n",
       "Time                       int64\n",
       "ReviewSummary             object\n",
       "ReviewText                object\n",
       "dtype: object"
      ]
     },
     "execution_count": 18,
     "metadata": {},
     "output_type": "execute_result"
    }
   ],
   "source": [
    "final_df.dtypes"
   ]
  },
  {
   "cell_type": "code",
   "execution_count": 19,
   "id": "e2ddb8fd",
   "metadata": {},
   "outputs": [],
   "source": [
    "final_df['HelpfulnessNumerator']=final_df['HelpfulnessNumerator'].astype('int')"
   ]
  },
  {
   "cell_type": "code",
   "execution_count": 20,
   "id": "0dcb0c02",
   "metadata": {},
   "outputs": [],
   "source": [
    "final_df['HelpfulnessDenominator']=final_df['HelpfulnessDenominator'].astype('int')"
   ]
  },
  {
   "cell_type": "code",
   "execution_count": 21,
   "id": "91bef8a3",
   "metadata": {},
   "outputs": [],
   "source": [
    "final_df['Score']=final_df['Score'].astype('int')"
   ]
  },
  {
   "cell_type": "code",
   "execution_count": 22,
   "id": "3ccb7753",
   "metadata": {},
   "outputs": [
    {
     "data": {
      "text/plain": [
       "Id                         int64\n",
       "ProductId                 object\n",
       "UserId                    object\n",
       "ProfileName               object\n",
       "HelpfulnessNumerator       int32\n",
       "HelpfulnessDenominator     int32\n",
       "Score                      int32\n",
       "Time                       int64\n",
       "ReviewSummary             object\n",
       "ReviewText                object\n",
       "dtype: object"
      ]
     },
     "execution_count": 22,
     "metadata": {},
     "output_type": "execute_result"
    }
   ],
   "source": [
    "final_df.dtypes"
   ]
  },
  {
   "cell_type": "code",
   "execution_count": 23,
   "id": "fba1ba51",
   "metadata": {},
   "outputs": [
    {
     "data": {
      "text/html": [
       "<div>\n",
       "<style scoped>\n",
       "    .dataframe tbody tr th:only-of-type {\n",
       "        vertical-align: middle;\n",
       "    }\n",
       "\n",
       "    .dataframe tbody tr th {\n",
       "        vertical-align: top;\n",
       "    }\n",
       "\n",
       "    .dataframe thead th {\n",
       "        text-align: right;\n",
       "    }\n",
       "</style>\n",
       "<table border=\"1\" class=\"dataframe\">\n",
       "  <thead>\n",
       "    <tr style=\"text-align: right;\">\n",
       "      <th></th>\n",
       "      <th>Id</th>\n",
       "      <th>ProductId</th>\n",
       "      <th>UserId</th>\n",
       "      <th>ProfileName</th>\n",
       "      <th>HelpfulnessNumerator</th>\n",
       "      <th>HelpfulnessDenominator</th>\n",
       "      <th>Score</th>\n",
       "      <th>Time</th>\n",
       "      <th>ReviewSummary</th>\n",
       "      <th>ReviewText</th>\n",
       "    </tr>\n",
       "  </thead>\n",
       "  <tbody>\n",
       "  </tbody>\n",
       "</table>\n",
       "</div>"
      ],
      "text/plain": [
       "Empty DataFrame\n",
       "Columns: [Id, ProductId, UserId, ProfileName, HelpfulnessNumerator, HelpfulnessDenominator, Score, Time, ReviewSummary, ReviewText]\n",
       "Index: []"
      ]
     },
     "execution_count": 23,
     "metadata": {},
     "output_type": "execute_result"
    }
   ],
   "source": [
    "final_df[final_df.duplicated()]"
   ]
  },
  {
   "cell_type": "code",
   "execution_count": null,
   "id": "a91cdb2c",
   "metadata": {},
   "outputs": [],
   "source": [
    "# Helpfulness (fraction of users who found the review helpful) = HelpfulnessNumerator / HelpfulnessDenominator"
   ]
  },
  {
   "cell_type": "code",
   "execution_count": 25,
   "id": "49efe001",
   "metadata": {},
   "outputs": [],
   "source": [
    "final_df.insert(6, 'Helpfulness', final_df['HelpfulnessNumerator']/final_df['HelpfulnessDenominator'])"
   ]
  },
  {
   "cell_type": "code",
   "execution_count": 26,
   "id": "78e66f0e",
   "metadata": {},
   "outputs": [
    {
     "data": {
      "text/plain": [
       "1.000000    183308\n",
       "0.000000     33774\n",
       "0.500000     21623\n",
       "0.666667     10514\n",
       "0.750000      6364\n",
       "             ...  \n",
       "0.754717         1\n",
       "0.978078         1\n",
       "0.697674         1\n",
       "0.067669         1\n",
       "0.970000         1\n",
       "Name: Helpfulness, Length: 951, dtype: int64"
      ]
     },
     "execution_count": 26,
     "metadata": {},
     "output_type": "execute_result"
    }
   ],
   "source": [
    "final_df['Helpfulness'].value_counts()"
   ]
  },
  {
   "cell_type": "code",
   "execution_count": 28,
   "id": "33618a3c",
   "metadata": {},
   "outputs": [
    {
     "data": {
      "text/plain": [
       "270052"
      ]
     },
     "execution_count": 28,
     "metadata": {},
     "output_type": "execute_result"
    }
   ],
   "source": [
    "final_df['Helpfulness'].isnull().sum()"
   ]
  },
  {
   "cell_type": "code",
   "execution_count": 29,
   "id": "088a97c1",
   "metadata": {},
   "outputs": [
    {
     "data": {
      "text/plain": [
       "1.0"
      ]
     },
     "execution_count": 29,
     "metadata": {},
     "output_type": "execute_result"
    }
   ],
   "source": [
    "final_df['Helpfulness'].median()"
   ]
  },
  {
   "cell_type": "code",
   "execution_count": 30,
   "id": "1ded0515",
   "metadata": {},
   "outputs": [],
   "source": [
    "final_df['Helpfulness']=final_df['Helpfulness'].fillna(final_df['Helpfulness'].median())"
   ]
  },
  {
   "cell_type": "code",
   "execution_count": 32,
   "id": "0542407b",
   "metadata": {},
   "outputs": [],
   "source": [
    "final_df['ProfileName']=final_df['ProfileName'].fillna(final_df['ProfileName'].mode()[0])\n",
    "final_df['ReviewSummary']=final_df['ReviewSummary'].fillna(final_df['ReviewSummary'].mode()[0])"
   ]
  },
  {
   "cell_type": "code",
   "execution_count": 33,
   "id": "a6c7f414",
   "metadata": {},
   "outputs": [
    {
     "data": {
      "text/plain": [
       "Id                        0\n",
       "ProductId                 0\n",
       "UserId                    0\n",
       "ProfileName               0\n",
       "HelpfulnessNumerator      0\n",
       "HelpfulnessDenominator    0\n",
       "Helpfulness               0\n",
       "Score                     0\n",
       "Time                      0\n",
       "ReviewSummary             0\n",
       "ReviewText                0\n",
       "dtype: int64"
      ]
     },
     "execution_count": 33,
     "metadata": {},
     "output_type": "execute_result"
    }
   ],
   "source": [
    "final_df.isnull().sum()"
   ]
  },
  {
   "cell_type": "code",
   "execution_count": 34,
   "id": "df230e2b",
   "metadata": {},
   "outputs": [
    {
     "data": {
      "text/html": [
       "<div>\n",
       "<style scoped>\n",
       "    .dataframe tbody tr th:only-of-type {\n",
       "        vertical-align: middle;\n",
       "    }\n",
       "\n",
       "    .dataframe tbody tr th {\n",
       "        vertical-align: top;\n",
       "    }\n",
       "\n",
       "    .dataframe thead th {\n",
       "        text-align: right;\n",
       "    }\n",
       "</style>\n",
       "<table border=\"1\" class=\"dataframe\">\n",
       "  <thead>\n",
       "    <tr style=\"text-align: right;\">\n",
       "      <th></th>\n",
       "      <th>Id</th>\n",
       "      <th>ProductId</th>\n",
       "      <th>UserId</th>\n",
       "      <th>ProfileName</th>\n",
       "      <th>HelpfulnessNumerator</th>\n",
       "      <th>HelpfulnessDenominator</th>\n",
       "      <th>Helpfulness</th>\n",
       "      <th>Score</th>\n",
       "      <th>Time</th>\n",
       "      <th>ReviewSummary</th>\n",
       "      <th>ReviewText</th>\n",
       "    </tr>\n",
       "  </thead>\n",
       "  <tbody>\n",
       "    <tr>\n",
       "      <th>0</th>\n",
       "      <td>1</td>\n",
       "      <td>B00171APVA</td>\n",
       "      <td>A21BT40VZCCYT4</td>\n",
       "      <td>Carol A. Reed</td>\n",
       "      <td>0</td>\n",
       "      <td>0</td>\n",
       "      <td>1.0</td>\n",
       "      <td>5</td>\n",
       "      <td>1351209600</td>\n",
       "      <td>Healthy Dog Food</td>\n",
       "      <td>This is a very healthy dog food. Good for thei...</td>\n",
       "    </tr>\n",
       "    <tr>\n",
       "      <th>1</th>\n",
       "      <td>2</td>\n",
       "      <td>B0019CW0HE</td>\n",
       "      <td>A2P6ACFZ8FTNVV</td>\n",
       "      <td>Melissa Benjamin</td>\n",
       "      <td>0</td>\n",
       "      <td>1</td>\n",
       "      <td>0.0</td>\n",
       "      <td>1</td>\n",
       "      <td>1331164800</td>\n",
       "      <td>Bad</td>\n",
       "      <td>I fed this to my Golden Retriever and he hated...</td>\n",
       "    </tr>\n",
       "    <tr>\n",
       "      <th>2</th>\n",
       "      <td>3</td>\n",
       "      <td>B006F2NYI2</td>\n",
       "      <td>A132DJVI37RB4X</td>\n",
       "      <td>Scottdrum</td>\n",
       "      <td>2</td>\n",
       "      <td>5</td>\n",
       "      <td>0.4</td>\n",
       "      <td>2</td>\n",
       "      <td>1332374400</td>\n",
       "      <td>Not hot, not habanero</td>\n",
       "      <td>I have to admit, I was a sucker for the large ...</td>\n",
       "    </tr>\n",
       "    <tr>\n",
       "      <th>3</th>\n",
       "      <td>4</td>\n",
       "      <td>B000P41A28</td>\n",
       "      <td>A82WIMR4RSVLI</td>\n",
       "      <td>Emrose mom</td>\n",
       "      <td>0</td>\n",
       "      <td>1</td>\n",
       "      <td>0.0</td>\n",
       "      <td>4</td>\n",
       "      <td>1337472000</td>\n",
       "      <td>The best weve tried so far</td>\n",
       "      <td>We have a 7 week old... He had gas and constip...</td>\n",
       "    </tr>\n",
       "    <tr>\n",
       "      <th>4</th>\n",
       "      <td>5</td>\n",
       "      <td>B000LQORDE</td>\n",
       "      <td>A19W47CXJJP1MI</td>\n",
       "      <td>Amazonian Consumer</td>\n",
       "      <td>2</td>\n",
       "      <td>5</td>\n",
       "      <td>0.4</td>\n",
       "      <td>5</td>\n",
       "      <td>1235088000</td>\n",
       "      <td>This spicy noodle cures my cold, upset stomach...</td>\n",
       "      <td>I love this noodle and have it once or twice a...</td>\n",
       "    </tr>\n",
       "    <tr>\n",
       "      <th>...</th>\n",
       "      <td>...</td>\n",
       "      <td>...</td>\n",
       "      <td>...</td>\n",
       "      <td>...</td>\n",
       "      <td>...</td>\n",
       "      <td>...</td>\n",
       "      <td>...</td>\n",
       "      <td>...</td>\n",
       "      <td>...</td>\n",
       "      <td>...</td>\n",
       "      <td>...</td>\n",
       "    </tr>\n",
       "    <tr>\n",
       "      <th>568448</th>\n",
       "      <td>568449</td>\n",
       "      <td>B000LQORDE</td>\n",
       "      <td>AL22WN8RBBOW7</td>\n",
       "      <td>LifeInTheCity \"trogg\"</td>\n",
       "      <td>2</td>\n",
       "      <td>5</td>\n",
       "      <td>0.4</td>\n",
       "      <td>5</td>\n",
       "      <td>1256428800</td>\n",
       "      <td>Good Stuff</td>\n",
       "      <td>I love these noodle.  A little to spicy for th...</td>\n",
       "    </tr>\n",
       "    <tr>\n",
       "      <th>568449</th>\n",
       "      <td>568450</td>\n",
       "      <td>B000LQORDE</td>\n",
       "      <td>A2P7HIRYYWVOBD</td>\n",
       "      <td>Mason</td>\n",
       "      <td>2</td>\n",
       "      <td>5</td>\n",
       "      <td>0.4</td>\n",
       "      <td>5</td>\n",
       "      <td>1254096000</td>\n",
       "      <td>yummy!</td>\n",
       "      <td>I just love it and will buy another box when I...</td>\n",
       "    </tr>\n",
       "    <tr>\n",
       "      <th>568450</th>\n",
       "      <td>568451</td>\n",
       "      <td>B000LQORDE</td>\n",
       "      <td>A1K0ZH5MQFBA77</td>\n",
       "      <td>jennilight</td>\n",
       "      <td>2</td>\n",
       "      <td>5</td>\n",
       "      <td>0.4</td>\n",
       "      <td>4</td>\n",
       "      <td>1250985600</td>\n",
       "      <td>Tastes like More!</td>\n",
       "      <td>My late father in law used to have a rating sy...</td>\n",
       "    </tr>\n",
       "    <tr>\n",
       "      <th>568451</th>\n",
       "      <td>568452</td>\n",
       "      <td>B000LQORDE</td>\n",
       "      <td>A29FRN2O7LWINL</td>\n",
       "      <td>T. Tsai</td>\n",
       "      <td>2</td>\n",
       "      <td>5</td>\n",
       "      <td>0.4</td>\n",
       "      <td>5</td>\n",
       "      <td>1237766400</td>\n",
       "      <td>Great ramen</td>\n",
       "      <td>This is my favorite brand of Korean ramen. It ...</td>\n",
       "    </tr>\n",
       "    <tr>\n",
       "      <th>568452</th>\n",
       "      <td>568453</td>\n",
       "      <td>B000LQORDE</td>\n",
       "      <td>A9Q950IPXJR1D</td>\n",
       "      <td>Lynda \"casual customer\"</td>\n",
       "      <td>2</td>\n",
       "      <td>5</td>\n",
       "      <td>0.4</td>\n",
       "      <td>4</td>\n",
       "      <td>1237161600</td>\n",
       "      <td>Spicy!!</td>\n",
       "      <td>I do like these noodles although, to say they ...</td>\n",
       "    </tr>\n",
       "  </tbody>\n",
       "</table>\n",
       "<p>568453 rows × 11 columns</p>\n",
       "</div>"
      ],
      "text/plain": [
       "            Id   ProductId          UserId              ProfileName  \\\n",
       "0            1  B00171APVA  A21BT40VZCCYT4            Carol A. Reed   \n",
       "1            2  B0019CW0HE  A2P6ACFZ8FTNVV         Melissa Benjamin   \n",
       "2            3  B006F2NYI2  A132DJVI37RB4X                Scottdrum   \n",
       "3            4  B000P41A28   A82WIMR4RSVLI               Emrose mom   \n",
       "4            5  B000LQORDE  A19W47CXJJP1MI       Amazonian Consumer   \n",
       "...        ...         ...             ...                      ...   \n",
       "568448  568449  B000LQORDE   AL22WN8RBBOW7    LifeInTheCity \"trogg\"   \n",
       "568449  568450  B000LQORDE  A2P7HIRYYWVOBD                    Mason   \n",
       "568450  568451  B000LQORDE  A1K0ZH5MQFBA77               jennilight   \n",
       "568451  568452  B000LQORDE  A29FRN2O7LWINL                  T. Tsai   \n",
       "568452  568453  B000LQORDE   A9Q950IPXJR1D  Lynda \"casual customer\"   \n",
       "\n",
       "        HelpfulnessNumerator  HelpfulnessDenominator  Helpfulness  Score  \\\n",
       "0                          0                       0          1.0      5   \n",
       "1                          0                       1          0.0      1   \n",
       "2                          2                       5          0.4      2   \n",
       "3                          0                       1          0.0      4   \n",
       "4                          2                       5          0.4      5   \n",
       "...                      ...                     ...          ...    ...   \n",
       "568448                     2                       5          0.4      5   \n",
       "568449                     2                       5          0.4      5   \n",
       "568450                     2                       5          0.4      4   \n",
       "568451                     2                       5          0.4      5   \n",
       "568452                     2                       5          0.4      4   \n",
       "\n",
       "              Time                                      ReviewSummary  \\\n",
       "0       1351209600                                   Healthy Dog Food   \n",
       "1       1331164800                                                Bad   \n",
       "2       1332374400                              Not hot, not habanero   \n",
       "3       1337472000                         The best weve tried so far   \n",
       "4       1235088000  This spicy noodle cures my cold, upset stomach...   \n",
       "...            ...                                                ...   \n",
       "568448  1256428800                                         Good Stuff   \n",
       "568449  1254096000                                             yummy!   \n",
       "568450  1250985600                                  Tastes like More!   \n",
       "568451  1237766400                                        Great ramen   \n",
       "568452  1237161600                                            Spicy!!   \n",
       "\n",
       "                                               ReviewText  \n",
       "0       This is a very healthy dog food. Good for thei...  \n",
       "1       I fed this to my Golden Retriever and he hated...  \n",
       "2       I have to admit, I was a sucker for the large ...  \n",
       "3       We have a 7 week old... He had gas and constip...  \n",
       "4       I love this noodle and have it once or twice a...  \n",
       "...                                                   ...  \n",
       "568448  I love these noodle.  A little to spicy for th...  \n",
       "568449  I just love it and will buy another box when I...  \n",
       "568450  My late father in law used to have a rating sy...  \n",
       "568451  This is my favorite brand of Korean ramen. It ...  \n",
       "568452  I do like these noodles although, to say they ...  \n",
       "\n",
       "[568453 rows x 11 columns]"
      ]
     },
     "execution_count": 34,
     "metadata": {},
     "output_type": "execute_result"
    }
   ],
   "source": [
    "final_df"
   ]
  },
  {
   "cell_type": "code",
   "execution_count": 35,
   "id": "9c9182d9",
   "metadata": {},
   "outputs": [],
   "source": [
    "final_df['Combine_Review']= final_df['ReviewSummary'] +' ' + final_df['ReviewText']"
   ]
  },
  {
   "cell_type": "code",
   "execution_count": 37,
   "id": "644279d6",
   "metadata": {},
   "outputs": [
    {
     "data": {
      "text/html": [
       "<div>\n",
       "<style scoped>\n",
       "    .dataframe tbody tr th:only-of-type {\n",
       "        vertical-align: middle;\n",
       "    }\n",
       "\n",
       "    .dataframe tbody tr th {\n",
       "        vertical-align: top;\n",
       "    }\n",
       "\n",
       "    .dataframe thead th {\n",
       "        text-align: right;\n",
       "    }\n",
       "</style>\n",
       "<table border=\"1\" class=\"dataframe\">\n",
       "  <thead>\n",
       "    <tr style=\"text-align: right;\">\n",
       "      <th></th>\n",
       "      <th>Id</th>\n",
       "      <th>ProductId</th>\n",
       "      <th>UserId</th>\n",
       "      <th>ProfileName</th>\n",
       "      <th>HelpfulnessNumerator</th>\n",
       "      <th>HelpfulnessDenominator</th>\n",
       "      <th>Helpfulness</th>\n",
       "      <th>Score</th>\n",
       "      <th>Time</th>\n",
       "      <th>ReviewSummary</th>\n",
       "      <th>ReviewText</th>\n",
       "      <th>Combine_Review</th>\n",
       "    </tr>\n",
       "  </thead>\n",
       "  <tbody>\n",
       "    <tr>\n",
       "      <th>0</th>\n",
       "      <td>1</td>\n",
       "      <td>B00171APVA</td>\n",
       "      <td>A21BT40VZCCYT4</td>\n",
       "      <td>Carol A. Reed</td>\n",
       "      <td>0</td>\n",
       "      <td>0</td>\n",
       "      <td>1.0</td>\n",
       "      <td>5</td>\n",
       "      <td>1351209600</td>\n",
       "      <td>Healthy Dog Food</td>\n",
       "      <td>This is a very healthy dog food. Good for thei...</td>\n",
       "      <td>Healthy Dog Food This is a very healthy dog fo...</td>\n",
       "    </tr>\n",
       "    <tr>\n",
       "      <th>1</th>\n",
       "      <td>2</td>\n",
       "      <td>B0019CW0HE</td>\n",
       "      <td>A2P6ACFZ8FTNVV</td>\n",
       "      <td>Melissa Benjamin</td>\n",
       "      <td>0</td>\n",
       "      <td>1</td>\n",
       "      <td>0.0</td>\n",
       "      <td>1</td>\n",
       "      <td>1331164800</td>\n",
       "      <td>Bad</td>\n",
       "      <td>I fed this to my Golden Retriever and he hated...</td>\n",
       "      <td>Bad I fed this to my Golden Retriever and he h...</td>\n",
       "    </tr>\n",
       "    <tr>\n",
       "      <th>2</th>\n",
       "      <td>3</td>\n",
       "      <td>B006F2NYI2</td>\n",
       "      <td>A132DJVI37RB4X</td>\n",
       "      <td>Scottdrum</td>\n",
       "      <td>2</td>\n",
       "      <td>5</td>\n",
       "      <td>0.4</td>\n",
       "      <td>2</td>\n",
       "      <td>1332374400</td>\n",
       "      <td>Not hot, not habanero</td>\n",
       "      <td>I have to admit, I was a sucker for the large ...</td>\n",
       "      <td>Not hot, not habanero I have to admit, I was a...</td>\n",
       "    </tr>\n",
       "    <tr>\n",
       "      <th>3</th>\n",
       "      <td>4</td>\n",
       "      <td>B000P41A28</td>\n",
       "      <td>A82WIMR4RSVLI</td>\n",
       "      <td>Emrose mom</td>\n",
       "      <td>0</td>\n",
       "      <td>1</td>\n",
       "      <td>0.0</td>\n",
       "      <td>4</td>\n",
       "      <td>1337472000</td>\n",
       "      <td>The best weve tried so far</td>\n",
       "      <td>We have a 7 week old... He had gas and constip...</td>\n",
       "      <td>The best weve tried so far We have a 7 week ol...</td>\n",
       "    </tr>\n",
       "    <tr>\n",
       "      <th>4</th>\n",
       "      <td>5</td>\n",
       "      <td>B000LQORDE</td>\n",
       "      <td>A19W47CXJJP1MI</td>\n",
       "      <td>Amazonian Consumer</td>\n",
       "      <td>2</td>\n",
       "      <td>5</td>\n",
       "      <td>0.4</td>\n",
       "      <td>5</td>\n",
       "      <td>1235088000</td>\n",
       "      <td>This spicy noodle cures my cold, upset stomach...</td>\n",
       "      <td>I love this noodle and have it once or twice a...</td>\n",
       "      <td>This spicy noodle cures my cold, upset stomach...</td>\n",
       "    </tr>\n",
       "  </tbody>\n",
       "</table>\n",
       "</div>"
      ],
      "text/plain": [
       "   Id   ProductId          UserId         ProfileName  HelpfulnessNumerator  \\\n",
       "0   1  B00171APVA  A21BT40VZCCYT4       Carol A. Reed                     0   \n",
       "1   2  B0019CW0HE  A2P6ACFZ8FTNVV    Melissa Benjamin                     0   \n",
       "2   3  B006F2NYI2  A132DJVI37RB4X           Scottdrum                     2   \n",
       "3   4  B000P41A28   A82WIMR4RSVLI          Emrose mom                     0   \n",
       "4   5  B000LQORDE  A19W47CXJJP1MI  Amazonian Consumer                     2   \n",
       "\n",
       "   HelpfulnessDenominator  Helpfulness  Score        Time  \\\n",
       "0                       0          1.0      5  1351209600   \n",
       "1                       1          0.0      1  1331164800   \n",
       "2                       5          0.4      2  1332374400   \n",
       "3                       1          0.0      4  1337472000   \n",
       "4                       5          0.4      5  1235088000   \n",
       "\n",
       "                                       ReviewSummary  \\\n",
       "0                                   Healthy Dog Food   \n",
       "1                                                Bad   \n",
       "2                              Not hot, not habanero   \n",
       "3                         The best weve tried so far   \n",
       "4  This spicy noodle cures my cold, upset stomach...   \n",
       "\n",
       "                                          ReviewText  \\\n",
       "0  This is a very healthy dog food. Good for thei...   \n",
       "1  I fed this to my Golden Retriever and he hated...   \n",
       "2  I have to admit, I was a sucker for the large ...   \n",
       "3  We have a 7 week old... He had gas and constip...   \n",
       "4  I love this noodle and have it once or twice a...   \n",
       "\n",
       "                                      Combine_Review  \n",
       "0  Healthy Dog Food This is a very healthy dog fo...  \n",
       "1  Bad I fed this to my Golden Retriever and he h...  \n",
       "2  Not hot, not habanero I have to admit, I was a...  \n",
       "3  The best weve tried so far We have a 7 week ol...  \n",
       "4  This spicy noodle cures my cold, upset stomach...  "
      ]
     },
     "execution_count": 37,
     "metadata": {},
     "output_type": "execute_result"
    }
   ],
   "source": [
    "final_df.head()"
   ]
  },
  {
   "cell_type": "code",
   "execution_count": 38,
   "id": "e0a53138",
   "metadata": {},
   "outputs": [],
   "source": [
    "final_df.to_csv(\"NLP_Project.csv\")"
   ]
  },
  {
   "cell_type": "code",
   "execution_count": 2,
   "id": "81b85a24",
   "metadata": {},
   "outputs": [],
   "source": [
    "final_df=pd.read_csv(\"NLP_Project.csv\")"
   ]
  },
  {
   "cell_type": "code",
   "execution_count": 3,
   "id": "5bc03544",
   "metadata": {},
   "outputs": [],
   "source": [
    "final_df=final_df.drop(\"Unnamed: 0\",axis=1)"
   ]
  },
  {
   "cell_type": "code",
   "execution_count": 4,
   "id": "7d10c05e",
   "metadata": {},
   "outputs": [
    {
     "data": {
      "text/html": [
       "<div>\n",
       "<style scoped>\n",
       "    .dataframe tbody tr th:only-of-type {\n",
       "        vertical-align: middle;\n",
       "    }\n",
       "\n",
       "    .dataframe tbody tr th {\n",
       "        vertical-align: top;\n",
       "    }\n",
       "\n",
       "    .dataframe thead th {\n",
       "        text-align: right;\n",
       "    }\n",
       "</style>\n",
       "<table border=\"1\" class=\"dataframe\">\n",
       "  <thead>\n",
       "    <tr style=\"text-align: right;\">\n",
       "      <th></th>\n",
       "      <th>Id</th>\n",
       "      <th>ProductId</th>\n",
       "      <th>UserId</th>\n",
       "      <th>ProfileName</th>\n",
       "      <th>HelpfulnessNumerator</th>\n",
       "      <th>HelpfulnessDenominator</th>\n",
       "      <th>Helpfulness</th>\n",
       "      <th>Score</th>\n",
       "      <th>Time</th>\n",
       "      <th>ReviewSummary</th>\n",
       "      <th>ReviewText</th>\n",
       "      <th>Combine_Review</th>\n",
       "    </tr>\n",
       "  </thead>\n",
       "  <tbody>\n",
       "    <tr>\n",
       "      <th>0</th>\n",
       "      <td>1</td>\n",
       "      <td>B00171APVA</td>\n",
       "      <td>A21BT40VZCCYT4</td>\n",
       "      <td>Carol A. Reed</td>\n",
       "      <td>0</td>\n",
       "      <td>0</td>\n",
       "      <td>1.0</td>\n",
       "      <td>5</td>\n",
       "      <td>1351209600</td>\n",
       "      <td>Healthy Dog Food</td>\n",
       "      <td>This is a very healthy dog food. Good for thei...</td>\n",
       "      <td>Healthy Dog Food This is a very healthy dog fo...</td>\n",
       "    </tr>\n",
       "    <tr>\n",
       "      <th>1</th>\n",
       "      <td>2</td>\n",
       "      <td>B0019CW0HE</td>\n",
       "      <td>A2P6ACFZ8FTNVV</td>\n",
       "      <td>Melissa Benjamin</td>\n",
       "      <td>0</td>\n",
       "      <td>1</td>\n",
       "      <td>0.0</td>\n",
       "      <td>1</td>\n",
       "      <td>1331164800</td>\n",
       "      <td>Bad</td>\n",
       "      <td>I fed this to my Golden Retriever and he hated...</td>\n",
       "      <td>Bad I fed this to my Golden Retriever and he h...</td>\n",
       "    </tr>\n",
       "    <tr>\n",
       "      <th>2</th>\n",
       "      <td>3</td>\n",
       "      <td>B006F2NYI2</td>\n",
       "      <td>A132DJVI37RB4X</td>\n",
       "      <td>Scottdrum</td>\n",
       "      <td>2</td>\n",
       "      <td>5</td>\n",
       "      <td>0.4</td>\n",
       "      <td>2</td>\n",
       "      <td>1332374400</td>\n",
       "      <td>Not hot, not habanero</td>\n",
       "      <td>I have to admit, I was a sucker for the large ...</td>\n",
       "      <td>Not hot, not habanero I have to admit, I was a...</td>\n",
       "    </tr>\n",
       "    <tr>\n",
       "      <th>3</th>\n",
       "      <td>4</td>\n",
       "      <td>B000P41A28</td>\n",
       "      <td>A82WIMR4RSVLI</td>\n",
       "      <td>Emrose mom</td>\n",
       "      <td>0</td>\n",
       "      <td>1</td>\n",
       "      <td>0.0</td>\n",
       "      <td>4</td>\n",
       "      <td>1337472000</td>\n",
       "      <td>The best weve tried so far</td>\n",
       "      <td>We have a 7 week old... He had gas and constip...</td>\n",
       "      <td>The best weve tried so far We have a 7 week ol...</td>\n",
       "    </tr>\n",
       "    <tr>\n",
       "      <th>4</th>\n",
       "      <td>5</td>\n",
       "      <td>B000LQORDE</td>\n",
       "      <td>A19W47CXJJP1MI</td>\n",
       "      <td>Amazonian Consumer</td>\n",
       "      <td>2</td>\n",
       "      <td>5</td>\n",
       "      <td>0.4</td>\n",
       "      <td>5</td>\n",
       "      <td>1235088000</td>\n",
       "      <td>This spicy noodle cures my cold, upset stomach...</td>\n",
       "      <td>I love this noodle and have it once or twice a...</td>\n",
       "      <td>This spicy noodle cures my cold, upset stomach...</td>\n",
       "    </tr>\n",
       "    <tr>\n",
       "      <th>...</th>\n",
       "      <td>...</td>\n",
       "      <td>...</td>\n",
       "      <td>...</td>\n",
       "      <td>...</td>\n",
       "      <td>...</td>\n",
       "      <td>...</td>\n",
       "      <td>...</td>\n",
       "      <td>...</td>\n",
       "      <td>...</td>\n",
       "      <td>...</td>\n",
       "      <td>...</td>\n",
       "      <td>...</td>\n",
       "    </tr>\n",
       "    <tr>\n",
       "      <th>568448</th>\n",
       "      <td>568449</td>\n",
       "      <td>B000LQORDE</td>\n",
       "      <td>AL22WN8RBBOW7</td>\n",
       "      <td>LifeInTheCity \"trogg\"</td>\n",
       "      <td>2</td>\n",
       "      <td>5</td>\n",
       "      <td>0.4</td>\n",
       "      <td>5</td>\n",
       "      <td>1256428800</td>\n",
       "      <td>Good Stuff</td>\n",
       "      <td>I love these noodle.  A little to spicy for th...</td>\n",
       "      <td>Good Stuff I love these noodle.  A little to s...</td>\n",
       "    </tr>\n",
       "    <tr>\n",
       "      <th>568449</th>\n",
       "      <td>568450</td>\n",
       "      <td>B000LQORDE</td>\n",
       "      <td>A2P7HIRYYWVOBD</td>\n",
       "      <td>Mason</td>\n",
       "      <td>2</td>\n",
       "      <td>5</td>\n",
       "      <td>0.4</td>\n",
       "      <td>5</td>\n",
       "      <td>1254096000</td>\n",
       "      <td>yummy!</td>\n",
       "      <td>I just love it and will buy another box when I...</td>\n",
       "      <td>yummy! I just love it and will buy another box...</td>\n",
       "    </tr>\n",
       "    <tr>\n",
       "      <th>568450</th>\n",
       "      <td>568451</td>\n",
       "      <td>B000LQORDE</td>\n",
       "      <td>A1K0ZH5MQFBA77</td>\n",
       "      <td>jennilight</td>\n",
       "      <td>2</td>\n",
       "      <td>5</td>\n",
       "      <td>0.4</td>\n",
       "      <td>4</td>\n",
       "      <td>1250985600</td>\n",
       "      <td>Tastes like More!</td>\n",
       "      <td>My late father in law used to have a rating sy...</td>\n",
       "      <td>Tastes like More! My late father in law used t...</td>\n",
       "    </tr>\n",
       "    <tr>\n",
       "      <th>568451</th>\n",
       "      <td>568452</td>\n",
       "      <td>B000LQORDE</td>\n",
       "      <td>A29FRN2O7LWINL</td>\n",
       "      <td>T. Tsai</td>\n",
       "      <td>2</td>\n",
       "      <td>5</td>\n",
       "      <td>0.4</td>\n",
       "      <td>5</td>\n",
       "      <td>1237766400</td>\n",
       "      <td>Great ramen</td>\n",
       "      <td>This is my favorite brand of Korean ramen. It ...</td>\n",
       "      <td>Great ramen This is my favorite brand of Korea...</td>\n",
       "    </tr>\n",
       "    <tr>\n",
       "      <th>568452</th>\n",
       "      <td>568453</td>\n",
       "      <td>B000LQORDE</td>\n",
       "      <td>A9Q950IPXJR1D</td>\n",
       "      <td>Lynda \"casual customer\"</td>\n",
       "      <td>2</td>\n",
       "      <td>5</td>\n",
       "      <td>0.4</td>\n",
       "      <td>4</td>\n",
       "      <td>1237161600</td>\n",
       "      <td>Spicy!!</td>\n",
       "      <td>I do like these noodles although, to say they ...</td>\n",
       "      <td>Spicy!! I do like these noodles although, to s...</td>\n",
       "    </tr>\n",
       "  </tbody>\n",
       "</table>\n",
       "<p>568453 rows × 12 columns</p>\n",
       "</div>"
      ],
      "text/plain": [
       "            Id   ProductId          UserId              ProfileName  \\\n",
       "0            1  B00171APVA  A21BT40VZCCYT4            Carol A. Reed   \n",
       "1            2  B0019CW0HE  A2P6ACFZ8FTNVV         Melissa Benjamin   \n",
       "2            3  B006F2NYI2  A132DJVI37RB4X                Scottdrum   \n",
       "3            4  B000P41A28   A82WIMR4RSVLI               Emrose mom   \n",
       "4            5  B000LQORDE  A19W47CXJJP1MI       Amazonian Consumer   \n",
       "...        ...         ...             ...                      ...   \n",
       "568448  568449  B000LQORDE   AL22WN8RBBOW7    LifeInTheCity \"trogg\"   \n",
       "568449  568450  B000LQORDE  A2P7HIRYYWVOBD                    Mason   \n",
       "568450  568451  B000LQORDE  A1K0ZH5MQFBA77               jennilight   \n",
       "568451  568452  B000LQORDE  A29FRN2O7LWINL                  T. Tsai   \n",
       "568452  568453  B000LQORDE   A9Q950IPXJR1D  Lynda \"casual customer\"   \n",
       "\n",
       "        HelpfulnessNumerator  HelpfulnessDenominator  Helpfulness  Score  \\\n",
       "0                          0                       0          1.0      5   \n",
       "1                          0                       1          0.0      1   \n",
       "2                          2                       5          0.4      2   \n",
       "3                          0                       1          0.0      4   \n",
       "4                          2                       5          0.4      5   \n",
       "...                      ...                     ...          ...    ...   \n",
       "568448                     2                       5          0.4      5   \n",
       "568449                     2                       5          0.4      5   \n",
       "568450                     2                       5          0.4      4   \n",
       "568451                     2                       5          0.4      5   \n",
       "568452                     2                       5          0.4      4   \n",
       "\n",
       "              Time                                      ReviewSummary  \\\n",
       "0       1351209600                                   Healthy Dog Food   \n",
       "1       1331164800                                                Bad   \n",
       "2       1332374400                              Not hot, not habanero   \n",
       "3       1337472000                         The best weve tried so far   \n",
       "4       1235088000  This spicy noodle cures my cold, upset stomach...   \n",
       "...            ...                                                ...   \n",
       "568448  1256428800                                         Good Stuff   \n",
       "568449  1254096000                                             yummy!   \n",
       "568450  1250985600                                  Tastes like More!   \n",
       "568451  1237766400                                        Great ramen   \n",
       "568452  1237161600                                            Spicy!!   \n",
       "\n",
       "                                               ReviewText  \\\n",
       "0       This is a very healthy dog food. Good for thei...   \n",
       "1       I fed this to my Golden Retriever and he hated...   \n",
       "2       I have to admit, I was a sucker for the large ...   \n",
       "3       We have a 7 week old... He had gas and constip...   \n",
       "4       I love this noodle and have it once or twice a...   \n",
       "...                                                   ...   \n",
       "568448  I love these noodle.  A little to spicy for th...   \n",
       "568449  I just love it and will buy another box when I...   \n",
       "568450  My late father in law used to have a rating sy...   \n",
       "568451  This is my favorite brand of Korean ramen. It ...   \n",
       "568452  I do like these noodles although, to say they ...   \n",
       "\n",
       "                                           Combine_Review  \n",
       "0       Healthy Dog Food This is a very healthy dog fo...  \n",
       "1       Bad I fed this to my Golden Retriever and he h...  \n",
       "2       Not hot, not habanero I have to admit, I was a...  \n",
       "3       The best weve tried so far We have a 7 week ol...  \n",
       "4       This spicy noodle cures my cold, upset stomach...  \n",
       "...                                                   ...  \n",
       "568448  Good Stuff I love these noodle.  A little to s...  \n",
       "568449  yummy! I just love it and will buy another box...  \n",
       "568450  Tastes like More! My late father in law used t...  \n",
       "568451  Great ramen This is my favorite brand of Korea...  \n",
       "568452  Spicy!! I do like these noodles although, to s...  \n",
       "\n",
       "[568453 rows x 12 columns]"
      ]
     },
     "execution_count": 4,
     "metadata": {},
     "output_type": "execute_result"
    }
   ],
   "source": [
    "final_df"
   ]
  },
  {
   "cell_type": "code",
   "execution_count": 12,
   "id": "70396ee4",
   "metadata": {},
   "outputs": [],
   "source": [
    "from nltk.tokenize import sent_tokenize, word_tokenize\n",
    "import re\n",
    "from nltk.corpus import stopwords\n",
    "from nltk.stem.porter import PorterStemmer\n",
    "from nltk.stem import WordNetLemmatizer\n",
    "from textblob import TextBlob,Word"
   ]
  },
  {
   "cell_type": "code",
   "execution_count": 13,
   "id": "dced1152",
   "metadata": {},
   "outputs": [],
   "source": [
    "ps=PorterStemmer()\n",
    "lemmatize=WordNetLemmatizer()"
   ]
  },
  {
   "cell_type": "code",
   "execution_count": 41,
   "id": "bba532c1",
   "metadata": {},
   "outputs": [],
   "source": [
    "# corpus=[]\n",
    "# for i in range(0,len(final_df)):\n",
    "#     view=re.sub(r'[^A-Za-z]',' ',final_df['Combine_Review'][i])\n",
    "#     view=view.lower()\n",
    "#     view=view.split()\n",
    "#     view=[ps.stem(word)for word in view if word not in set(stopwords.words('english'))]\n",
    "#     view=' '.join(view)\n",
    "#     corpus.append(view)"
   ]
  },
  {
   "cell_type": "code",
   "execution_count": 76,
   "id": "f66e2705",
   "metadata": {},
   "outputs": [
    {
     "data": {
      "text/plain": [
       "<AxesSubplot:>"
      ]
     },
     "execution_count": 76,
     "metadata": {},
     "output_type": "execute_result"
    },
    {
     "data": {
      "image/png": "[encoded data removed]",
      "text/plain": [
       "<Figure size 640x480 with 1 Axes>"
      ]
     },
     "metadata": {},
     "output_type": "display_data"
    }
   ],
   "source": [
    "final_df[\"Score\"].value_counts().sort_values(ascending=False).plot(kind=\"bar\",color=['purple','red','green','pink','blue'])"
   ]
  },
  {
   "cell_type": "code",
   "execution_count": 77,
   "id": "558e0a58",
   "metadata": {},
   "outputs": [
    {
     "data": {
      "image/png": "[encoded data removed]",
      "text/plain": [
       "<Figure size 800x500 with 1 Axes>"
      ]
     },
     "metadata": {},
     "output_type": "display_data"
    }
   ],
   "source": [
    "plt.figure(figsize=(8,5))\n",
    "sns.countplot(x=\"Score\",data=final_df)\n",
    "plt.title(\"Number of stars by Score\")\n",
    "plt.show()"
   ]
  },
  {
   "cell_type": "code",
   "execution_count": 4,
   "id": "9a40da09",
   "metadata": {},
   "outputs": [],
   "source": [
    "from nltk.tokenize import sent_tokenize, word_tokenize\n",
    "import re\n",
    "from nltk.corpus import stopwords\n",
    "from nltk.stem.porter import PorterStemmer\n",
    "from nltk.stem import WordNetLemmatizer\n",
    "from textblob import TextBlob,Word"
   ]
  },
  {
   "cell_type": "code",
   "execution_count": 5,
   "id": "2f1aba98",
   "metadata": {},
   "outputs": [],
   "source": [
    "from tqdm import tqdm, tqdm_notebook"
   ]
  },
  {
   "cell_type": "code",
   "execution_count": 6,
   "id": "5ac94aef",
   "metadata": {},
   "outputs": [],
   "source": [
    "tqdm.pandas()"
   ]
  },
  {
   "cell_type": "code",
   "execution_count": 7,
   "id": "776aa017",
   "metadata": {},
   "outputs": [],
   "source": [
    "import re"
   ]
  },
  {
   "cell_type": "code",
   "execution_count": 19,
   "id": "448dd9b2",
   "metadata": {},
   "outputs": [],
   "source": [
    "lemmatize=WordNetLemmatizer()"
   ]
  },
  {
   "cell_type": "code",
   "execution_count": 15,
   "id": "e3dc8455",
   "metadata": {},
   "outputs": [],
   "source": [
    "def clean_text(doc, stem=False):\n",
    "    # Removing Special Characters\n",
    "    doc = re.sub(r'[^A-z0-9 ]','',doc)\n",
    "    doc = re.sub(r'_','',doc)\n",
    "    # Convert to Lowercase\n",
    "    doc = doc.lower()\n",
    "    # Split the document into tokens\n",
    "    doc_list = doc.split()\n",
    "    # Correct the Spellings and removing stop words\n",
    "    doc_list = [word for word in doc_list if word not in stopwords.words('english')]\n",
    "    #doc_list = [str(TextBlob(word).correct()) for word in doc_list if word not in sw]\n",
    "    # Convert to Singularize\n",
    "    #doc_list = [str(Word(word).singularize()) for word in doc_list]\n",
    "    \n",
    "    return \" \".join(doc_list)"
   ]
  },
  {
   "cell_type": "code",
   "execution_count": 16,
   "id": "737921f7",
   "metadata": {},
   "outputs": [
    {
     "name": "stderr",
     "output_type": "stream",
     "text": [
      "100%|████████████████████████████████████████████████████████████████████████| 568453/568453 [4:57:30<00:00, 31.85it/s]\n"
     ]
    }
   ],
   "source": [
    "final_df['Text_cleaned_lemma'] = final_df['Combine_Review'].progress_apply(clean_text)"
   ]
  },
  {
   "cell_type": "code",
   "execution_count": null,
   "id": "7c85c58a",
   "metadata": {},
   "outputs": [],
   "source": [
    "final_df['Text_cleaned_stem'] = final_df['Text'].progress_apply(clean_text, stem=True)"
   ]
  },
  {
   "cell_type": "code",
   "execution_count": 17,
   "id": "41ed2321",
   "metadata": {},
   "outputs": [
    {
     "data": {
      "text/html": [
       "<div>\n",
       "<style scoped>\n",
       "    .dataframe tbody tr th:only-of-type {\n",
       "        vertical-align: middle;\n",
       "    }\n",
       "\n",
       "    .dataframe tbody tr th {\n",
       "        vertical-align: top;\n",
       "    }\n",
       "\n",
       "    .dataframe thead th {\n",
       "        text-align: right;\n",
       "    }\n",
       "</style>\n",
       "<table border=\"1\" class=\"dataframe\">\n",
       "  <thead>\n",
       "    <tr style=\"text-align: right;\">\n",
       "      <th></th>\n",
       "      <th>Id</th>\n",
       "      <th>ProductId</th>\n",
       "      <th>UserId</th>\n",
       "      <th>ProfileName</th>\n",
       "      <th>HelpfulnessNumerator</th>\n",
       "      <th>HelpfulnessDenominator</th>\n",
       "      <th>Helpfulness</th>\n",
       "      <th>Score</th>\n",
       "      <th>Time</th>\n",
       "      <th>ReviewSummary</th>\n",
       "      <th>ReviewText</th>\n",
       "      <th>Combine_Review</th>\n",
       "      <th>Text_cleaned_lemma</th>\n",
       "    </tr>\n",
       "  </thead>\n",
       "  <tbody>\n",
       "    <tr>\n",
       "      <th>0</th>\n",
       "      <td>1</td>\n",
       "      <td>B00171APVA</td>\n",
       "      <td>A21BT40VZCCYT4</td>\n",
       "      <td>Carol A. Reed</td>\n",
       "      <td>0</td>\n",
       "      <td>0</td>\n",
       "      <td>1.0</td>\n",
       "      <td>5</td>\n",
       "      <td>1351209600</td>\n",
       "      <td>Healthy Dog Food</td>\n",
       "      <td>This is a very healthy dog food. Good for thei...</td>\n",
       "      <td>Healthy Dog Food This is a very healthy dog fo...</td>\n",
       "      <td>healthy dog food healthy dog food good digesti...</td>\n",
       "    </tr>\n",
       "    <tr>\n",
       "      <th>1</th>\n",
       "      <td>2</td>\n",
       "      <td>B0019CW0HE</td>\n",
       "      <td>A2P6ACFZ8FTNVV</td>\n",
       "      <td>Melissa Benjamin</td>\n",
       "      <td>0</td>\n",
       "      <td>1</td>\n",
       "      <td>0.0</td>\n",
       "      <td>1</td>\n",
       "      <td>1331164800</td>\n",
       "      <td>Bad</td>\n",
       "      <td>I fed this to my Golden Retriever and he hated...</td>\n",
       "      <td>Bad I fed this to my Golden Retriever and he h...</td>\n",
       "      <td>bad fed golden retriever hated wouldnt eat gav...</td>\n",
       "    </tr>\n",
       "    <tr>\n",
       "      <th>2</th>\n",
       "      <td>3</td>\n",
       "      <td>B006F2NYI2</td>\n",
       "      <td>A132DJVI37RB4X</td>\n",
       "      <td>Scottdrum</td>\n",
       "      <td>2</td>\n",
       "      <td>5</td>\n",
       "      <td>0.4</td>\n",
       "      <td>2</td>\n",
       "      <td>1332374400</td>\n",
       "      <td>Not hot, not habanero</td>\n",
       "      <td>I have to admit, I was a sucker for the large ...</td>\n",
       "      <td>Not hot, not habanero I have to admit, I was a...</td>\n",
       "      <td>hot habanero admit sucker large quantity 12 oz...</td>\n",
       "    </tr>\n",
       "    <tr>\n",
       "      <th>3</th>\n",
       "      <td>4</td>\n",
       "      <td>B000P41A28</td>\n",
       "      <td>A82WIMR4RSVLI</td>\n",
       "      <td>Emrose mom</td>\n",
       "      <td>0</td>\n",
       "      <td>1</td>\n",
       "      <td>0.0</td>\n",
       "      <td>4</td>\n",
       "      <td>1337472000</td>\n",
       "      <td>The best weve tried so far</td>\n",
       "      <td>We have a 7 week old... He had gas and constip...</td>\n",
       "      <td>The best weve tried so far We have a 7 week ol...</td>\n",
       "      <td>best weve tried far 7 week old gas constipatio...</td>\n",
       "    </tr>\n",
       "    <tr>\n",
       "      <th>4</th>\n",
       "      <td>5</td>\n",
       "      <td>B000LQORDE</td>\n",
       "      <td>A19W47CXJJP1MI</td>\n",
       "      <td>Amazonian Consumer</td>\n",
       "      <td>2</td>\n",
       "      <td>5</td>\n",
       "      <td>0.4</td>\n",
       "      <td>5</td>\n",
       "      <td>1235088000</td>\n",
       "      <td>This spicy noodle cures my cold, upset stomach...</td>\n",
       "      <td>I love this noodle and have it once or twice a...</td>\n",
       "      <td>This spicy noodle cures my cold, upset stomach...</td>\n",
       "      <td>spicy noodle cures cold upset stomach headache...</td>\n",
       "    </tr>\n",
       "  </tbody>\n",
       "</table>\n",
       "</div>"
      ],
      "text/plain": [
       "   Id   ProductId          UserId         ProfileName  HelpfulnessNumerator  \\\n",
       "0   1  B00171APVA  A21BT40VZCCYT4       Carol A. Reed                     0   \n",
       "1   2  B0019CW0HE  A2P6ACFZ8FTNVV    Melissa Benjamin                     0   \n",
       "2   3  B006F2NYI2  A132DJVI37RB4X           Scottdrum                     2   \n",
       "3   4  B000P41A28   A82WIMR4RSVLI          Emrose mom                     0   \n",
       "4   5  B000LQORDE  A19W47CXJJP1MI  Amazonian Consumer                     2   \n",
       "\n",
       "   HelpfulnessDenominator  Helpfulness  Score        Time  \\\n",
       "0                       0          1.0      5  1351209600   \n",
       "1                       1          0.0      1  1331164800   \n",
       "2                       5          0.4      2  1332374400   \n",
       "3                       1          0.0      4  1337472000   \n",
       "4                       5          0.4      5  1235088000   \n",
       "\n",
       "                                       ReviewSummary  \\\n",
       "0                                   Healthy Dog Food   \n",
       "1                                                Bad   \n",
       "2                              Not hot, not habanero   \n",
       "3                         The best weve tried so far   \n",
       "4  This spicy noodle cures my cold, upset stomach...   \n",
       "\n",
       "                                          ReviewText  \\\n",
       "0  This is a very healthy dog food. Good for thei...   \n",
       "1  I fed this to my Golden Retriever and he hated...   \n",
       "2  I have to admit, I was a sucker for the large ...   \n",
       "3  We have a 7 week old... He had gas and constip...   \n",
       "4  I love this noodle and have it once or twice a...   \n",
       "\n",
       "                                      Combine_Review  \\\n",
       "0  Healthy Dog Food This is a very healthy dog fo...   \n",
       "1  Bad I fed this to my Golden Retriever and he h...   \n",
       "2  Not hot, not habanero I have to admit, I was a...   \n",
       "3  The best weve tried so far We have a 7 week ol...   \n",
       "4  This spicy noodle cures my cold, upset stomach...   \n",
       "\n",
       "                                  Text_cleaned_lemma  \n",
       "0  healthy dog food healthy dog food good digesti...  \n",
       "1  bad fed golden retriever hated wouldnt eat gav...  \n",
       "2  hot habanero admit sucker large quantity 12 oz...  \n",
       "3  best weve tried far 7 week old gas constipatio...  \n",
       "4  spicy noodle cures cold upset stomach headache...  "
      ]
     },
     "execution_count": 17,
     "metadata": {},
     "output_type": "execute_result"
    }
   ],
   "source": [
    "final_df.head()"
   ]
  },
  {
   "cell_type": "code",
   "execution_count": 1,
   "id": "66d417f3",
   "metadata": {},
   "outputs": [],
   "source": [
    "import numpy as np\n",
    "import pandas as pd"
   ]
  },
  {
   "cell_type": "code",
   "execution_count": 2,
   "id": "54bef1e3",
   "metadata": {},
   "outputs": [
    {
     "data": {
      "text/html": [
       "<div>\n",
       "<style scoped>\n",
       "    .dataframe tbody tr th:only-of-type {\n",
       "        vertical-align: middle;\n",
       "    }\n",
       "\n",
       "    .dataframe tbody tr th {\n",
       "        vertical-align: top;\n",
       "    }\n",
       "\n",
       "    .dataframe thead th {\n",
       "        text-align: right;\n",
       "    }\n",
       "</style>\n",
       "<table border=\"1\" class=\"dataframe\">\n",
       "  <thead>\n",
       "    <tr style=\"text-align: right;\">\n",
       "      <th></th>\n",
       "      <th>Id</th>\n",
       "      <th>ProductId</th>\n",
       "      <th>UserId</th>\n",
       "      <th>ProfileName</th>\n",
       "      <th>HelpfulnessNumerator</th>\n",
       "      <th>HelpfulnessDenominator</th>\n",
       "      <th>Helpfulness</th>\n",
       "      <th>Score</th>\n",
       "      <th>Time</th>\n",
       "      <th>ReviewSummary</th>\n",
       "      <th>ReviewText</th>\n",
       "      <th>Combine_Review</th>\n",
       "      <th>Text_cleaned_lemma</th>\n",
       "    </tr>\n",
       "  </thead>\n",
       "  <tbody>\n",
       "    <tr>\n",
       "      <th>0</th>\n",
       "      <td>1</td>\n",
       "      <td>B00171APVA</td>\n",
       "      <td>A21BT40VZCCYT4</td>\n",
       "      <td>Carol A. Reed</td>\n",
       "      <td>0</td>\n",
       "      <td>0</td>\n",
       "      <td>1.0</td>\n",
       "      <td>5</td>\n",
       "      <td>1351209600</td>\n",
       "      <td>Healthy Dog Food</td>\n",
       "      <td>This is a very healthy dog food. Good for thei...</td>\n",
       "      <td>Healthy Dog Food This is a very healthy dog fo...</td>\n",
       "      <td>healthy dog food healthy dog food good digesti...</td>\n",
       "    </tr>\n",
       "    <tr>\n",
       "      <th>1</th>\n",
       "      <td>2</td>\n",
       "      <td>B0019CW0HE</td>\n",
       "      <td>A2P6ACFZ8FTNVV</td>\n",
       "      <td>Melissa Benjamin</td>\n",
       "      <td>0</td>\n",
       "      <td>1</td>\n",
       "      <td>0.0</td>\n",
       "      <td>1</td>\n",
       "      <td>1331164800</td>\n",
       "      <td>Bad</td>\n",
       "      <td>I fed this to my Golden Retriever and he hated...</td>\n",
       "      <td>Bad I fed this to my Golden Retriever and he h...</td>\n",
       "      <td>bad fed golden retriever hated wouldnt eat gav...</td>\n",
       "    </tr>\n",
       "    <tr>\n",
       "      <th>2</th>\n",
       "      <td>3</td>\n",
       "      <td>B006F2NYI2</td>\n",
       "      <td>A132DJVI37RB4X</td>\n",
       "      <td>Scottdrum</td>\n",
       "      <td>2</td>\n",
       "      <td>5</td>\n",
       "      <td>0.4</td>\n",
       "      <td>2</td>\n",
       "      <td>1332374400</td>\n",
       "      <td>Not hot, not habanero</td>\n",
       "      <td>I have to admit, I was a sucker for the large ...</td>\n",
       "      <td>Not hot, not habanero I have to admit, I was a...</td>\n",
       "      <td>hot habanero admit sucker large quantity 12 oz...</td>\n",
       "    </tr>\n",
       "    <tr>\n",
       "      <th>3</th>\n",
       "      <td>4</td>\n",
       "      <td>B000P41A28</td>\n",
       "      <td>A82WIMR4RSVLI</td>\n",
       "      <td>Emrose mom</td>\n",
       "      <td>0</td>\n",
       "      <td>1</td>\n",
       "      <td>0.0</td>\n",
       "      <td>4</td>\n",
       "      <td>1337472000</td>\n",
       "      <td>The best weve tried so far</td>\n",
       "      <td>We have a 7 week old... He had gas and constip...</td>\n",
       "      <td>The best weve tried so far We have a 7 week ol...</td>\n",
       "      <td>best weve tried far 7 week old gas constipatio...</td>\n",
       "    </tr>\n",
       "    <tr>\n",
       "      <th>4</th>\n",
       "      <td>5</td>\n",
       "      <td>B000LQORDE</td>\n",
       "      <td>A19W47CXJJP1MI</td>\n",
       "      <td>Amazonian Consumer</td>\n",
       "      <td>2</td>\n",
       "      <td>5</td>\n",
       "      <td>0.4</td>\n",
       "      <td>5</td>\n",
       "      <td>1235088000</td>\n",
       "      <td>This spicy noodle cures my cold, upset stomach...</td>\n",
       "      <td>I love this noodle and have it once or twice a...</td>\n",
       "      <td>This spicy noodle cures my cold, upset stomach...</td>\n",
       "      <td>spicy noodle cures cold upset stomach headache...</td>\n",
       "    </tr>\n",
       "    <tr>\n",
       "      <th>...</th>\n",
       "      <td>...</td>\n",
       "      <td>...</td>\n",
       "      <td>...</td>\n",
       "      <td>...</td>\n",
       "      <td>...</td>\n",
       "      <td>...</td>\n",
       "      <td>...</td>\n",
       "      <td>...</td>\n",
       "      <td>...</td>\n",
       "      <td>...</td>\n",
       "      <td>...</td>\n",
       "      <td>...</td>\n",
       "      <td>...</td>\n",
       "    </tr>\n",
       "    <tr>\n",
       "      <th>568448</th>\n",
       "      <td>568449</td>\n",
       "      <td>B000LQORDE</td>\n",
       "      <td>AL22WN8RBBOW7</td>\n",
       "      <td>LifeInTheCity \"trogg\"</td>\n",
       "      <td>2</td>\n",
       "      <td>5</td>\n",
       "      <td>0.4</td>\n",
       "      <td>5</td>\n",
       "      <td>1256428800</td>\n",
       "      <td>Good Stuff</td>\n",
       "      <td>I love these noodle.  A little to spicy for th...</td>\n",
       "      <td>Good Stuff I love these noodle.  A little to s...</td>\n",
       "      <td>good stuff love noodle little spicy wife perfct</td>\n",
       "    </tr>\n",
       "    <tr>\n",
       "      <th>568449</th>\n",
       "      <td>568450</td>\n",
       "      <td>B000LQORDE</td>\n",
       "      <td>A2P7HIRYYWVOBD</td>\n",
       "      <td>Mason</td>\n",
       "      <td>2</td>\n",
       "      <td>5</td>\n",
       "      <td>0.4</td>\n",
       "      <td>5</td>\n",
       "      <td>1254096000</td>\n",
       "      <td>yummy!</td>\n",
       "      <td>I just love it and will buy another box when I...</td>\n",
       "      <td>yummy! I just love it and will buy another box...</td>\n",
       "      <td>yummy love buy another box im done last one</td>\n",
       "    </tr>\n",
       "    <tr>\n",
       "      <th>568450</th>\n",
       "      <td>568451</td>\n",
       "      <td>B000LQORDE</td>\n",
       "      <td>A1K0ZH5MQFBA77</td>\n",
       "      <td>jennilight</td>\n",
       "      <td>2</td>\n",
       "      <td>5</td>\n",
       "      <td>0.4</td>\n",
       "      <td>4</td>\n",
       "      <td>1250985600</td>\n",
       "      <td>Tastes like More!</td>\n",
       "      <td>My late father in law used to have a rating sy...</td>\n",
       "      <td>Tastes like More! My late father in law used t...</td>\n",
       "      <td>tastes like late father law used rating system...</td>\n",
       "    </tr>\n",
       "    <tr>\n",
       "      <th>568451</th>\n",
       "      <td>568452</td>\n",
       "      <td>B000LQORDE</td>\n",
       "      <td>A29FRN2O7LWINL</td>\n",
       "      <td>T. Tsai</td>\n",
       "      <td>2</td>\n",
       "      <td>5</td>\n",
       "      <td>0.4</td>\n",
       "      <td>5</td>\n",
       "      <td>1237766400</td>\n",
       "      <td>Great ramen</td>\n",
       "      <td>This is my favorite brand of Korean ramen. It ...</td>\n",
       "      <td>Great ramen This is my favorite brand of Korea...</td>\n",
       "      <td>great ramen favorite brand korean ramen spicy ...</td>\n",
       "    </tr>\n",
       "    <tr>\n",
       "      <th>568452</th>\n",
       "      <td>568453</td>\n",
       "      <td>B000LQORDE</td>\n",
       "      <td>A9Q950IPXJR1D</td>\n",
       "      <td>Lynda \"casual customer\"</td>\n",
       "      <td>2</td>\n",
       "      <td>5</td>\n",
       "      <td>0.4</td>\n",
       "      <td>4</td>\n",
       "      <td>1237161600</td>\n",
       "      <td>Spicy!!</td>\n",
       "      <td>I do like these noodles although, to say they ...</td>\n",
       "      <td>Spicy!! I do like these noodles although, to s...</td>\n",
       "      <td>spicy like noodles although say spicy somewhat...</td>\n",
       "    </tr>\n",
       "  </tbody>\n",
       "</table>\n",
       "<p>568453 rows × 13 columns</p>\n",
       "</div>"
      ],
      "text/plain": [
       "            Id   ProductId          UserId              ProfileName  \\\n",
       "0            1  B00171APVA  A21BT40VZCCYT4            Carol A. Reed   \n",
       "1            2  B0019CW0HE  A2P6ACFZ8FTNVV         Melissa Benjamin   \n",
       "2            3  B006F2NYI2  A132DJVI37RB4X                Scottdrum   \n",
       "3            4  B000P41A28   A82WIMR4RSVLI               Emrose mom   \n",
       "4            5  B000LQORDE  A19W47CXJJP1MI       Amazonian Consumer   \n",
       "...        ...         ...             ...                      ...   \n",
       "568448  568449  B000LQORDE   AL22WN8RBBOW7    LifeInTheCity \"trogg\"   \n",
       "568449  568450  B000LQORDE  A2P7HIRYYWVOBD                    Mason   \n",
       "568450  568451  B000LQORDE  A1K0ZH5MQFBA77               jennilight   \n",
       "568451  568452  B000LQORDE  A29FRN2O7LWINL                  T. Tsai   \n",
       "568452  568453  B000LQORDE   A9Q950IPXJR1D  Lynda \"casual customer\"   \n",
       "\n",
       "        HelpfulnessNumerator  HelpfulnessDenominator  Helpfulness  Score  \\\n",
       "0                          0                       0          1.0      5   \n",
       "1                          0                       1          0.0      1   \n",
       "2                          2                       5          0.4      2   \n",
       "3                          0                       1          0.0      4   \n",
       "4                          2                       5          0.4      5   \n",
       "...                      ...                     ...          ...    ...   \n",
       "568448                     2                       5          0.4      5   \n",
       "568449                     2                       5          0.4      5   \n",
       "568450                     2                       5          0.4      4   \n",
       "568451                     2                       5          0.4      5   \n",
       "568452                     2                       5          0.4      4   \n",
       "\n",
       "              Time                                      ReviewSummary  \\\n",
       "0       1351209600                                   Healthy Dog Food   \n",
       "1       1331164800                                                Bad   \n",
       "2       1332374400                              Not hot, not habanero   \n",
       "3       1337472000                         The best weve tried so far   \n",
       "4       1235088000  This spicy noodle cures my cold, upset stomach...   \n",
       "...            ...                                                ...   \n",
       "568448  1256428800                                         Good Stuff   \n",
       "568449  1254096000                                             yummy!   \n",
       "568450  1250985600                                  Tastes like More!   \n",
       "568451  1237766400                                        Great ramen   \n",
       "568452  1237161600                                            Spicy!!   \n",
       "\n",
       "                                               ReviewText  \\\n",
       "0       This is a very healthy dog food. Good for thei...   \n",
       "1       I fed this to my Golden Retriever and he hated...   \n",
       "2       I have to admit, I was a sucker for the large ...   \n",
       "3       We have a 7 week old... He had gas and constip...   \n",
       "4       I love this noodle and have it once or twice a...   \n",
       "...                                                   ...   \n",
       "568448  I love these noodle.  A little to spicy for th...   \n",
       "568449  I just love it and will buy another box when I...   \n",
       "568450  My late father in law used to have a rating sy...   \n",
       "568451  This is my favorite brand of Korean ramen. It ...   \n",
       "568452  I do like these noodles although, to say they ...   \n",
       "\n",
       "                                           Combine_Review  \\\n",
       "0       Healthy Dog Food This is a very healthy dog fo...   \n",
       "1       Bad I fed this to my Golden Retriever and he h...   \n",
       "2       Not hot, not habanero I have to admit, I was a...   \n",
       "3       The best weve tried so far We have a 7 week ol...   \n",
       "4       This spicy noodle cures my cold, upset stomach...   \n",
       "...                                                   ...   \n",
       "568448  Good Stuff I love these noodle.  A little to s...   \n",
       "568449  yummy! I just love it and will buy another box...   \n",
       "568450  Tastes like More! My late father in law used t...   \n",
       "568451  Great ramen This is my favorite brand of Korea...   \n",
       "568452  Spicy!! I do like these noodles although, to s...   \n",
       "\n",
       "                                       Text_cleaned_lemma  \n",
       "0       healthy dog food healthy dog food good digesti...  \n",
       "1       bad fed golden retriever hated wouldnt eat gav...  \n",
       "2       hot habanero admit sucker large quantity 12 oz...  \n",
       "3       best weve tried far 7 week old gas constipatio...  \n",
       "4       spicy noodle cures cold upset stomach headache...  \n",
       "...                                                   ...  \n",
       "568448    good stuff love noodle little spicy wife perfct  \n",
       "568449        yummy love buy another box im done last one  \n",
       "568450  tastes like late father law used rating system...  \n",
       "568451  great ramen favorite brand korean ramen spicy ...  \n",
       "568452  spicy like noodles although say spicy somewhat...  \n",
       "\n",
       "[568453 rows x 13 columns]"
      ]
     },
     "execution_count": 2,
     "metadata": {},
     "output_type": "execute_result"
    }
   ],
   "source": [
    "final_df=pd.read_csv(\"NLP_Text_Project.csv\")\n",
    "final_df=final_df.drop(\"Unnamed: 0\",axis=1)\n",
    "final_df"
   ]
  },
  {
   "cell_type": "markdown",
   "id": "125fe112",
   "metadata": {},
   "source": [
    "## DATA SPLIT INTO TRAIN AND TEST"
   ]
  },
  {
   "cell_type": "code",
   "execution_count": 3,
   "id": "7cc77340",
   "metadata": {},
   "outputs": [],
   "source": [
    "from sklearn.model_selection import train_test_split"
   ]
  },
  {
   "cell_type": "code",
   "execution_count": 4,
   "id": "5b7108c2",
   "metadata": {},
   "outputs": [],
   "source": [
    "X_train,X_test, Y_train,Y_test = train_test_split(final_df['Text_cleaned_lemma'], final_df['Score'],\\\n",
    "                                                 test_size=0.3, random_state=100)"
   ]
  },
  {
   "cell_type": "code",
   "execution_count": 5,
   "id": "5affcc73",
   "metadata": {},
   "outputs": [
    {
     "data": {
      "text/plain": [
       "322272    nice small recieved item day packaging looks r...\n",
       "460045    dog loves things bully sticks expensive store ...\n",
       "242230    disappointed longer making exact coffee beats ...\n",
       "410766    expected bought flavor since buying plain macc...\n",
       "354214    save money really hoping would decent reading ...\n",
       "                                ...                        \n",
       "344414    tastes like wood shavings least favorite kueri...\n",
       "212912    good warehoused well ive ordered many kind bar...\n",
       "65615     best tea best tea market ordering yearsboth ca...\n",
       "210755    excellent gf mix excellent gf bread mix use ma...\n",
       "56088     beats swiss miss mile ive tried commercial bra...\n",
       "Name: Text_cleaned_lemma, Length: 397917, dtype: object"
      ]
     },
     "execution_count": 5,
     "metadata": {},
     "output_type": "execute_result"
    }
   ],
   "source": [
    "X_train"
   ]
  },
  {
   "cell_type": "code",
   "execution_count": 6,
   "id": "4509cdd5",
   "metadata": {},
   "outputs": [],
   "source": [
    "from sklearn.feature_extraction.text import TfidfVectorizer\n",
    "tv=TfidfVectorizer()"
   ]
  },
  {
   "cell_type": "code",
   "execution_count": 8,
   "id": "469b72f1",
   "metadata": {},
   "outputs": [],
   "source": [
    "from sklearn.feature_extraction.text import CountVectorizer\n",
    "cv=CountVectorizer()"
   ]
  },
  {
   "cell_type": "code",
   "execution_count": 9,
   "id": "65ff0468",
   "metadata": {},
   "outputs": [],
   "source": [
    "X_train_processed_bow = cv.fit_transform(X_train)\n",
    "X_train_processed_tfidf = tv.fit_transform(X_train)"
   ]
  },
  {
   "cell_type": "code",
   "execution_count": 10,
   "id": "99489fec",
   "metadata": {},
   "outputs": [
    {
     "data": {
      "text/plain": [
       "<397917x207621 sparse matrix of type '<class 'numpy.int64'>'\n",
       "\twith 14492805 stored elements in Compressed Sparse Row format>"
      ]
     },
     "execution_count": 10,
     "metadata": {},
     "output_type": "execute_result"
    }
   ],
   "source": [
    "X_train_processed_bow"
   ]
  },
  {
   "cell_type": "code",
   "execution_count": 11,
   "id": "308606d4",
   "metadata": {},
   "outputs": [
    {
     "data": {
      "text/plain": [
       "<397917x207621 sparse matrix of type '<class 'numpy.float64'>'\n",
       "\twith 14492805 stored elements in Compressed Sparse Row format>"
      ]
     },
     "execution_count": 11,
     "metadata": {},
     "output_type": "execute_result"
    }
   ],
   "source": [
    "X_train_processed_tfidf"
   ]
  },
  {
   "cell_type": "code",
   "execution_count": 12,
   "id": "b7237156",
   "metadata": {},
   "outputs": [],
   "source": [
    "from sys import getsizeof"
   ]
  },
  {
   "cell_type": "code",
   "execution_count": 13,
   "id": "b5b60997",
   "metadata": {},
   "outputs": [
    {
     "data": {
      "text/plain": [
       "48"
      ]
     },
     "execution_count": 13,
     "metadata": {},
     "output_type": "execute_result"
    }
   ],
   "source": [
    "getsizeof(X_train_processed_tfidf)"
   ]
  },
  {
   "cell_type": "code",
   "execution_count": 14,
   "id": "83611463",
   "metadata": {},
   "outputs": [],
   "source": [
    "X_test_processed_bow = cv.transform(X_test)\n",
    "X_test_processed_tfidf = tv.transform(X_test)"
   ]
  },
  {
   "cell_type": "code",
   "execution_count": 15,
   "id": "9222e8ec",
   "metadata": {},
   "outputs": [
    {
     "data": {
      "text/plain": [
       "<170536x207621 sparse matrix of type '<class 'numpy.int64'>'\n",
       "\twith 6159836 stored elements in Compressed Sparse Row format>"
      ]
     },
     "execution_count": 15,
     "metadata": {},
     "output_type": "execute_result"
    }
   ],
   "source": [
    "X_test_processed_bow"
   ]
  },
  {
   "cell_type": "code",
   "execution_count": 16,
   "id": "c23c689c",
   "metadata": {},
   "outputs": [
    {
     "data": {
      "text/plain": [
       "<170536x207621 sparse matrix of type '<class 'numpy.float64'>'\n",
       "\twith 6159836 stored elements in Compressed Sparse Row format>"
      ]
     },
     "execution_count": 16,
     "metadata": {},
     "output_type": "execute_result"
    }
   ],
   "source": [
    "X_test_processed_tfidf"
   ]
  },
  {
   "cell_type": "markdown",
   "id": "df2b74b2",
   "metadata": {},
   "source": [
    "# BUILDING THE MODEL"
   ]
  },
  {
   "cell_type": "markdown",
   "id": "6c149183",
   "metadata": {},
   "source": [
    "#  MULTINOMIAL_NB ALGORITHM USING BAG OF WORDS"
   ]
  },
  {
   "cell_type": "code",
   "execution_count": 33,
   "id": "d45a2122",
   "metadata": {},
   "outputs": [],
   "source": [
    "from sklearn.naive_bayes import MultinomialNB"
   ]
  },
  {
   "cell_type": "code",
   "execution_count": 17,
   "id": "cab3a078",
   "metadata": {},
   "outputs": [],
   "source": [
    "from sklearn.metrics import accuracy_score,confusion_matrix,precision_score, recall_score"
   ]
  },
  {
   "cell_type": "code",
   "execution_count": 35,
   "id": "bd2e3bf7",
   "metadata": {},
   "outputs": [
    {
     "data": {
      "text/html": [
       "<style>#sk-container-id-1 {color: black;background-color: white;}#sk-container-id-1 pre{padding: 0;}#sk-container-id-1 div.sk-toggleable {background-color: white;}#sk-container-id-1 label.sk-toggleable__label {cursor: pointer;display: block;width: 100%;margin-bottom: 0;padding: 0.3em;box-sizing: border-box;text-align: center;}#sk-container-id-1 label.sk-toggleable__label-arrow:before {content: \"▸\";float: left;margin-right: 0.25em;color: #696969;}#sk-container-id-1 label.sk-toggleable__label-arrow:hover:before {color: black;}#sk-container-id-1 div.sk-estimator:hover label.sk-toggleable__label-arrow:before {color: black;}#sk-container-id-1 div.sk-toggleable__content {max-height: 0;max-width: 0;overflow: hidden;text-align: left;background-color: #f0f8ff;}#sk-container-id-1 div.sk-toggleable__content pre {margin: 0.2em;color: black;border-radius: 0.25em;background-color: #f0f8ff;}#sk-container-id-1 input.sk-toggleable__control:checked~div.sk-toggleable__content {max-height: 200px;max-width: 100%;overflow: auto;}#sk-container-id-1 input.sk-toggleable__control:checked~label.sk-toggleable__label-arrow:before {content: \"▾\";}#sk-container-id-1 div.sk-estimator input.sk-toggleable__control:checked~label.sk-toggleable__label {background-color: #d4ebff;}#sk-container-id-1 div.sk-label input.sk-toggleable__control:checked~label.sk-toggleable__label {background-color: #d4ebff;}#sk-container-id-1 input.sk-hidden--visually {border: 0;clip: rect(1px 1px 1px 1px);clip: rect(1px, 1px, 1px, 1px);height: 1px;margin: -1px;overflow: hidden;padding: 0;position: absolute;width: 1px;}#sk-container-id-1 div.sk-estimator {font-family: monospace;background-color: #f0f8ff;border: 1px dotted black;border-radius: 0.25em;box-sizing: border-box;margin-bottom: 0.5em;}#sk-container-id-1 div.sk-estimator:hover {background-color: #d4ebff;}#sk-container-id-1 div.sk-parallel-item::after {content: \"\";width: 100%;border-bottom: 1px solid gray;flex-grow: 1;}#sk-container-id-1 div.sk-label:hover label.sk-toggleable__label {background-color: #d4ebff;}#sk-container-id-1 div.sk-serial::before {content: \"\";position: absolute;border-left: 1px solid gray;box-sizing: border-box;top: 0;bottom: 0;left: 50%;z-index: 0;}#sk-container-id-1 div.sk-serial {display: flex;flex-direction: column;align-items: center;background-color: white;padding-right: 0.2em;padding-left: 0.2em;position: relative;}#sk-container-id-1 div.sk-item {position: relative;z-index: 1;}#sk-container-id-1 div.sk-parallel {display: flex;align-items: stretch;justify-content: center;background-color: white;position: relative;}#sk-container-id-1 div.sk-item::before, #sk-container-id-1 div.sk-parallel-item::before {content: \"\";position: absolute;border-left: 1px solid gray;box-sizing: border-box;top: 0;bottom: 0;left: 50%;z-index: -1;}#sk-container-id-1 div.sk-parallel-item {display: flex;flex-direction: column;z-index: 1;position: relative;background-color: white;}#sk-container-id-1 div.sk-parallel-item:first-child::after {align-self: flex-end;width: 50%;}#sk-container-id-1 div.sk-parallel-item:last-child::after {align-self: flex-start;width: 50%;}#sk-container-id-1 div.sk-parallel-item:only-child::after {width: 0;}#sk-container-id-1 div.sk-dashed-wrapped {border: 1px dashed gray;margin: 0 0.4em 0.5em 0.4em;box-sizing: border-box;padding-bottom: 0.4em;background-color: white;}#sk-container-id-1 div.sk-label label {font-family: monospace;font-weight: bold;display: inline-block;line-height: 1.2em;}#sk-container-id-1 div.sk-label-container {text-align: center;}#sk-container-id-1 div.sk-container {/* jupyter's `normalize.less` sets `[hidden] { display: none; }` but bootstrap.min.css set `[hidden] { display: none !important; }` so we also need the `!important` here to be able to override the default hidden behavior on the sphinx rendered scikit-learn.org. See: https://github.com/scikit-learn/scikit-learn/issues/21755 */display: inline-block !important;position: relative;}#sk-container-id-1 div.sk-text-repr-fallback {display: none;}</style><div id=\"sk-container-id-1\" class=\"sk-top-container\"><div class=\"sk-text-repr-fallback\"><pre>MultinomialNB()</pre><b>In a Jupyter environment, please rerun this cell to show the HTML representation or trust the notebook. <br />On GitHub, the HTML representation is unable to render, please try loading this page with nbviewer.org.</b></div><div class=\"sk-container\" hidden><div class=\"sk-item\"><div class=\"sk-estimator sk-toggleable\"><input class=\"sk-toggleable__control sk-hidden--visually\" id=\"sk-estimator-id-1\" type=\"checkbox\" checked><label for=\"sk-estimator-id-1\" class=\"sk-toggleable__label sk-toggleable__label-arrow\">MultinomialNB</label><div class=\"sk-toggleable__content\"><pre>MultinomialNB()</pre></div></div></div></div></div>"
      ],
      "text/plain": [
       "MultinomialNB()"
      ]
     },
     "execution_count": 35,
     "metadata": {},
     "output_type": "execute_result"
    }
   ],
   "source": [
    "mnb=MultinomialNB()\n",
    "mnb.fit(X_train_processed_bow,Y_train)"
   ]
  },
  {
   "cell_type": "code",
   "execution_count": 36,
   "id": "d91f9a34",
   "metadata": {},
   "outputs": [
    {
     "data": {
      "text/plain": [
       "array([5, 4, 5, ..., 4, 3, 5], dtype=int64)"
      ]
     },
     "execution_count": 36,
     "metadata": {},
     "output_type": "execute_result"
    }
   ],
   "source": [
    "y_pred_mnb=mnb.predict(X_test_processed_bow)\n",
    "y_pred_mnb"
   ]
  },
  {
   "cell_type": "code",
   "execution_count": 37,
   "id": "eb0458b7",
   "metadata": {},
   "outputs": [
    {
     "data": {
      "text/plain": [
       "0.7361905990523995"
      ]
     },
     "execution_count": 37,
     "metadata": {},
     "output_type": "execute_result"
    }
   ],
   "source": [
    "accuracy_score(Y_test,y_pred_mnb)"
   ]
  },
  {
   "cell_type": "code",
   "execution_count": 39,
   "id": "ea4b57c4",
   "metadata": {},
   "outputs": [
    {
     "data": {
      "text/plain": [
       "array([[ 10715,    706,    906,    703,   2720],\n",
       "       [  2209,   1534,   1446,   1275,   2423],\n",
       "       [  1500,    281,   3769,   3132,   3942],\n",
       "       [   885,     90,    819,   9394,  12877],\n",
       "       [  1697,    143,    666,   6569, 100135]], dtype=int64)"
      ]
     },
     "execution_count": 39,
     "metadata": {},
     "output_type": "execute_result"
    }
   ],
   "source": [
    "confusion_matrix(Y_test,y_pred_mnb)"
   ]
  },
  {
   "cell_type": "code",
   "execution_count": 40,
   "id": "0103acc7",
   "metadata": {},
   "outputs": [
    {
     "data": {
      "text/html": [
       "<div>\n",
       "<style scoped>\n",
       "    .dataframe tbody tr th:only-of-type {\n",
       "        vertical-align: middle;\n",
       "    }\n",
       "\n",
       "    .dataframe tbody tr th {\n",
       "        vertical-align: top;\n",
       "    }\n",
       "\n",
       "    .dataframe thead th {\n",
       "        text-align: right;\n",
       "    }\n",
       "</style>\n",
       "<table border=\"1\" class=\"dataframe\">\n",
       "  <thead>\n",
       "    <tr style=\"text-align: right;\">\n",
       "      <th>Predicted</th>\n",
       "      <th>1</th>\n",
       "      <th>2</th>\n",
       "      <th>3</th>\n",
       "      <th>4</th>\n",
       "      <th>5</th>\n",
       "    </tr>\n",
       "    <tr>\n",
       "      <th>Actual</th>\n",
       "      <th></th>\n",
       "      <th></th>\n",
       "      <th></th>\n",
       "      <th></th>\n",
       "      <th></th>\n",
       "    </tr>\n",
       "  </thead>\n",
       "  <tbody>\n",
       "    <tr>\n",
       "      <th>1</th>\n",
       "      <td>10715</td>\n",
       "      <td>706</td>\n",
       "      <td>906</td>\n",
       "      <td>703</td>\n",
       "      <td>2720</td>\n",
       "    </tr>\n",
       "    <tr>\n",
       "      <th>2</th>\n",
       "      <td>2209</td>\n",
       "      <td>1534</td>\n",
       "      <td>1446</td>\n",
       "      <td>1275</td>\n",
       "      <td>2423</td>\n",
       "    </tr>\n",
       "    <tr>\n",
       "      <th>3</th>\n",
       "      <td>1500</td>\n",
       "      <td>281</td>\n",
       "      <td>3769</td>\n",
       "      <td>3132</td>\n",
       "      <td>3942</td>\n",
       "    </tr>\n",
       "    <tr>\n",
       "      <th>4</th>\n",
       "      <td>885</td>\n",
       "      <td>90</td>\n",
       "      <td>819</td>\n",
       "      <td>9394</td>\n",
       "      <td>12877</td>\n",
       "    </tr>\n",
       "    <tr>\n",
       "      <th>5</th>\n",
       "      <td>1697</td>\n",
       "      <td>143</td>\n",
       "      <td>666</td>\n",
       "      <td>6569</td>\n",
       "      <td>100135</td>\n",
       "    </tr>\n",
       "  </tbody>\n",
       "</table>\n",
       "</div>"
      ],
      "text/plain": [
       "Predicted      1     2     3     4       5\n",
       "Actual                                    \n",
       "1          10715   706   906   703    2720\n",
       "2           2209  1534  1446  1275    2423\n",
       "3           1500   281  3769  3132    3942\n",
       "4            885    90   819  9394   12877\n",
       "5           1697   143   666  6569  100135"
      ]
     },
     "execution_count": 40,
     "metadata": {},
     "output_type": "execute_result"
    }
   ],
   "source": [
    "pd.crosstab(Y_test, y_pred_mnb, rownames=['Actual'], colnames=['Predicted'])"
   ]
  },
  {
   "cell_type": "markdown",
   "id": "7b92c533",
   "metadata": {},
   "source": [
    "# DECISION TREE ALGORITHM USING BAG OF WORDS"
   ]
  },
  {
   "cell_type": "code",
   "execution_count": 24,
   "id": "7ac5d0f6",
   "metadata": {},
   "outputs": [
    {
     "name": "stdout",
     "output_type": "stream",
     "text": [
      "Wall time: 1h 10min 31s\n"
     ]
    },
    {
     "data": {
      "text/html": [
       "<style>#sk-container-id-1 {color: black;background-color: white;}#sk-container-id-1 pre{padding: 0;}#sk-container-id-1 div.sk-toggleable {background-color: white;}#sk-container-id-1 label.sk-toggleable__label {cursor: pointer;display: block;width: 100%;margin-bottom: 0;padding: 0.3em;box-sizing: border-box;text-align: center;}#sk-container-id-1 label.sk-toggleable__label-arrow:before {content: \"▸\";float: left;margin-right: 0.25em;color: #696969;}#sk-container-id-1 label.sk-toggleable__label-arrow:hover:before {color: black;}#sk-container-id-1 div.sk-estimator:hover label.sk-toggleable__label-arrow:before {color: black;}#sk-container-id-1 div.sk-toggleable__content {max-height: 0;max-width: 0;overflow: hidden;text-align: left;background-color: #f0f8ff;}#sk-container-id-1 div.sk-toggleable__content pre {margin: 0.2em;color: black;border-radius: 0.25em;background-color: #f0f8ff;}#sk-container-id-1 input.sk-toggleable__control:checked~div.sk-toggleable__content {max-height: 200px;max-width: 100%;overflow: auto;}#sk-container-id-1 input.sk-toggleable__control:checked~label.sk-toggleable__label-arrow:before {content: \"▾\";}#sk-container-id-1 div.sk-estimator input.sk-toggleable__control:checked~label.sk-toggleable__label {background-color: #d4ebff;}#sk-container-id-1 div.sk-label input.sk-toggleable__control:checked~label.sk-toggleable__label {background-color: #d4ebff;}#sk-container-id-1 input.sk-hidden--visually {border: 0;clip: rect(1px 1px 1px 1px);clip: rect(1px, 1px, 1px, 1px);height: 1px;margin: -1px;overflow: hidden;padding: 0;position: absolute;width: 1px;}#sk-container-id-1 div.sk-estimator {font-family: monospace;background-color: #f0f8ff;border: 1px dotted black;border-radius: 0.25em;box-sizing: border-box;margin-bottom: 0.5em;}#sk-container-id-1 div.sk-estimator:hover {background-color: #d4ebff;}#sk-container-id-1 div.sk-parallel-item::after {content: \"\";width: 100%;border-bottom: 1px solid gray;flex-grow: 1;}#sk-container-id-1 div.sk-label:hover label.sk-toggleable__label {background-color: #d4ebff;}#sk-container-id-1 div.sk-serial::before {content: \"\";position: absolute;border-left: 1px solid gray;box-sizing: border-box;top: 0;bottom: 0;left: 50%;z-index: 0;}#sk-container-id-1 div.sk-serial {display: flex;flex-direction: column;align-items: center;background-color: white;padding-right: 0.2em;padding-left: 0.2em;position: relative;}#sk-container-id-1 div.sk-item {position: relative;z-index: 1;}#sk-container-id-1 div.sk-parallel {display: flex;align-items: stretch;justify-content: center;background-color: white;position: relative;}#sk-container-id-1 div.sk-item::before, #sk-container-id-1 div.sk-parallel-item::before {content: \"\";position: absolute;border-left: 1px solid gray;box-sizing: border-box;top: 0;bottom: 0;left: 50%;z-index: -1;}#sk-container-id-1 div.sk-parallel-item {display: flex;flex-direction: column;z-index: 1;position: relative;background-color: white;}#sk-container-id-1 div.sk-parallel-item:first-child::after {align-self: flex-end;width: 50%;}#sk-container-id-1 div.sk-parallel-item:last-child::after {align-self: flex-start;width: 50%;}#sk-container-id-1 div.sk-parallel-item:only-child::after {width: 0;}#sk-container-id-1 div.sk-dashed-wrapped {border: 1px dashed gray;margin: 0 0.4em 0.5em 0.4em;box-sizing: border-box;padding-bottom: 0.4em;background-color: white;}#sk-container-id-1 div.sk-label label {font-family: monospace;font-weight: bold;display: inline-block;line-height: 1.2em;}#sk-container-id-1 div.sk-label-container {text-align: center;}#sk-container-id-1 div.sk-container {/* jupyter's `normalize.less` sets `[hidden] { display: none; }` but bootstrap.min.css set `[hidden] { display: none !important; }` so we also need the `!important` here to be able to override the default hidden behavior on the sphinx rendered scikit-learn.org. See: https://github.com/scikit-learn/scikit-learn/issues/21755 */display: inline-block !important;position: relative;}#sk-container-id-1 div.sk-text-repr-fallback {display: none;}</style><div id=\"sk-container-id-1\" class=\"sk-top-container\"><div class=\"sk-text-repr-fallback\"><pre>DecisionTreeClassifier()</pre><b>In a Jupyter environment, please rerun this cell to show the HTML representation or trust the notebook. <br />On GitHub, the HTML representation is unable to render, please try loading this page with nbviewer.org.</b></div><div class=\"sk-container\" hidden><div class=\"sk-item\"><div class=\"sk-estimator sk-toggleable\"><input class=\"sk-toggleable__control sk-hidden--visually\" id=\"sk-estimator-id-1\" type=\"checkbox\" checked><label for=\"sk-estimator-id-1\" class=\"sk-toggleable__label sk-toggleable__label-arrow\">DecisionTreeClassifier</label><div class=\"sk-toggleable__content\"><pre>DecisionTreeClassifier()</pre></div></div></div></div></div>"
      ],
      "text/plain": [
       "DecisionTreeClassifier()"
      ]
     },
     "execution_count": 24,
     "metadata": {},
     "output_type": "execute_result"
    }
   ],
   "source": [
    "%%time\n",
    "from sklearn.tree import DecisionTreeClassifier\n",
    "dtc=DecisionTreeClassifier()\n",
    "dtc.fit(X_train_processed_bow,Y_train)"
   ]
  },
  {
   "cell_type": "code",
   "execution_count": 25,
   "id": "d73854ba",
   "metadata": {},
   "outputs": [
    {
     "name": "stdout",
     "output_type": "stream",
     "text": [
      "Wall time: 533 ms\n"
     ]
    },
    {
     "data": {
      "text/plain": [
       "array([5, 4, 5, ..., 5, 1, 5], dtype=int64)"
      ]
     },
     "execution_count": 25,
     "metadata": {},
     "output_type": "execute_result"
    }
   ],
   "source": [
    "%%time\n",
    "y_pred_dtc=dtc.predict(X_test_processed_bow)\n",
    "y_pred_dtc"
   ]
  },
  {
   "cell_type": "code",
   "execution_count": 28,
   "id": "3577899f",
   "metadata": {},
   "outputs": [
    {
     "data": {
      "text/plain": [
       "0.7634223858891964"
      ]
     },
     "execution_count": 28,
     "metadata": {},
     "output_type": "execute_result"
    }
   ],
   "source": [
    "accuracy_score(Y_test,y_pred_dtc)"
   ]
  },
  {
   "cell_type": "code",
   "execution_count": 29,
   "id": "6f7f6994",
   "metadata": {},
   "outputs": [
    {
     "data": {
      "text/plain": [
       "array([[10253,   996,   875,   828,  2798],\n",
       "       [ 1337,  4032,   841,   728,  1949],\n",
       "       [ 1007,   693,  6316,  1526,  3082],\n",
       "       [  808,   613,  1320, 12213,  9111],\n",
       "       [ 2156,  1260,  2109,  6308, 97377]], dtype=int64)"
      ]
     },
     "execution_count": 29,
     "metadata": {},
     "output_type": "execute_result"
    }
   ],
   "source": [
    "confusion_matrix(Y_test,y_pred_dtc)"
   ]
  },
  {
   "cell_type": "code",
   "execution_count": 30,
   "id": "af4e0b46",
   "metadata": {},
   "outputs": [
    {
     "data": {
      "text/html": [
       "<div>\n",
       "<style scoped>\n",
       "    .dataframe tbody tr th:only-of-type {\n",
       "        vertical-align: middle;\n",
       "    }\n",
       "\n",
       "    .dataframe tbody tr th {\n",
       "        vertical-align: top;\n",
       "    }\n",
       "\n",
       "    .dataframe thead th {\n",
       "        text-align: right;\n",
       "    }\n",
       "</style>\n",
       "<table border=\"1\" class=\"dataframe\">\n",
       "  <thead>\n",
       "    <tr style=\"text-align: right;\">\n",
       "      <th>Predicted</th>\n",
       "      <th>1</th>\n",
       "      <th>2</th>\n",
       "      <th>3</th>\n",
       "      <th>4</th>\n",
       "      <th>5</th>\n",
       "    </tr>\n",
       "    <tr>\n",
       "      <th>Actual</th>\n",
       "      <th></th>\n",
       "      <th></th>\n",
       "      <th></th>\n",
       "      <th></th>\n",
       "      <th></th>\n",
       "    </tr>\n",
       "  </thead>\n",
       "  <tbody>\n",
       "    <tr>\n",
       "      <th>1</th>\n",
       "      <td>10253</td>\n",
       "      <td>996</td>\n",
       "      <td>875</td>\n",
       "      <td>828</td>\n",
       "      <td>2798</td>\n",
       "    </tr>\n",
       "    <tr>\n",
       "      <th>2</th>\n",
       "      <td>1337</td>\n",
       "      <td>4032</td>\n",
       "      <td>841</td>\n",
       "      <td>728</td>\n",
       "      <td>1949</td>\n",
       "    </tr>\n",
       "    <tr>\n",
       "      <th>3</th>\n",
       "      <td>1007</td>\n",
       "      <td>693</td>\n",
       "      <td>6316</td>\n",
       "      <td>1526</td>\n",
       "      <td>3082</td>\n",
       "    </tr>\n",
       "    <tr>\n",
       "      <th>4</th>\n",
       "      <td>808</td>\n",
       "      <td>613</td>\n",
       "      <td>1320</td>\n",
       "      <td>12213</td>\n",
       "      <td>9111</td>\n",
       "    </tr>\n",
       "    <tr>\n",
       "      <th>5</th>\n",
       "      <td>2156</td>\n",
       "      <td>1260</td>\n",
       "      <td>2109</td>\n",
       "      <td>6308</td>\n",
       "      <td>97377</td>\n",
       "    </tr>\n",
       "  </tbody>\n",
       "</table>\n",
       "</div>"
      ],
      "text/plain": [
       "Predicted      1     2     3      4      5\n",
       "Actual                                    \n",
       "1          10253   996   875    828   2798\n",
       "2           1337  4032   841    728   1949\n",
       "3           1007   693  6316   1526   3082\n",
       "4            808   613  1320  12213   9111\n",
       "5           2156  1260  2109   6308  97377"
      ]
     },
     "execution_count": 30,
     "metadata": {},
     "output_type": "execute_result"
    }
   ],
   "source": [
    "pd.crosstab(Y_test, y_pred_dtc, rownames=['Actual'], colnames=['Predicted'])"
   ]
  },
  {
   "cell_type": "markdown",
   "id": "89b89701",
   "metadata": {},
   "source": [
    "# RANDOM FOREST ALGORITHM USING BAG OF WORDS"
   ]
  },
  {
   "cell_type": "code",
   "execution_count": 17,
   "id": "395aa0a7",
   "metadata": {},
   "outputs": [
    {
     "name": "stdout",
     "output_type": "stream",
     "text": [
      "Wall time: 2h 23min 11s\n"
     ]
    },
    {
     "data": {
      "text/html": [
       "<style>#sk-container-id-1 {color: black;background-color: white;}#sk-container-id-1 pre{padding: 0;}#sk-container-id-1 div.sk-toggleable {background-color: white;}#sk-container-id-1 label.sk-toggleable__label {cursor: pointer;display: block;width: 100%;margin-bottom: 0;padding: 0.3em;box-sizing: border-box;text-align: center;}#sk-container-id-1 label.sk-toggleable__label-arrow:before {content: \"▸\";float: left;margin-right: 0.25em;color: #696969;}#sk-container-id-1 label.sk-toggleable__label-arrow:hover:before {color: black;}#sk-container-id-1 div.sk-estimator:hover label.sk-toggleable__label-arrow:before {color: black;}#sk-container-id-1 div.sk-toggleable__content {max-height: 0;max-width: 0;overflow: hidden;text-align: left;background-color: #f0f8ff;}#sk-container-id-1 div.sk-toggleable__content pre {margin: 0.2em;color: black;border-radius: 0.25em;background-color: #f0f8ff;}#sk-container-id-1 input.sk-toggleable__control:checked~div.sk-toggleable__content {max-height: 200px;max-width: 100%;overflow: auto;}#sk-container-id-1 input.sk-toggleable__control:checked~label.sk-toggleable__label-arrow:before {content: \"▾\";}#sk-container-id-1 div.sk-estimator input.sk-toggleable__control:checked~label.sk-toggleable__label {background-color: #d4ebff;}#sk-container-id-1 div.sk-label input.sk-toggleable__control:checked~label.sk-toggleable__label {background-color: #d4ebff;}#sk-container-id-1 input.sk-hidden--visually {border: 0;clip: rect(1px 1px 1px 1px);clip: rect(1px, 1px, 1px, 1px);height: 1px;margin: -1px;overflow: hidden;padding: 0;position: absolute;width: 1px;}#sk-container-id-1 div.sk-estimator {font-family: monospace;background-color: #f0f8ff;border: 1px dotted black;border-radius: 0.25em;box-sizing: border-box;margin-bottom: 0.5em;}#sk-container-id-1 div.sk-estimator:hover {background-color: #d4ebff;}#sk-container-id-1 div.sk-parallel-item::after {content: \"\";width: 100%;border-bottom: 1px solid gray;flex-grow: 1;}#sk-container-id-1 div.sk-label:hover label.sk-toggleable__label {background-color: #d4ebff;}#sk-container-id-1 div.sk-serial::before {content: \"\";position: absolute;border-left: 1px solid gray;box-sizing: border-box;top: 0;bottom: 0;left: 50%;z-index: 0;}#sk-container-id-1 div.sk-serial {display: flex;flex-direction: column;align-items: center;background-color: white;padding-right: 0.2em;padding-left: 0.2em;position: relative;}#sk-container-id-1 div.sk-item {position: relative;z-index: 1;}#sk-container-id-1 div.sk-parallel {display: flex;align-items: stretch;justify-content: center;background-color: white;position: relative;}#sk-container-id-1 div.sk-item::before, #sk-container-id-1 div.sk-parallel-item::before {content: \"\";position: absolute;border-left: 1px solid gray;box-sizing: border-box;top: 0;bottom: 0;left: 50%;z-index: -1;}#sk-container-id-1 div.sk-parallel-item {display: flex;flex-direction: column;z-index: 1;position: relative;background-color: white;}#sk-container-id-1 div.sk-parallel-item:first-child::after {align-self: flex-end;width: 50%;}#sk-container-id-1 div.sk-parallel-item:last-child::after {align-self: flex-start;width: 50%;}#sk-container-id-1 div.sk-parallel-item:only-child::after {width: 0;}#sk-container-id-1 div.sk-dashed-wrapped {border: 1px dashed gray;margin: 0 0.4em 0.5em 0.4em;box-sizing: border-box;padding-bottom: 0.4em;background-color: white;}#sk-container-id-1 div.sk-label label {font-family: monospace;font-weight: bold;display: inline-block;line-height: 1.2em;}#sk-container-id-1 div.sk-label-container {text-align: center;}#sk-container-id-1 div.sk-container {/* jupyter's `normalize.less` sets `[hidden] { display: none; }` but bootstrap.min.css set `[hidden] { display: none !important; }` so we also need the `!important` here to be able to override the default hidden behavior on the sphinx rendered scikit-learn.org. See: https://github.com/scikit-learn/scikit-learn/issues/21755 */display: inline-block !important;position: relative;}#sk-container-id-1 div.sk-text-repr-fallback {display: none;}</style><div id=\"sk-container-id-1\" class=\"sk-top-container\"><div class=\"sk-text-repr-fallback\"><pre>RandomForestClassifier(n_jobs=-1)</pre><b>In a Jupyter environment, please rerun this cell to show the HTML representation or trust the notebook. <br />On GitHub, the HTML representation is unable to render, please try loading this page with nbviewer.org.</b></div><div class=\"sk-container\" hidden><div class=\"sk-item\"><div class=\"sk-estimator sk-toggleable\"><input class=\"sk-toggleable__control sk-hidden--visually\" id=\"sk-estimator-id-1\" type=\"checkbox\" checked><label for=\"sk-estimator-id-1\" class=\"sk-toggleable__label sk-toggleable__label-arrow\">RandomForestClassifier</label><div class=\"sk-toggleable__content\"><pre>RandomForestClassifier(n_jobs=-1)</pre></div></div></div></div></div>"
      ],
      "text/plain": [
       "RandomForestClassifier(n_jobs=-1)"
      ]
     },
     "execution_count": 17,
     "metadata": {},
     "output_type": "execute_result"
    }
   ],
   "source": [
    "%%time\n",
    "from sklearn.ensemble import RandomForestClassifier\n",
    "rfc=RandomForestClassifier(n_jobs=-1)\n",
    "rfc.fit(X_train_processed_bow,Y_train)"
   ]
  },
  {
   "cell_type": "code",
   "execution_count": 19,
   "id": "0f94da3d",
   "metadata": {},
   "outputs": [
    {
     "name": "stdout",
     "output_type": "stream",
     "text": [
      "Wall time: 1min 20s\n"
     ]
    },
    {
     "data": {
      "text/plain": [
       "array([5, 5, 5, ..., 5, 1, 5], dtype=int64)"
      ]
     },
     "execution_count": 19,
     "metadata": {},
     "output_type": "execute_result"
    }
   ],
   "source": [
    "%%time\n",
    "y_pred_rfc=rfc.predict(X_test_processed_bow)\n",
    "y_pred_rfc"
   ]
  },
  {
   "cell_type": "code",
   "execution_count": 22,
   "id": "c1fe0edf",
   "metadata": {},
   "outputs": [
    {
     "data": {
      "text/plain": [
       "0.7965063095182249"
      ]
     },
     "execution_count": 22,
     "metadata": {},
     "output_type": "execute_result"
    }
   ],
   "source": [
    "accuracy_score(Y_test,y_pred_rfc)"
   ]
  },
  {
   "cell_type": "code",
   "execution_count": 23,
   "id": "49758967",
   "metadata": {},
   "outputs": [
    {
     "data": {
      "text/plain": [
       "array([[  8896,     13,     26,     17,   6798],\n",
       "       [   474,   3410,     93,     35,   4875],\n",
       "       [   157,     15,   5082,    121,   7249],\n",
       "       [    42,      3,     48,   9335,  14637],\n",
       "       [    38,      0,     11,     51, 109110]], dtype=int64)"
      ]
     },
     "execution_count": 23,
     "metadata": {},
     "output_type": "execute_result"
    }
   ],
   "source": [
    "confusion_matrix(Y_test,y_pred_rfc)"
   ]
  },
  {
   "cell_type": "code",
   "execution_count": 24,
   "id": "9bc46bb5",
   "metadata": {},
   "outputs": [
    {
     "data": {
      "text/html": [
       "<div>\n",
       "<style scoped>\n",
       "    .dataframe tbody tr th:only-of-type {\n",
       "        vertical-align: middle;\n",
       "    }\n",
       "\n",
       "    .dataframe tbody tr th {\n",
       "        vertical-align: top;\n",
       "    }\n",
       "\n",
       "    .dataframe thead th {\n",
       "        text-align: right;\n",
       "    }\n",
       "</style>\n",
       "<table border=\"1\" class=\"dataframe\">\n",
       "  <thead>\n",
       "    <tr style=\"text-align: right;\">\n",
       "      <th>Predicted</th>\n",
       "      <th>1</th>\n",
       "      <th>2</th>\n",
       "      <th>3</th>\n",
       "      <th>4</th>\n",
       "      <th>5</th>\n",
       "    </tr>\n",
       "    <tr>\n",
       "      <th>Actual</th>\n",
       "      <th></th>\n",
       "      <th></th>\n",
       "      <th></th>\n",
       "      <th></th>\n",
       "      <th></th>\n",
       "    </tr>\n",
       "  </thead>\n",
       "  <tbody>\n",
       "    <tr>\n",
       "      <th>1</th>\n",
       "      <td>8896</td>\n",
       "      <td>13</td>\n",
       "      <td>26</td>\n",
       "      <td>17</td>\n",
       "      <td>6798</td>\n",
       "    </tr>\n",
       "    <tr>\n",
       "      <th>2</th>\n",
       "      <td>474</td>\n",
       "      <td>3410</td>\n",
       "      <td>93</td>\n",
       "      <td>35</td>\n",
       "      <td>4875</td>\n",
       "    </tr>\n",
       "    <tr>\n",
       "      <th>3</th>\n",
       "      <td>157</td>\n",
       "      <td>15</td>\n",
       "      <td>5082</td>\n",
       "      <td>121</td>\n",
       "      <td>7249</td>\n",
       "    </tr>\n",
       "    <tr>\n",
       "      <th>4</th>\n",
       "      <td>42</td>\n",
       "      <td>3</td>\n",
       "      <td>48</td>\n",
       "      <td>9335</td>\n",
       "      <td>14637</td>\n",
       "    </tr>\n",
       "    <tr>\n",
       "      <th>5</th>\n",
       "      <td>38</td>\n",
       "      <td>0</td>\n",
       "      <td>11</td>\n",
       "      <td>51</td>\n",
       "      <td>109110</td>\n",
       "    </tr>\n",
       "  </tbody>\n",
       "</table>\n",
       "</div>"
      ],
      "text/plain": [
       "Predicted     1     2     3     4       5\n",
       "Actual                                   \n",
       "1          8896    13    26    17    6798\n",
       "2           474  3410    93    35    4875\n",
       "3           157    15  5082   121    7249\n",
       "4            42     3    48  9335   14637\n",
       "5            38     0    11    51  109110"
      ]
     },
     "execution_count": 24,
     "metadata": {},
     "output_type": "execute_result"
    }
   ],
   "source": [
    "pd.crosstab(Y_test, y_pred_rfc, rownames=['Actual'], colnames=['Predicted'])"
   ]
  },
  {
   "cell_type": "markdown",
   "id": "41dd9b5b",
   "metadata": {},
   "source": [
    "# LOGISTIC REGRESION ALGORITHM USING BAG OF WORDS"
   ]
  },
  {
   "cell_type": "code",
   "execution_count": 25,
   "id": "f63c1d88",
   "metadata": {},
   "outputs": [
    {
     "name": "stdout",
     "output_type": "stream",
     "text": [
      "Wall time: 1min 31s\n",
      "Parser   : 137 ms\n"
     ]
    },
    {
     "data": {
      "text/html": [
       "<style>#sk-container-id-2 {color: black;background-color: white;}#sk-container-id-2 pre{padding: 0;}#sk-container-id-2 div.sk-toggleable {background-color: white;}#sk-container-id-2 label.sk-toggleable__label {cursor: pointer;display: block;width: 100%;margin-bottom: 0;padding: 0.3em;box-sizing: border-box;text-align: center;}#sk-container-id-2 label.sk-toggleable__label-arrow:before {content: \"▸\";float: left;margin-right: 0.25em;color: #696969;}#sk-container-id-2 label.sk-toggleable__label-arrow:hover:before {color: black;}#sk-container-id-2 div.sk-estimator:hover label.sk-toggleable__label-arrow:before {color: black;}#sk-container-id-2 div.sk-toggleable__content {max-height: 0;max-width: 0;overflow: hidden;text-align: left;background-color: #f0f8ff;}#sk-container-id-2 div.sk-toggleable__content pre {margin: 0.2em;color: black;border-radius: 0.25em;background-color: #f0f8ff;}#sk-container-id-2 input.sk-toggleable__control:checked~div.sk-toggleable__content {max-height: 200px;max-width: 100%;overflow: auto;}#sk-container-id-2 input.sk-toggleable__control:checked~label.sk-toggleable__label-arrow:before {content: \"▾\";}#sk-container-id-2 div.sk-estimator input.sk-toggleable__control:checked~label.sk-toggleable__label {background-color: #d4ebff;}#sk-container-id-2 div.sk-label input.sk-toggleable__control:checked~label.sk-toggleable__label {background-color: #d4ebff;}#sk-container-id-2 input.sk-hidden--visually {border: 0;clip: rect(1px 1px 1px 1px);clip: rect(1px, 1px, 1px, 1px);height: 1px;margin: -1px;overflow: hidden;padding: 0;position: absolute;width: 1px;}#sk-container-id-2 div.sk-estimator {font-family: monospace;background-color: #f0f8ff;border: 1px dotted black;border-radius: 0.25em;box-sizing: border-box;margin-bottom: 0.5em;}#sk-container-id-2 div.sk-estimator:hover {background-color: #d4ebff;}#sk-container-id-2 div.sk-parallel-item::after {content: \"\";width: 100%;border-bottom: 1px solid gray;flex-grow: 1;}#sk-container-id-2 div.sk-label:hover label.sk-toggleable__label {background-color: #d4ebff;}#sk-container-id-2 div.sk-serial::before {content: \"\";position: absolute;border-left: 1px solid gray;box-sizing: border-box;top: 0;bottom: 0;left: 50%;z-index: 0;}#sk-container-id-2 div.sk-serial {display: flex;flex-direction: column;align-items: center;background-color: white;padding-right: 0.2em;padding-left: 0.2em;position: relative;}#sk-container-id-2 div.sk-item {position: relative;z-index: 1;}#sk-container-id-2 div.sk-parallel {display: flex;align-items: stretch;justify-content: center;background-color: white;position: relative;}#sk-container-id-2 div.sk-item::before, #sk-container-id-2 div.sk-parallel-item::before {content: \"\";position: absolute;border-left: 1px solid gray;box-sizing: border-box;top: 0;bottom: 0;left: 50%;z-index: -1;}#sk-container-id-2 div.sk-parallel-item {display: flex;flex-direction: column;z-index: 1;position: relative;background-color: white;}#sk-container-id-2 div.sk-parallel-item:first-child::after {align-self: flex-end;width: 50%;}#sk-container-id-2 div.sk-parallel-item:last-child::after {align-self: flex-start;width: 50%;}#sk-container-id-2 div.sk-parallel-item:only-child::after {width: 0;}#sk-container-id-2 div.sk-dashed-wrapped {border: 1px dashed gray;margin: 0 0.4em 0.5em 0.4em;box-sizing: border-box;padding-bottom: 0.4em;background-color: white;}#sk-container-id-2 div.sk-label label {font-family: monospace;font-weight: bold;display: inline-block;line-height: 1.2em;}#sk-container-id-2 div.sk-label-container {text-align: center;}#sk-container-id-2 div.sk-container {/* jupyter's `normalize.less` sets `[hidden] { display: none; }` but bootstrap.min.css set `[hidden] { display: none !important; }` so we also need the `!important` here to be able to override the default hidden behavior on the sphinx rendered scikit-learn.org. See: https://github.com/scikit-learn/scikit-learn/issues/21755 */display: inline-block !important;position: relative;}#sk-container-id-2 div.sk-text-repr-fallback {display: none;}</style><div id=\"sk-container-id-2\" class=\"sk-top-container\"><div class=\"sk-text-repr-fallback\"><pre>LogisticRegression(n_jobs=-1)</pre><b>In a Jupyter environment, please rerun this cell to show the HTML representation or trust the notebook. <br />On GitHub, the HTML representation is unable to render, please try loading this page with nbviewer.org.</b></div><div class=\"sk-container\" hidden><div class=\"sk-item\"><div class=\"sk-estimator sk-toggleable\"><input class=\"sk-toggleable__control sk-hidden--visually\" id=\"sk-estimator-id-2\" type=\"checkbox\" checked><label for=\"sk-estimator-id-2\" class=\"sk-toggleable__label sk-toggleable__label-arrow\">LogisticRegression</label><div class=\"sk-toggleable__content\"><pre>LogisticRegression(n_jobs=-1)</pre></div></div></div></div></div>"
      ],
      "text/plain": [
       "LogisticRegression(n_jobs=-1)"
      ]
     },
     "execution_count": 25,
     "metadata": {},
     "output_type": "execute_result"
    }
   ],
   "source": [
    "%%time\n",
    "from sklearn.linear_model import LogisticRegression\n",
    "lrc=LogisticRegression(n_jobs=-1)\n",
    "lrc.fit(X_train_processed_bow,Y_train)"
   ]
  },
  {
   "cell_type": "code",
   "execution_count": 27,
   "id": "5fa40bee",
   "metadata": {},
   "outputs": [
    {
     "name": "stdout",
     "output_type": "stream",
     "text": [
      "Wall time: 111 ms\n"
     ]
    },
    {
     "data": {
      "text/plain": [
       "array([5, 5, 5, ..., 4, 2, 5], dtype=int64)"
      ]
     },
     "execution_count": 27,
     "metadata": {},
     "output_type": "execute_result"
    }
   ],
   "source": [
    "%%time\n",
    "y_pred_lrc=lrc.predict(X_test_processed_bow)\n",
    "y_pred_lrc"
   ]
  },
  {
   "cell_type": "code",
   "execution_count": 28,
   "id": "4a487b0f",
   "metadata": {},
   "outputs": [
    {
     "data": {
      "text/plain": [
       "0.76946803021063"
      ]
     },
     "execution_count": 28,
     "metadata": {},
     "output_type": "execute_result"
    }
   ],
   "source": [
    "accuracy_score(Y_test,y_pred_lrc)"
   ]
  },
  {
   "cell_type": "code",
   "execution_count": 29,
   "id": "83124cbb",
   "metadata": {},
   "outputs": [
    {
     "data": {
      "text/plain": [
       "array([[ 11585,   1281,    715,    282,   1887],\n",
       "       [  2237,   3115,   1387,    545,   1603],\n",
       "       [  1190,   1143,   5320,   1843,   3128],\n",
       "       [   485,    443,   1712,   8213,  13212],\n",
       "       [   934,    395,   1073,   3819, 102989]], dtype=int64)"
      ]
     },
     "execution_count": 29,
     "metadata": {},
     "output_type": "execute_result"
    }
   ],
   "source": [
    "confusion_matrix(Y_test,y_pred_lrc)"
   ]
  },
  {
   "cell_type": "code",
   "execution_count": 30,
   "id": "cf049450",
   "metadata": {},
   "outputs": [
    {
     "data": {
      "text/html": [
       "<div>\n",
       "<style scoped>\n",
       "    .dataframe tbody tr th:only-of-type {\n",
       "        vertical-align: middle;\n",
       "    }\n",
       "\n",
       "    .dataframe tbody tr th {\n",
       "        vertical-align: top;\n",
       "    }\n",
       "\n",
       "    .dataframe thead th {\n",
       "        text-align: right;\n",
       "    }\n",
       "</style>\n",
       "<table border=\"1\" class=\"dataframe\">\n",
       "  <thead>\n",
       "    <tr style=\"text-align: right;\">\n",
       "      <th>Predicted</th>\n",
       "      <th>1</th>\n",
       "      <th>2</th>\n",
       "      <th>3</th>\n",
       "      <th>4</th>\n",
       "      <th>5</th>\n",
       "    </tr>\n",
       "    <tr>\n",
       "      <th>Actual</th>\n",
       "      <th></th>\n",
       "      <th></th>\n",
       "      <th></th>\n",
       "      <th></th>\n",
       "      <th></th>\n",
       "    </tr>\n",
       "  </thead>\n",
       "  <tbody>\n",
       "    <tr>\n",
       "      <th>1</th>\n",
       "      <td>11585</td>\n",
       "      <td>1281</td>\n",
       "      <td>715</td>\n",
       "      <td>282</td>\n",
       "      <td>1887</td>\n",
       "    </tr>\n",
       "    <tr>\n",
       "      <th>2</th>\n",
       "      <td>2237</td>\n",
       "      <td>3115</td>\n",
       "      <td>1387</td>\n",
       "      <td>545</td>\n",
       "      <td>1603</td>\n",
       "    </tr>\n",
       "    <tr>\n",
       "      <th>3</th>\n",
       "      <td>1190</td>\n",
       "      <td>1143</td>\n",
       "      <td>5320</td>\n",
       "      <td>1843</td>\n",
       "      <td>3128</td>\n",
       "    </tr>\n",
       "    <tr>\n",
       "      <th>4</th>\n",
       "      <td>485</td>\n",
       "      <td>443</td>\n",
       "      <td>1712</td>\n",
       "      <td>8213</td>\n",
       "      <td>13212</td>\n",
       "    </tr>\n",
       "    <tr>\n",
       "      <th>5</th>\n",
       "      <td>934</td>\n",
       "      <td>395</td>\n",
       "      <td>1073</td>\n",
       "      <td>3819</td>\n",
       "      <td>102989</td>\n",
       "    </tr>\n",
       "  </tbody>\n",
       "</table>\n",
       "</div>"
      ],
      "text/plain": [
       "Predicted      1     2     3     4       5\n",
       "Actual                                    \n",
       "1          11585  1281   715   282    1887\n",
       "2           2237  3115  1387   545    1603\n",
       "3           1190  1143  5320  1843    3128\n",
       "4            485   443  1712  8213   13212\n",
       "5            934   395  1073  3819  102989"
      ]
     },
     "execution_count": 30,
     "metadata": {},
     "output_type": "execute_result"
    }
   ],
   "source": [
    "pd.crosstab(Y_test, y_pred_lrc, rownames=['Actual'], colnames=['Predicted'])"
   ]
  },
  {
   "cell_type": "markdown",
   "id": "953b9c2e",
   "metadata": {},
   "source": [
    "# K-NEAREST NEIGHBORS ALGORITHM USING BAG OF WORDS"
   ]
  },
  {
   "cell_type": "code",
   "execution_count": 31,
   "id": "9cc0c3c7",
   "metadata": {},
   "outputs": [
    {
     "name": "stdout",
     "output_type": "stream",
     "text": [
      "Wall time: 677 ms\n"
     ]
    },
    {
     "data": {
      "text/html": [
       "<style>#sk-container-id-3 {color: black;background-color: white;}#sk-container-id-3 pre{padding: 0;}#sk-container-id-3 div.sk-toggleable {background-color: white;}#sk-container-id-3 label.sk-toggleable__label {cursor: pointer;display: block;width: 100%;margin-bottom: 0;padding: 0.3em;box-sizing: border-box;text-align: center;}#sk-container-id-3 label.sk-toggleable__label-arrow:before {content: \"▸\";float: left;margin-right: 0.25em;color: #696969;}#sk-container-id-3 label.sk-toggleable__label-arrow:hover:before {color: black;}#sk-container-id-3 div.sk-estimator:hover label.sk-toggleable__label-arrow:before {color: black;}#sk-container-id-3 div.sk-toggleable__content {max-height: 0;max-width: 0;overflow: hidden;text-align: left;background-color: #f0f8ff;}#sk-container-id-3 div.sk-toggleable__content pre {margin: 0.2em;color: black;border-radius: 0.25em;background-color: #f0f8ff;}#sk-container-id-3 input.sk-toggleable__control:checked~div.sk-toggleable__content {max-height: 200px;max-width: 100%;overflow: auto;}#sk-container-id-3 input.sk-toggleable__control:checked~label.sk-toggleable__label-arrow:before {content: \"▾\";}#sk-container-id-3 div.sk-estimator input.sk-toggleable__control:checked~label.sk-toggleable__label {background-color: #d4ebff;}#sk-container-id-3 div.sk-label input.sk-toggleable__control:checked~label.sk-toggleable__label {background-color: #d4ebff;}#sk-container-id-3 input.sk-hidden--visually {border: 0;clip: rect(1px 1px 1px 1px);clip: rect(1px, 1px, 1px, 1px);height: 1px;margin: -1px;overflow: hidden;padding: 0;position: absolute;width: 1px;}#sk-container-id-3 div.sk-estimator {font-family: monospace;background-color: #f0f8ff;border: 1px dotted black;border-radius: 0.25em;box-sizing: border-box;margin-bottom: 0.5em;}#sk-container-id-3 div.sk-estimator:hover {background-color: #d4ebff;}#sk-container-id-3 div.sk-parallel-item::after {content: \"\";width: 100%;border-bottom: 1px solid gray;flex-grow: 1;}#sk-container-id-3 div.sk-label:hover label.sk-toggleable__label {background-color: #d4ebff;}#sk-container-id-3 div.sk-serial::before {content: \"\";position: absolute;border-left: 1px solid gray;box-sizing: border-box;top: 0;bottom: 0;left: 50%;z-index: 0;}#sk-container-id-3 div.sk-serial {display: flex;flex-direction: column;align-items: center;background-color: white;padding-right: 0.2em;padding-left: 0.2em;position: relative;}#sk-container-id-3 div.sk-item {position: relative;z-index: 1;}#sk-container-id-3 div.sk-parallel {display: flex;align-items: stretch;justify-content: center;background-color: white;position: relative;}#sk-container-id-3 div.sk-item::before, #sk-container-id-3 div.sk-parallel-item::before {content: \"\";position: absolute;border-left: 1px solid gray;box-sizing: border-box;top: 0;bottom: 0;left: 50%;z-index: -1;}#sk-container-id-3 div.sk-parallel-item {display: flex;flex-direction: column;z-index: 1;position: relative;background-color: white;}#sk-container-id-3 div.sk-parallel-item:first-child::after {align-self: flex-end;width: 50%;}#sk-container-id-3 div.sk-parallel-item:last-child::after {align-self: flex-start;width: 50%;}#sk-container-id-3 div.sk-parallel-item:only-child::after {width: 0;}#sk-container-id-3 div.sk-dashed-wrapped {border: 1px dashed gray;margin: 0 0.4em 0.5em 0.4em;box-sizing: border-box;padding-bottom: 0.4em;background-color: white;}#sk-container-id-3 div.sk-label label {font-family: monospace;font-weight: bold;display: inline-block;line-height: 1.2em;}#sk-container-id-3 div.sk-label-container {text-align: center;}#sk-container-id-3 div.sk-container {/* jupyter's `normalize.less` sets `[hidden] { display: none; }` but bootstrap.min.css set `[hidden] { display: none !important; }` so we also need the `!important` here to be able to override the default hidden behavior on the sphinx rendered scikit-learn.org. See: https://github.com/scikit-learn/scikit-learn/issues/21755 */display: inline-block !important;position: relative;}#sk-container-id-3 div.sk-text-repr-fallback {display: none;}</style><div id=\"sk-container-id-3\" class=\"sk-top-container\"><div class=\"sk-text-repr-fallback\"><pre>KNeighborsClassifier()</pre><b>In a Jupyter environment, please rerun this cell to show the HTML representation or trust the notebook. <br />On GitHub, the HTML representation is unable to render, please try loading this page with nbviewer.org.</b></div><div class=\"sk-container\" hidden><div class=\"sk-item\"><div class=\"sk-estimator sk-toggleable\"><input class=\"sk-toggleable__control sk-hidden--visually\" id=\"sk-estimator-id-3\" type=\"checkbox\" checked><label for=\"sk-estimator-id-3\" class=\"sk-toggleable__label sk-toggleable__label-arrow\">KNeighborsClassifier</label><div class=\"sk-toggleable__content\"><pre>KNeighborsClassifier()</pre></div></div></div></div></div>"
      ],
      "text/plain": [
       "KNeighborsClassifier()"
      ]
     },
     "execution_count": 31,
     "metadata": {},
     "output_type": "execute_result"
    }
   ],
   "source": [
    "%%time\n",
    "from sklearn.neighbors import KNeighborsClassifier\n",
    "knc=KNeighborsClassifier()\n",
    "knc.fit(X_train_processed_bow,Y_train)"
   ]
  },
  {
   "cell_type": "code",
   "execution_count": 32,
   "id": "4ec27c73",
   "metadata": {},
   "outputs": [
    {
     "name": "stdout",
     "output_type": "stream",
     "text": [
      "Wall time: 59min 47s\n"
     ]
    },
    {
     "data": {
      "text/plain": [
       "array([5, 4, 5, ..., 1, 5, 5], dtype=int64)"
      ]
     },
     "execution_count": 32,
     "metadata": {},
     "output_type": "execute_result"
    }
   ],
   "source": [
    "%%time\n",
    "y_pred_knc=knc.predict(X_test_processed_bow)\n",
    "y_pred_knc"
   ]
  },
  {
   "cell_type": "code",
   "execution_count": 33,
   "id": "38134003",
   "metadata": {},
   "outputs": [
    {
     "data": {
      "text/plain": [
       "0.7194844490312896"
      ]
     },
     "execution_count": 33,
     "metadata": {},
     "output_type": "execute_result"
    }
   ],
   "source": [
    "accuracy_score(Y_test,y_pred_knc)"
   ]
  },
  {
   "cell_type": "code",
   "execution_count": 34,
   "id": "583ec49d",
   "metadata": {},
   "outputs": [
    {
     "data": {
      "text/plain": [
       "array([[  6139,    459,    478,    599,   8075],\n",
       "       [   789,   2651,    396,    547,   4504],\n",
       "       [   654,    433,   3899,    924,   6714],\n",
       "       [   594,    351,    724,   7728,  14668],\n",
       "       [  1339,    674,   1110,   3806, 102281]], dtype=int64)"
      ]
     },
     "execution_count": 34,
     "metadata": {},
     "output_type": "execute_result"
    }
   ],
   "source": [
    "confusion_matrix(Y_test,y_pred_knc)"
   ]
  },
  {
   "cell_type": "code",
   "execution_count": 35,
   "id": "03576059",
   "metadata": {},
   "outputs": [
    {
     "data": {
      "text/html": [
       "<div>\n",
       "<style scoped>\n",
       "    .dataframe tbody tr th:only-of-type {\n",
       "        vertical-align: middle;\n",
       "    }\n",
       "\n",
       "    .dataframe tbody tr th {\n",
       "        vertical-align: top;\n",
       "    }\n",
       "\n",
       "    .dataframe thead th {\n",
       "        text-align: right;\n",
       "    }\n",
       "</style>\n",
       "<table border=\"1\" class=\"dataframe\">\n",
       "  <thead>\n",
       "    <tr style=\"text-align: right;\">\n",
       "      <th>Predicted</th>\n",
       "      <th>1</th>\n",
       "      <th>2</th>\n",
       "      <th>3</th>\n",
       "      <th>4</th>\n",
       "      <th>5</th>\n",
       "    </tr>\n",
       "    <tr>\n",
       "      <th>Actual</th>\n",
       "      <th></th>\n",
       "      <th></th>\n",
       "      <th></th>\n",
       "      <th></th>\n",
       "      <th></th>\n",
       "    </tr>\n",
       "  </thead>\n",
       "  <tbody>\n",
       "    <tr>\n",
       "      <th>1</th>\n",
       "      <td>6139</td>\n",
       "      <td>459</td>\n",
       "      <td>478</td>\n",
       "      <td>599</td>\n",
       "      <td>8075</td>\n",
       "    </tr>\n",
       "    <tr>\n",
       "      <th>2</th>\n",
       "      <td>789</td>\n",
       "      <td>2651</td>\n",
       "      <td>396</td>\n",
       "      <td>547</td>\n",
       "      <td>4504</td>\n",
       "    </tr>\n",
       "    <tr>\n",
       "      <th>3</th>\n",
       "      <td>654</td>\n",
       "      <td>433</td>\n",
       "      <td>3899</td>\n",
       "      <td>924</td>\n",
       "      <td>6714</td>\n",
       "    </tr>\n",
       "    <tr>\n",
       "      <th>4</th>\n",
       "      <td>594</td>\n",
       "      <td>351</td>\n",
       "      <td>724</td>\n",
       "      <td>7728</td>\n",
       "      <td>14668</td>\n",
       "    </tr>\n",
       "    <tr>\n",
       "      <th>5</th>\n",
       "      <td>1339</td>\n",
       "      <td>674</td>\n",
       "      <td>1110</td>\n",
       "      <td>3806</td>\n",
       "      <td>102281</td>\n",
       "    </tr>\n",
       "  </tbody>\n",
       "</table>\n",
       "</div>"
      ],
      "text/plain": [
       "Predicted     1     2     3     4       5\n",
       "Actual                                   \n",
       "1          6139   459   478   599    8075\n",
       "2           789  2651   396   547    4504\n",
       "3           654   433  3899   924    6714\n",
       "4           594   351   724  7728   14668\n",
       "5          1339   674  1110  3806  102281"
      ]
     },
     "execution_count": 35,
     "metadata": {},
     "output_type": "execute_result"
    }
   ],
   "source": [
    "pd.crosstab(Y_test, y_pred_knc, rownames=['Actual'], colnames=['Predicted'])"
   ]
  },
  {
   "cell_type": "markdown",
   "id": "c54e7ffe",
   "metadata": {},
   "source": [
    "# `MULTINOMIALNB ALGORITHM USING TF-IDF`"
   ]
  },
  {
   "cell_type": "code",
   "execution_count": 17,
   "id": "81177f2c",
   "metadata": {},
   "outputs": [
    {
     "name": "stdout",
     "output_type": "stream",
     "text": [
      "Wall time: 468 ms\n"
     ]
    },
    {
     "data": {
      "text/html": [
       "<style>#sk-container-id-1 {color: black;background-color: white;}#sk-container-id-1 pre{padding: 0;}#sk-container-id-1 div.sk-toggleable {background-color: white;}#sk-container-id-1 label.sk-toggleable__label {cursor: pointer;display: block;width: 100%;margin-bottom: 0;padding: 0.3em;box-sizing: border-box;text-align: center;}#sk-container-id-1 label.sk-toggleable__label-arrow:before {content: \"▸\";float: left;margin-right: 0.25em;color: #696969;}#sk-container-id-1 label.sk-toggleable__label-arrow:hover:before {color: black;}#sk-container-id-1 div.sk-estimator:hover label.sk-toggleable__label-arrow:before {color: black;}#sk-container-id-1 div.sk-toggleable__content {max-height: 0;max-width: 0;overflow: hidden;text-align: left;background-color: #f0f8ff;}#sk-container-id-1 div.sk-toggleable__content pre {margin: 0.2em;color: black;border-radius: 0.25em;background-color: #f0f8ff;}#sk-container-id-1 input.sk-toggleable__control:checked~div.sk-toggleable__content {max-height: 200px;max-width: 100%;overflow: auto;}#sk-container-id-1 input.sk-toggleable__control:checked~label.sk-toggleable__label-arrow:before {content: \"▾\";}#sk-container-id-1 div.sk-estimator input.sk-toggleable__control:checked~label.sk-toggleable__label {background-color: #d4ebff;}#sk-container-id-1 div.sk-label input.sk-toggleable__control:checked~label.sk-toggleable__label {background-color: #d4ebff;}#sk-container-id-1 input.sk-hidden--visually {border: 0;clip: rect(1px 1px 1px 1px);clip: rect(1px, 1px, 1px, 1px);height: 1px;margin: -1px;overflow: hidden;padding: 0;position: absolute;width: 1px;}#sk-container-id-1 div.sk-estimator {font-family: monospace;background-color: #f0f8ff;border: 1px dotted black;border-radius: 0.25em;box-sizing: border-box;margin-bottom: 0.5em;}#sk-container-id-1 div.sk-estimator:hover {background-color: #d4ebff;}#sk-container-id-1 div.sk-parallel-item::after {content: \"\";width: 100%;border-bottom: 1px solid gray;flex-grow: 1;}#sk-container-id-1 div.sk-label:hover label.sk-toggleable__label {background-color: #d4ebff;}#sk-container-id-1 div.sk-serial::before {content: \"\";position: absolute;border-left: 1px solid gray;box-sizing: border-box;top: 0;bottom: 0;left: 50%;z-index: 0;}#sk-container-id-1 div.sk-serial {display: flex;flex-direction: column;align-items: center;background-color: white;padding-right: 0.2em;padding-left: 0.2em;position: relative;}#sk-container-id-1 div.sk-item {position: relative;z-index: 1;}#sk-container-id-1 div.sk-parallel {display: flex;align-items: stretch;justify-content: center;background-color: white;position: relative;}#sk-container-id-1 div.sk-item::before, #sk-container-id-1 div.sk-parallel-item::before {content: \"\";position: absolute;border-left: 1px solid gray;box-sizing: border-box;top: 0;bottom: 0;left: 50%;z-index: -1;}#sk-container-id-1 div.sk-parallel-item {display: flex;flex-direction: column;z-index: 1;position: relative;background-color: white;}#sk-container-id-1 div.sk-parallel-item:first-child::after {align-self: flex-end;width: 50%;}#sk-container-id-1 div.sk-parallel-item:last-child::after {align-self: flex-start;width: 50%;}#sk-container-id-1 div.sk-parallel-item:only-child::after {width: 0;}#sk-container-id-1 div.sk-dashed-wrapped {border: 1px dashed gray;margin: 0 0.4em 0.5em 0.4em;box-sizing: border-box;padding-bottom: 0.4em;background-color: white;}#sk-container-id-1 div.sk-label label {font-family: monospace;font-weight: bold;display: inline-block;line-height: 1.2em;}#sk-container-id-1 div.sk-label-container {text-align: center;}#sk-container-id-1 div.sk-container {/* jupyter's `normalize.less` sets `[hidden] { display: none; }` but bootstrap.min.css set `[hidden] { display: none !important; }` so we also need the `!important` here to be able to override the default hidden behavior on the sphinx rendered scikit-learn.org. See: https://github.com/scikit-learn/scikit-learn/issues/21755 */display: inline-block !important;position: relative;}#sk-container-id-1 div.sk-text-repr-fallback {display: none;}</style><div id=\"sk-container-id-1\" class=\"sk-top-container\"><div class=\"sk-text-repr-fallback\"><pre>MultinomialNB()</pre><b>In a Jupyter environment, please rerun this cell to show the HTML representation or trust the notebook. <br />On GitHub, the HTML representation is unable to render, please try loading this page with nbviewer.org.</b></div><div class=\"sk-container\" hidden><div class=\"sk-item\"><div class=\"sk-estimator sk-toggleable\"><input class=\"sk-toggleable__control sk-hidden--visually\" id=\"sk-estimator-id-1\" type=\"checkbox\" checked><label for=\"sk-estimator-id-1\" class=\"sk-toggleable__label sk-toggleable__label-arrow\">MultinomialNB</label><div class=\"sk-toggleable__content\"><pre>MultinomialNB()</pre></div></div></div></div></div>"
      ],
      "text/plain": [
       "MultinomialNB()"
      ]
     },
     "execution_count": 17,
     "metadata": {},
     "output_type": "execute_result"
    }
   ],
   "source": [
    "%%time\n",
    "from sklearn.naive_bayes import MultinomialNB\n",
    "mnb_tfidf=MultinomialNB()\n",
    "mnb_tfidf.fit(X_train_processed_tfidf,Y_train)"
   ]
  },
  {
   "cell_type": "code",
   "execution_count": 18,
   "id": "1753d09f",
   "metadata": {},
   "outputs": [
    {
     "data": {
      "text/plain": [
       "array([5, 5, 5, ..., 5, 5, 5], dtype=int64)"
      ]
     },
     "execution_count": 18,
     "metadata": {},
     "output_type": "execute_result"
    }
   ],
   "source": [
    "y_pred_mnb_tfidf=mnb_tfidf.predict(X_test_processed_tfidf)\n",
    "y_pred_mnb_tfidf"
   ]
  },
  {
   "cell_type": "code",
   "execution_count": 19,
   "id": "ce9b1089",
   "metadata": {},
   "outputs": [],
   "source": [
    "from sklearn.metrics import accuracy_score,confusion_matrix,precision_score, recall_score,classification_report"
   ]
  },
  {
   "cell_type": "code",
   "execution_count": 20,
   "id": "da55ccbe",
   "metadata": {},
   "outputs": [
    {
     "data": {
      "text/plain": [
       "0.6474937843036075"
      ]
     },
     "execution_count": 20,
     "metadata": {},
     "output_type": "execute_result"
    }
   ],
   "source": [
    "accu_mnb=accuracy_score(Y_test,y_pred_mnb_tfidf)\n",
    "accu_mnb"
   ]
  },
  {
   "cell_type": "code",
   "execution_count": 21,
   "id": "f99e1c2c",
   "metadata": {},
   "outputs": [
    {
     "data": {
      "text/plain": [
       "array([[  1016,      0,      0,      3,  14731],\n",
       "       [    52,     11,      2,      2,   8820],\n",
       "       [    19,      0,     19,      6,  12580],\n",
       "       [     9,      0,      0,    182,  23874],\n",
       "       [     9,      1,      0,      7, 109193]], dtype=int64)"
      ]
     },
     "execution_count": 21,
     "metadata": {},
     "output_type": "execute_result"
    }
   ],
   "source": [
    "confusion_matrix(Y_test,y_pred_mnb_tfidf)"
   ]
  },
  {
   "cell_type": "code",
   "execution_count": 22,
   "id": "592afe50",
   "metadata": {},
   "outputs": [
    {
     "data": {
      "text/html": [
       "<div>\n",
       "<style scoped>\n",
       "    .dataframe tbody tr th:only-of-type {\n",
       "        vertical-align: middle;\n",
       "    }\n",
       "\n",
       "    .dataframe tbody tr th {\n",
       "        vertical-align: top;\n",
       "    }\n",
       "\n",
       "    .dataframe thead th {\n",
       "        text-align: right;\n",
       "    }\n",
       "</style>\n",
       "<table border=\"1\" class=\"dataframe\">\n",
       "  <thead>\n",
       "    <tr style=\"text-align: right;\">\n",
       "      <th>Predicted</th>\n",
       "      <th>1</th>\n",
       "      <th>2</th>\n",
       "      <th>3</th>\n",
       "      <th>4</th>\n",
       "      <th>5</th>\n",
       "    </tr>\n",
       "    <tr>\n",
       "      <th>Actual</th>\n",
       "      <th></th>\n",
       "      <th></th>\n",
       "      <th></th>\n",
       "      <th></th>\n",
       "      <th></th>\n",
       "    </tr>\n",
       "  </thead>\n",
       "  <tbody>\n",
       "    <tr>\n",
       "      <th>1</th>\n",
       "      <td>1016</td>\n",
       "      <td>0</td>\n",
       "      <td>0</td>\n",
       "      <td>3</td>\n",
       "      <td>14731</td>\n",
       "    </tr>\n",
       "    <tr>\n",
       "      <th>2</th>\n",
       "      <td>52</td>\n",
       "      <td>11</td>\n",
       "      <td>2</td>\n",
       "      <td>2</td>\n",
       "      <td>8820</td>\n",
       "    </tr>\n",
       "    <tr>\n",
       "      <th>3</th>\n",
       "      <td>19</td>\n",
       "      <td>0</td>\n",
       "      <td>19</td>\n",
       "      <td>6</td>\n",
       "      <td>12580</td>\n",
       "    </tr>\n",
       "    <tr>\n",
       "      <th>4</th>\n",
       "      <td>9</td>\n",
       "      <td>0</td>\n",
       "      <td>0</td>\n",
       "      <td>182</td>\n",
       "      <td>23874</td>\n",
       "    </tr>\n",
       "    <tr>\n",
       "      <th>5</th>\n",
       "      <td>9</td>\n",
       "      <td>1</td>\n",
       "      <td>0</td>\n",
       "      <td>7</td>\n",
       "      <td>109193</td>\n",
       "    </tr>\n",
       "  </tbody>\n",
       "</table>\n",
       "</div>"
      ],
      "text/plain": [
       "Predicted     1   2   3    4       5\n",
       "Actual                              \n",
       "1          1016   0   0    3   14731\n",
       "2            52  11   2    2    8820\n",
       "3            19   0  19    6   12580\n",
       "4             9   0   0  182   23874\n",
       "5             9   1   0    7  109193"
      ]
     },
     "execution_count": 22,
     "metadata": {},
     "output_type": "execute_result"
    }
   ],
   "source": [
    "pd.crosstab(Y_test, y_pred_mnb_tfidf, rownames=['Actual'], colnames=['Predicted'])"
   ]
  },
  {
   "cell_type": "code",
   "execution_count": 23,
   "id": "acd14347",
   "metadata": {},
   "outputs": [
    {
     "name": "stdout",
     "output_type": "stream",
     "text": [
      "              precision    recall  f1-score   support\n",
      "\n",
      "           1       0.92      0.06      0.12     15750\n",
      "           2       0.92      0.00      0.00      8887\n",
      "           3       0.90      0.00      0.00     12624\n",
      "           4       0.91      0.01      0.02     24065\n",
      "           5       0.65      1.00      0.78    109210\n",
      "\n",
      "    accuracy                           0.65    170536\n",
      "   macro avg       0.86      0.21      0.19    170536\n",
      "weighted avg       0.74      0.65      0.52    170536\n",
      "\n"
     ]
    }
   ],
   "source": [
    "print(classification_report(Y_test,y_pred_mnb_tfidf))"
   ]
  },
  {
   "cell_type": "code",
   "execution_count": 22,
   "id": "604c9de7",
   "metadata": {},
   "outputs": [],
   "source": [
    "from matplotlib import pyplot as plt\n",
    "import seaborn as sns"
   ]
  },
  {
   "cell_type": "code",
   "execution_count": 25,
   "id": "e7e6fee9",
   "metadata": {},
   "outputs": [
    {
     "data": {
      "text/plain": [
       "<AxesSubplot:xlabel='Score', ylabel='Count'>"
      ]
     },
     "execution_count": 25,
     "metadata": {},
     "output_type": "execute_result"
    },
    {
     "data": {
      "image/png": "[encoded data removed]",
      "text/plain": [
       "<Figure size 640x480 with 1 Axes>"
      ]
     },
     "metadata": {},
     "output_type": "display_data"
    }
   ],
   "source": [
    "sns.histplot(Y_test,color='blue',alpha=0.5)\n",
    "sns.histplot(y_pred_mnb_tfidf,color='red',alpha=0.5)"
   ]
  },
  {
   "cell_type": "markdown",
   "id": "128243f4",
   "metadata": {},
   "source": [
    "# DECISION TREE ALGORITHM USING TF-IDF"
   ]
  },
  {
   "cell_type": "code",
   "execution_count": 27,
   "id": "78250d47",
   "metadata": {},
   "outputs": [
    {
     "name": "stdout",
     "output_type": "stream",
     "text": [
      "Wall time: 2h 1min 46s\n"
     ]
    },
    {
     "data": {
      "text/html": [
       "<style>#sk-container-id-2 {color: black;background-color: white;}#sk-container-id-2 pre{padding: 0;}#sk-container-id-2 div.sk-toggleable {background-color: white;}#sk-container-id-2 label.sk-toggleable__label {cursor: pointer;display: block;width: 100%;margin-bottom: 0;padding: 0.3em;box-sizing: border-box;text-align: center;}#sk-container-id-2 label.sk-toggleable__label-arrow:before {content: \"▸\";float: left;margin-right: 0.25em;color: #696969;}#sk-container-id-2 label.sk-toggleable__label-arrow:hover:before {color: black;}#sk-container-id-2 div.sk-estimator:hover label.sk-toggleable__label-arrow:before {color: black;}#sk-container-id-2 div.sk-toggleable__content {max-height: 0;max-width: 0;overflow: hidden;text-align: left;background-color: #f0f8ff;}#sk-container-id-2 div.sk-toggleable__content pre {margin: 0.2em;color: black;border-radius: 0.25em;background-color: #f0f8ff;}#sk-container-id-2 input.sk-toggleable__control:checked~div.sk-toggleable__content {max-height: 200px;max-width: 100%;overflow: auto;}#sk-container-id-2 input.sk-toggleable__control:checked~label.sk-toggleable__label-arrow:before {content: \"▾\";}#sk-container-id-2 div.sk-estimator input.sk-toggleable__control:checked~label.sk-toggleable__label {background-color: #d4ebff;}#sk-container-id-2 div.sk-label input.sk-toggleable__control:checked~label.sk-toggleable__label {background-color: #d4ebff;}#sk-container-id-2 input.sk-hidden--visually {border: 0;clip: rect(1px 1px 1px 1px);clip: rect(1px, 1px, 1px, 1px);height: 1px;margin: -1px;overflow: hidden;padding: 0;position: absolute;width: 1px;}#sk-container-id-2 div.sk-estimator {font-family: monospace;background-color: #f0f8ff;border: 1px dotted black;border-radius: 0.25em;box-sizing: border-box;margin-bottom: 0.5em;}#sk-container-id-2 div.sk-estimator:hover {background-color: #d4ebff;}#sk-container-id-2 div.sk-parallel-item::after {content: \"\";width: 100%;border-bottom: 1px solid gray;flex-grow: 1;}#sk-container-id-2 div.sk-label:hover label.sk-toggleable__label {background-color: #d4ebff;}#sk-container-id-2 div.sk-serial::before {content: \"\";position: absolute;border-left: 1px solid gray;box-sizing: border-box;top: 0;bottom: 0;left: 50%;z-index: 0;}#sk-container-id-2 div.sk-serial {display: flex;flex-direction: column;align-items: center;background-color: white;padding-right: 0.2em;padding-left: 0.2em;position: relative;}#sk-container-id-2 div.sk-item {position: relative;z-index: 1;}#sk-container-id-2 div.sk-parallel {display: flex;align-items: stretch;justify-content: center;background-color: white;position: relative;}#sk-container-id-2 div.sk-item::before, #sk-container-id-2 div.sk-parallel-item::before {content: \"\";position: absolute;border-left: 1px solid gray;box-sizing: border-box;top: 0;bottom: 0;left: 50%;z-index: -1;}#sk-container-id-2 div.sk-parallel-item {display: flex;flex-direction: column;z-index: 1;position: relative;background-color: white;}#sk-container-id-2 div.sk-parallel-item:first-child::after {align-self: flex-end;width: 50%;}#sk-container-id-2 div.sk-parallel-item:last-child::after {align-self: flex-start;width: 50%;}#sk-container-id-2 div.sk-parallel-item:only-child::after {width: 0;}#sk-container-id-2 div.sk-dashed-wrapped {border: 1px dashed gray;margin: 0 0.4em 0.5em 0.4em;box-sizing: border-box;padding-bottom: 0.4em;background-color: white;}#sk-container-id-2 div.sk-label label {font-family: monospace;font-weight: bold;display: inline-block;line-height: 1.2em;}#sk-container-id-2 div.sk-label-container {text-align: center;}#sk-container-id-2 div.sk-container {/* jupyter's `normalize.less` sets `[hidden] { display: none; }` but bootstrap.min.css set `[hidden] { display: none !important; }` so we also need the `!important` here to be able to override the default hidden behavior on the sphinx rendered scikit-learn.org. See: https://github.com/scikit-learn/scikit-learn/issues/21755 */display: inline-block !important;position: relative;}#sk-container-id-2 div.sk-text-repr-fallback {display: none;}</style><div id=\"sk-container-id-2\" class=\"sk-top-container\"><div class=\"sk-text-repr-fallback\"><pre>DecisionTreeClassifier()</pre><b>In a Jupyter environment, please rerun this cell to show the HTML representation or trust the notebook. <br />On GitHub, the HTML representation is unable to render, please try loading this page with nbviewer.org.</b></div><div class=\"sk-container\" hidden><div class=\"sk-item\"><div class=\"sk-estimator sk-toggleable\"><input class=\"sk-toggleable__control sk-hidden--visually\" id=\"sk-estimator-id-2\" type=\"checkbox\" checked><label for=\"sk-estimator-id-2\" class=\"sk-toggleable__label sk-toggleable__label-arrow\">DecisionTreeClassifier</label><div class=\"sk-toggleable__content\"><pre>DecisionTreeClassifier()</pre></div></div></div></div></div>"
      ],
      "text/plain": [
       "DecisionTreeClassifier()"
      ]
     },
     "execution_count": 27,
     "metadata": {},
     "output_type": "execute_result"
    }
   ],
   "source": [
    "%%time\n",
    "from sklearn.tree import DecisionTreeClassifier\n",
    "dtc_tfidf=DecisionTreeClassifier()\n",
    "dtc_tfidf.fit(X_train_processed_tfidf,Y_train)"
   ]
  },
  {
   "cell_type": "code",
   "execution_count": 28,
   "id": "11c66262",
   "metadata": {},
   "outputs": [
    {
     "data": {
      "text/plain": [
       "array([5, 3, 5, ..., 4, 1, 5], dtype=int64)"
      ]
     },
     "execution_count": 28,
     "metadata": {},
     "output_type": "execute_result"
    }
   ],
   "source": [
    "y_pred_dtc_tfidf=dtc_tfidf.predict(X_test_processed_tfidf)\n",
    "y_pred_dtc_tfidf"
   ]
  },
  {
   "cell_type": "code",
   "execution_count": 29,
   "id": "b9a5694b",
   "metadata": {},
   "outputs": [
    {
     "data": {
      "text/plain": [
       "0.7554182108176573"
      ]
     },
     "execution_count": 29,
     "metadata": {},
     "output_type": "execute_result"
    }
   ],
   "source": [
    "accu_dtc=accuracy_score(Y_test,y_pred_dtc_tfidf)\n",
    "accu_dtc"
   ]
  },
  {
   "cell_type": "code",
   "execution_count": 30,
   "id": "22b04ad6",
   "metadata": {},
   "outputs": [
    {
     "data": {
      "text/plain": [
       "array([[10169,  1114,   950,   813,  2704],\n",
       "       [ 1251,  4102,   828,   752,  1954],\n",
       "       [  990,   727,  6306,  1473,  3128],\n",
       "       [  871,   661,  1403, 12504,  8626],\n",
       "       [ 2291,  1379,  2530,  7265, 95745]], dtype=int64)"
      ]
     },
     "execution_count": 30,
     "metadata": {},
     "output_type": "execute_result"
    }
   ],
   "source": [
    "confusion_matrix(Y_test,y_pred_dtc_tfidf)"
   ]
  },
  {
   "cell_type": "code",
   "execution_count": 31,
   "id": "646b0076",
   "metadata": {},
   "outputs": [
    {
     "data": {
      "text/html": [
       "<div>\n",
       "<style scoped>\n",
       "    .dataframe tbody tr th:only-of-type {\n",
       "        vertical-align: middle;\n",
       "    }\n",
       "\n",
       "    .dataframe tbody tr th {\n",
       "        vertical-align: top;\n",
       "    }\n",
       "\n",
       "    .dataframe thead th {\n",
       "        text-align: right;\n",
       "    }\n",
       "</style>\n",
       "<table border=\"1\" class=\"dataframe\">\n",
       "  <thead>\n",
       "    <tr style=\"text-align: right;\">\n",
       "      <th>Predicted</th>\n",
       "      <th>1</th>\n",
       "      <th>2</th>\n",
       "      <th>3</th>\n",
       "      <th>4</th>\n",
       "      <th>5</th>\n",
       "    </tr>\n",
       "    <tr>\n",
       "      <th>Actual</th>\n",
       "      <th></th>\n",
       "      <th></th>\n",
       "      <th></th>\n",
       "      <th></th>\n",
       "      <th></th>\n",
       "    </tr>\n",
       "  </thead>\n",
       "  <tbody>\n",
       "    <tr>\n",
       "      <th>1</th>\n",
       "      <td>10169</td>\n",
       "      <td>1114</td>\n",
       "      <td>950</td>\n",
       "      <td>813</td>\n",
       "      <td>2704</td>\n",
       "    </tr>\n",
       "    <tr>\n",
       "      <th>2</th>\n",
       "      <td>1251</td>\n",
       "      <td>4102</td>\n",
       "      <td>828</td>\n",
       "      <td>752</td>\n",
       "      <td>1954</td>\n",
       "    </tr>\n",
       "    <tr>\n",
       "      <th>3</th>\n",
       "      <td>990</td>\n",
       "      <td>727</td>\n",
       "      <td>6306</td>\n",
       "      <td>1473</td>\n",
       "      <td>3128</td>\n",
       "    </tr>\n",
       "    <tr>\n",
       "      <th>4</th>\n",
       "      <td>871</td>\n",
       "      <td>661</td>\n",
       "      <td>1403</td>\n",
       "      <td>12504</td>\n",
       "      <td>8626</td>\n",
       "    </tr>\n",
       "    <tr>\n",
       "      <th>5</th>\n",
       "      <td>2291</td>\n",
       "      <td>1379</td>\n",
       "      <td>2530</td>\n",
       "      <td>7265</td>\n",
       "      <td>95745</td>\n",
       "    </tr>\n",
       "  </tbody>\n",
       "</table>\n",
       "</div>"
      ],
      "text/plain": [
       "Predicted      1     2     3      4      5\n",
       "Actual                                    \n",
       "1          10169  1114   950    813   2704\n",
       "2           1251  4102   828    752   1954\n",
       "3            990   727  6306   1473   3128\n",
       "4            871   661  1403  12504   8626\n",
       "5           2291  1379  2530   7265  95745"
      ]
     },
     "execution_count": 31,
     "metadata": {},
     "output_type": "execute_result"
    }
   ],
   "source": [
    "pd.crosstab(Y_test, y_pred_dtc_tfidf, rownames=['Actual'], colnames=['Predicted'])"
   ]
  },
  {
   "cell_type": "code",
   "execution_count": 32,
   "id": "b95c9125",
   "metadata": {},
   "outputs": [
    {
     "name": "stdout",
     "output_type": "stream",
     "text": [
      "              precision    recall  f1-score   support\n",
      "\n",
      "           1       0.65      0.65      0.65     15750\n",
      "           2       0.51      0.46      0.49      8887\n",
      "           3       0.52      0.50      0.51     12624\n",
      "           4       0.55      0.52      0.53     24065\n",
      "           5       0.85      0.88      0.87    109210\n",
      "\n",
      "    accuracy                           0.76    170536\n",
      "   macro avg       0.62      0.60      0.61    170536\n",
      "weighted avg       0.75      0.76      0.75    170536\n",
      "\n"
     ]
    }
   ],
   "source": [
    "print(classification_report(Y_test,y_pred_dtc_tfidf))"
   ]
  },
  {
   "cell_type": "code",
   "execution_count": 36,
   "id": "df2d8728",
   "metadata": {},
   "outputs": [
    {
     "data": {
      "text/plain": [
       "<AxesSubplot:xlabel='Score', ylabel='Count'>"
      ]
     },
     "execution_count": 36,
     "metadata": {},
     "output_type": "execute_result"
    },
    {
     "data": {
      "image/png": "[encoded data removed]",
      "text/plain": [
       "<Figure size 640x480 with 1 Axes>"
      ]
     },
     "metadata": {},
     "output_type": "display_data"
    }
   ],
   "source": [
    "sns.histplot(Y_test,color='blue',alpha=0.5)\n",
    "sns.histplot(y_pred_dtc_tfidf,color='red',alpha=0.5)"
   ]
  },
  {
   "cell_type": "markdown",
   "id": "05bde341",
   "metadata": {},
   "source": [
    "# RANDOM FOREST ALGORITHM USING TF-IDF"
   ]
  },
  {
   "cell_type": "code",
   "execution_count": 17,
   "id": "868c752c",
   "metadata": {},
   "outputs": [
    {
     "name": "stdout",
     "output_type": "stream",
     "text": [
      "Wall time: 4h 1min 1s\n"
     ]
    },
    {
     "data": {
      "text/html": [
       "<style>#sk-container-id-1 {color: black;background-color: white;}#sk-container-id-1 pre{padding: 0;}#sk-container-id-1 div.sk-toggleable {background-color: white;}#sk-container-id-1 label.sk-toggleable__label {cursor: pointer;display: block;width: 100%;margin-bottom: 0;padding: 0.3em;box-sizing: border-box;text-align: center;}#sk-container-id-1 label.sk-toggleable__label-arrow:before {content: \"▸\";float: left;margin-right: 0.25em;color: #696969;}#sk-container-id-1 label.sk-toggleable__label-arrow:hover:before {color: black;}#sk-container-id-1 div.sk-estimator:hover label.sk-toggleable__label-arrow:before {color: black;}#sk-container-id-1 div.sk-toggleable__content {max-height: 0;max-width: 0;overflow: hidden;text-align: left;background-color: #f0f8ff;}#sk-container-id-1 div.sk-toggleable__content pre {margin: 0.2em;color: black;border-radius: 0.25em;background-color: #f0f8ff;}#sk-container-id-1 input.sk-toggleable__control:checked~div.sk-toggleable__content {max-height: 200px;max-width: 100%;overflow: auto;}#sk-container-id-1 input.sk-toggleable__control:checked~label.sk-toggleable__label-arrow:before {content: \"▾\";}#sk-container-id-1 div.sk-estimator input.sk-toggleable__control:checked~label.sk-toggleable__label {background-color: #d4ebff;}#sk-container-id-1 div.sk-label input.sk-toggleable__control:checked~label.sk-toggleable__label {background-color: #d4ebff;}#sk-container-id-1 input.sk-hidden--visually {border: 0;clip: rect(1px 1px 1px 1px);clip: rect(1px, 1px, 1px, 1px);height: 1px;margin: -1px;overflow: hidden;padding: 0;position: absolute;width: 1px;}#sk-container-id-1 div.sk-estimator {font-family: monospace;background-color: #f0f8ff;border: 1px dotted black;border-radius: 0.25em;box-sizing: border-box;margin-bottom: 0.5em;}#sk-container-id-1 div.sk-estimator:hover {background-color: #d4ebff;}#sk-container-id-1 div.sk-parallel-item::after {content: \"\";width: 100%;border-bottom: 1px solid gray;flex-grow: 1;}#sk-container-id-1 div.sk-label:hover label.sk-toggleable__label {background-color: #d4ebff;}#sk-container-id-1 div.sk-serial::before {content: \"\";position: absolute;border-left: 1px solid gray;box-sizing: border-box;top: 0;bottom: 0;left: 50%;z-index: 0;}#sk-container-id-1 div.sk-serial {display: flex;flex-direction: column;align-items: center;background-color: white;padding-right: 0.2em;padding-left: 0.2em;position: relative;}#sk-container-id-1 div.sk-item {position: relative;z-index: 1;}#sk-container-id-1 div.sk-parallel {display: flex;align-items: stretch;justify-content: center;background-color: white;position: relative;}#sk-container-id-1 div.sk-item::before, #sk-container-id-1 div.sk-parallel-item::before {content: \"\";position: absolute;border-left: 1px solid gray;box-sizing: border-box;top: 0;bottom: 0;left: 50%;z-index: -1;}#sk-container-id-1 div.sk-parallel-item {display: flex;flex-direction: column;z-index: 1;position: relative;background-color: white;}#sk-container-id-1 div.sk-parallel-item:first-child::after {align-self: flex-end;width: 50%;}#sk-container-id-1 div.sk-parallel-item:last-child::after {align-self: flex-start;width: 50%;}#sk-container-id-1 div.sk-parallel-item:only-child::after {width: 0;}#sk-container-id-1 div.sk-dashed-wrapped {border: 1px dashed gray;margin: 0 0.4em 0.5em 0.4em;box-sizing: border-box;padding-bottom: 0.4em;background-color: white;}#sk-container-id-1 div.sk-label label {font-family: monospace;font-weight: bold;display: inline-block;line-height: 1.2em;}#sk-container-id-1 div.sk-label-container {text-align: center;}#sk-container-id-1 div.sk-container {/* jupyter's `normalize.less` sets `[hidden] { display: none; }` but bootstrap.min.css set `[hidden] { display: none !important; }` so we also need the `!important` here to be able to override the default hidden behavior on the sphinx rendered scikit-learn.org. See: https://github.com/scikit-learn/scikit-learn/issues/21755 */display: inline-block !important;position: relative;}#sk-container-id-1 div.sk-text-repr-fallback {display: none;}</style><div id=\"sk-container-id-1\" class=\"sk-top-container\"><div class=\"sk-text-repr-fallback\"><pre>RandomForestClassifier()</pre><b>In a Jupyter environment, please rerun this cell to show the HTML representation or trust the notebook. <br />On GitHub, the HTML representation is unable to render, please try loading this page with nbviewer.org.</b></div><div class=\"sk-container\" hidden><div class=\"sk-item\"><div class=\"sk-estimator sk-toggleable\"><input class=\"sk-toggleable__control sk-hidden--visually\" id=\"sk-estimator-id-1\" type=\"checkbox\" checked><label for=\"sk-estimator-id-1\" class=\"sk-toggleable__label sk-toggleable__label-arrow\">RandomForestClassifier</label><div class=\"sk-toggleable__content\"><pre>RandomForestClassifier()</pre></div></div></div></div></div>"
      ],
      "text/plain": [
       "RandomForestClassifier()"
      ]
     },
     "execution_count": 17,
     "metadata": {},
     "output_type": "execute_result"
    }
   ],
   "source": [
    "%%time\n",
    "from sklearn.ensemble import RandomForestClassifier\n",
    "rfc_tfidf=RandomForestClassifier()\n",
    "rfc_tfidf.fit(X_train_processed_tfidf,Y_train)"
   ]
  },
  {
   "cell_type": "code",
   "execution_count": 18,
   "id": "31dea987",
   "metadata": {},
   "outputs": [
    {
     "data": {
      "text/plain": [
       "array([5, 5, 5, ..., 5, 1, 5], dtype=int64)"
      ]
     },
     "execution_count": 18,
     "metadata": {},
     "output_type": "execute_result"
    }
   ],
   "source": [
    "y_pred_rfc_tfidf=rfc_tfidf.predict(X_test_processed_tfidf)\n",
    "y_pred_rfc_tfidf"
   ]
  },
  {
   "cell_type": "code",
   "execution_count": 19,
   "id": "ff04d0bf",
   "metadata": {},
   "outputs": [
    {
     "data": {
      "text/plain": [
       "0.7949113383684383"
      ]
     },
     "execution_count": 19,
     "metadata": {},
     "output_type": "execute_result"
    }
   ],
   "source": [
    "accu_rfc=accuracy_score(Y_test,y_pred_rfc_tfidf)\n",
    "accu_rfc"
   ]
  },
  {
   "cell_type": "code",
   "execution_count": 20,
   "id": "542fbf20",
   "metadata": {},
   "outputs": [
    {
     "data": {
      "text/plain": [
       "array([[  8702,     10,     23,      8,   7007],\n",
       "       [   417,   3402,     76,     19,   4973],\n",
       "       [   154,     11,   5066,     81,   7312],\n",
       "       [    42,      3,     32,   9262,  14726],\n",
       "       [    33,      0,     12,     36, 109129]], dtype=int64)"
      ]
     },
     "execution_count": 20,
     "metadata": {},
     "output_type": "execute_result"
    }
   ],
   "source": [
    "confusion_matrix(Y_test,y_pred_rfc_tfidf)"
   ]
  },
  {
   "cell_type": "code",
   "execution_count": 21,
   "id": "eb6af61d",
   "metadata": {},
   "outputs": [
    {
     "data": {
      "text/html": [
       "<div>\n",
       "<style scoped>\n",
       "    .dataframe tbody tr th:only-of-type {\n",
       "        vertical-align: middle;\n",
       "    }\n",
       "\n",
       "    .dataframe tbody tr th {\n",
       "        vertical-align: top;\n",
       "    }\n",
       "\n",
       "    .dataframe thead th {\n",
       "        text-align: right;\n",
       "    }\n",
       "</style>\n",
       "<table border=\"1\" class=\"dataframe\">\n",
       "  <thead>\n",
       "    <tr style=\"text-align: right;\">\n",
       "      <th>Predicted</th>\n",
       "      <th>1</th>\n",
       "      <th>2</th>\n",
       "      <th>3</th>\n",
       "      <th>4</th>\n",
       "      <th>5</th>\n",
       "    </tr>\n",
       "    <tr>\n",
       "      <th>Actual</th>\n",
       "      <th></th>\n",
       "      <th></th>\n",
       "      <th></th>\n",
       "      <th></th>\n",
       "      <th></th>\n",
       "    </tr>\n",
       "  </thead>\n",
       "  <tbody>\n",
       "    <tr>\n",
       "      <th>1</th>\n",
       "      <td>8702</td>\n",
       "      <td>10</td>\n",
       "      <td>23</td>\n",
       "      <td>8</td>\n",
       "      <td>7007</td>\n",
       "    </tr>\n",
       "    <tr>\n",
       "      <th>2</th>\n",
       "      <td>417</td>\n",
       "      <td>3402</td>\n",
       "      <td>76</td>\n",
       "      <td>19</td>\n",
       "      <td>4973</td>\n",
       "    </tr>\n",
       "    <tr>\n",
       "      <th>3</th>\n",
       "      <td>154</td>\n",
       "      <td>11</td>\n",
       "      <td>5066</td>\n",
       "      <td>81</td>\n",
       "      <td>7312</td>\n",
       "    </tr>\n",
       "    <tr>\n",
       "      <th>4</th>\n",
       "      <td>42</td>\n",
       "      <td>3</td>\n",
       "      <td>32</td>\n",
       "      <td>9262</td>\n",
       "      <td>14726</td>\n",
       "    </tr>\n",
       "    <tr>\n",
       "      <th>5</th>\n",
       "      <td>33</td>\n",
       "      <td>0</td>\n",
       "      <td>12</td>\n",
       "      <td>36</td>\n",
       "      <td>109129</td>\n",
       "    </tr>\n",
       "  </tbody>\n",
       "</table>\n",
       "</div>"
      ],
      "text/plain": [
       "Predicted     1     2     3     4       5\n",
       "Actual                                   \n",
       "1          8702    10    23     8    7007\n",
       "2           417  3402    76    19    4973\n",
       "3           154    11  5066    81    7312\n",
       "4            42     3    32  9262   14726\n",
       "5            33     0    12    36  109129"
      ]
     },
     "execution_count": 21,
     "metadata": {},
     "output_type": "execute_result"
    }
   ],
   "source": [
    "pd.crosstab(Y_test, y_pred_rfc_tfidf, rownames=['Actual'], colnames=['Predicted'])"
   ]
  },
  {
   "cell_type": "code",
   "execution_count": 23,
   "id": "f73b1ba2",
   "metadata": {},
   "outputs": [
    {
     "data": {
      "text/plain": [
       "<AxesSubplot:xlabel='Score', ylabel='Count'>"
      ]
     },
     "execution_count": 23,
     "metadata": {},
     "output_type": "execute_result"
    },
    {
     "data": {
      "image/png": "[encoded data removed]",
      "text/plain": [
       "<Figure size 640x480 with 1 Axes>"
      ]
     },
     "metadata": {},
     "output_type": "display_data"
    }
   ],
   "source": [
    "sns.histplot(Y_test,color='blue',alpha=0.5)\n",
    "sns.histplot(y_pred_rfc_tfidf,color='red',alpha=0.5)"
   ]
  },
  {
   "cell_type": "markdown",
   "id": "8851af0a",
   "metadata": {},
   "source": [
    "# LOGISTIC REGRESION ALGORITHM USING TF-IDF"
   ]
  },
  {
   "cell_type": "code",
   "execution_count": 25,
   "id": "a5b5776b",
   "metadata": {},
   "outputs": [
    {
     "name": "stderr",
     "output_type": "stream",
     "text": [
      "B:\\Data Science doc\\lib\\site-packages\\sklearn\\linear_model\\_logistic.py:458: ConvergenceWarning: lbfgs failed to converge (status=1):\n",
      "STOP: TOTAL NO. of ITERATIONS REACHED LIMIT.\n",
      "\n",
      "Increase the number of iterations (max_iter) or scale the data as shown in:\n",
      "    https://scikit-learn.org/stable/modules/preprocessing.html\n",
      "Please also refer to the documentation for alternative solver options:\n",
      "    https://scikit-learn.org/stable/modules/linear_model.html#logistic-regression\n",
      "  n_iter_i = _check_optimize_result(\n"
     ]
    },
    {
     "name": "stdout",
     "output_type": "stream",
     "text": [
      "Wall time: 1min 33s\n"
     ]
    },
    {
     "data": {
      "text/html": [
       "<style>#sk-container-id-2 {color: black;background-color: white;}#sk-container-id-2 pre{padding: 0;}#sk-container-id-2 div.sk-toggleable {background-color: white;}#sk-container-id-2 label.sk-toggleable__label {cursor: pointer;display: block;width: 100%;margin-bottom: 0;padding: 0.3em;box-sizing: border-box;text-align: center;}#sk-container-id-2 label.sk-toggleable__label-arrow:before {content: \"▸\";float: left;margin-right: 0.25em;color: #696969;}#sk-container-id-2 label.sk-toggleable__label-arrow:hover:before {color: black;}#sk-container-id-2 div.sk-estimator:hover label.sk-toggleable__label-arrow:before {color: black;}#sk-container-id-2 div.sk-toggleable__content {max-height: 0;max-width: 0;overflow: hidden;text-align: left;background-color: #f0f8ff;}#sk-container-id-2 div.sk-toggleable__content pre {margin: 0.2em;color: black;border-radius: 0.25em;background-color: #f0f8ff;}#sk-container-id-2 input.sk-toggleable__control:checked~div.sk-toggleable__content {max-height: 200px;max-width: 100%;overflow: auto;}#sk-container-id-2 input.sk-toggleable__control:checked~label.sk-toggleable__label-arrow:before {content: \"▾\";}#sk-container-id-2 div.sk-estimator input.sk-toggleable__control:checked~label.sk-toggleable__label {background-color: #d4ebff;}#sk-container-id-2 div.sk-label input.sk-toggleable__control:checked~label.sk-toggleable__label {background-color: #d4ebff;}#sk-container-id-2 input.sk-hidden--visually {border: 0;clip: rect(1px 1px 1px 1px);clip: rect(1px, 1px, 1px, 1px);height: 1px;margin: -1px;overflow: hidden;padding: 0;position: absolute;width: 1px;}#sk-container-id-2 div.sk-estimator {font-family: monospace;background-color: #f0f8ff;border: 1px dotted black;border-radius: 0.25em;box-sizing: border-box;margin-bottom: 0.5em;}#sk-container-id-2 div.sk-estimator:hover {background-color: #d4ebff;}#sk-container-id-2 div.sk-parallel-item::after {content: \"\";width: 100%;border-bottom: 1px solid gray;flex-grow: 1;}#sk-container-id-2 div.sk-label:hover label.sk-toggleable__label {background-color: #d4ebff;}#sk-container-id-2 div.sk-serial::before {content: \"\";position: absolute;border-left: 1px solid gray;box-sizing: border-box;top: 0;bottom: 0;left: 50%;z-index: 0;}#sk-container-id-2 div.sk-serial {display: flex;flex-direction: column;align-items: center;background-color: white;padding-right: 0.2em;padding-left: 0.2em;position: relative;}#sk-container-id-2 div.sk-item {position: relative;z-index: 1;}#sk-container-id-2 div.sk-parallel {display: flex;align-items: stretch;justify-content: center;background-color: white;position: relative;}#sk-container-id-2 div.sk-item::before, #sk-container-id-2 div.sk-parallel-item::before {content: \"\";position: absolute;border-left: 1px solid gray;box-sizing: border-box;top: 0;bottom: 0;left: 50%;z-index: -1;}#sk-container-id-2 div.sk-parallel-item {display: flex;flex-direction: column;z-index: 1;position: relative;background-color: white;}#sk-container-id-2 div.sk-parallel-item:first-child::after {align-self: flex-end;width: 50%;}#sk-container-id-2 div.sk-parallel-item:last-child::after {align-self: flex-start;width: 50%;}#sk-container-id-2 div.sk-parallel-item:only-child::after {width: 0;}#sk-container-id-2 div.sk-dashed-wrapped {border: 1px dashed gray;margin: 0 0.4em 0.5em 0.4em;box-sizing: border-box;padding-bottom: 0.4em;background-color: white;}#sk-container-id-2 div.sk-label label {font-family: monospace;font-weight: bold;display: inline-block;line-height: 1.2em;}#sk-container-id-2 div.sk-label-container {text-align: center;}#sk-container-id-2 div.sk-container {/* jupyter's `normalize.less` sets `[hidden] { display: none; }` but bootstrap.min.css set `[hidden] { display: none !important; }` so we also need the `!important` here to be able to override the default hidden behavior on the sphinx rendered scikit-learn.org. See: https://github.com/scikit-learn/scikit-learn/issues/21755 */display: inline-block !important;position: relative;}#sk-container-id-2 div.sk-text-repr-fallback {display: none;}</style><div id=\"sk-container-id-2\" class=\"sk-top-container\"><div class=\"sk-text-repr-fallback\"><pre>LogisticRegression()</pre><b>In a Jupyter environment, please rerun this cell to show the HTML representation or trust the notebook. <br />On GitHub, the HTML representation is unable to render, please try loading this page with nbviewer.org.</b></div><div class=\"sk-container\" hidden><div class=\"sk-item\"><div class=\"sk-estimator sk-toggleable\"><input class=\"sk-toggleable__control sk-hidden--visually\" id=\"sk-estimator-id-2\" type=\"checkbox\" checked><label for=\"sk-estimator-id-2\" class=\"sk-toggleable__label sk-toggleable__label-arrow\">LogisticRegression</label><div class=\"sk-toggleable__content\"><pre>LogisticRegression()</pre></div></div></div></div></div>"
      ],
      "text/plain": [
       "LogisticRegression()"
      ]
     },
     "execution_count": 25,
     "metadata": {},
     "output_type": "execute_result"
    }
   ],
   "source": [
    "%%time\n",
    "from sklearn.linear_model import LogisticRegression\n",
    "lr_tfidf=LogisticRegression()\n",
    "lr_tfidf.fit(X_train_processed_tfidf,Y_train)"
   ]
  },
  {
   "cell_type": "code",
   "execution_count": 26,
   "id": "9eca44b7",
   "metadata": {},
   "outputs": [
    {
     "data": {
      "text/plain": [
       "array([5, 4, 5, ..., 4, 2, 5], dtype=int64)"
      ]
     },
     "execution_count": 26,
     "metadata": {},
     "output_type": "execute_result"
    }
   ],
   "source": [
    "y_pred_lr_tfidf=lr_tfidf.predict(X_test_processed_tfidf)\n",
    "y_pred_lr_tfidf"
   ]
  },
  {
   "cell_type": "code",
   "execution_count": 27,
   "id": "9a7a8911",
   "metadata": {},
   "outputs": [
    {
     "data": {
      "text/plain": [
       "0.7595698268987193"
      ]
     },
     "execution_count": 27,
     "metadata": {},
     "output_type": "execute_result"
    }
   ],
   "source": [
    "accu_lr=accuracy_score(Y_test,y_pred_lr_tfidf)\n",
    "accu_lr"
   ]
  },
  {
   "cell_type": "code",
   "execution_count": 28,
   "id": "c2c1cb78",
   "metadata": {},
   "outputs": [
    {
     "data": {
      "text/plain": [
       "array([[ 11430,   1158,    553,    266,   2343],\n",
       "       [  2395,   2638,   1295,    590,   1969],\n",
       "       [  1233,   1088,   4455,   2069,   3779],\n",
       "       [   522,    338,   1411,   7313,  14481],\n",
       "       [   898,    268,    744,   3602, 103698]], dtype=int64)"
      ]
     },
     "execution_count": 28,
     "metadata": {},
     "output_type": "execute_result"
    }
   ],
   "source": [
    "confusion_matrix(Y_test,y_pred_lr_tfidf)"
   ]
  },
  {
   "cell_type": "code",
   "execution_count": 29,
   "id": "8e109f65",
   "metadata": {},
   "outputs": [
    {
     "data": {
      "text/html": [
       "<div>\n",
       "<style scoped>\n",
       "    .dataframe tbody tr th:only-of-type {\n",
       "        vertical-align: middle;\n",
       "    }\n",
       "\n",
       "    .dataframe tbody tr th {\n",
       "        vertical-align: top;\n",
       "    }\n",
       "\n",
       "    .dataframe thead th {\n",
       "        text-align: right;\n",
       "    }\n",
       "</style>\n",
       "<table border=\"1\" class=\"dataframe\">\n",
       "  <thead>\n",
       "    <tr style=\"text-align: right;\">\n",
       "      <th>Predicted</th>\n",
       "      <th>1</th>\n",
       "      <th>2</th>\n",
       "      <th>3</th>\n",
       "      <th>4</th>\n",
       "      <th>5</th>\n",
       "    </tr>\n",
       "    <tr>\n",
       "      <th>Actual</th>\n",
       "      <th></th>\n",
       "      <th></th>\n",
       "      <th></th>\n",
       "      <th></th>\n",
       "      <th></th>\n",
       "    </tr>\n",
       "  </thead>\n",
       "  <tbody>\n",
       "    <tr>\n",
       "      <th>1</th>\n",
       "      <td>11430</td>\n",
       "      <td>1158</td>\n",
       "      <td>553</td>\n",
       "      <td>266</td>\n",
       "      <td>2343</td>\n",
       "    </tr>\n",
       "    <tr>\n",
       "      <th>2</th>\n",
       "      <td>2395</td>\n",
       "      <td>2638</td>\n",
       "      <td>1295</td>\n",
       "      <td>590</td>\n",
       "      <td>1969</td>\n",
       "    </tr>\n",
       "    <tr>\n",
       "      <th>3</th>\n",
       "      <td>1233</td>\n",
       "      <td>1088</td>\n",
       "      <td>4455</td>\n",
       "      <td>2069</td>\n",
       "      <td>3779</td>\n",
       "    </tr>\n",
       "    <tr>\n",
       "      <th>4</th>\n",
       "      <td>522</td>\n",
       "      <td>338</td>\n",
       "      <td>1411</td>\n",
       "      <td>7313</td>\n",
       "      <td>14481</td>\n",
       "    </tr>\n",
       "    <tr>\n",
       "      <th>5</th>\n",
       "      <td>898</td>\n",
       "      <td>268</td>\n",
       "      <td>744</td>\n",
       "      <td>3602</td>\n",
       "      <td>103698</td>\n",
       "    </tr>\n",
       "  </tbody>\n",
       "</table>\n",
       "</div>"
      ],
      "text/plain": [
       "Predicted      1     2     3     4       5\n",
       "Actual                                    \n",
       "1          11430  1158   553   266    2343\n",
       "2           2395  2638  1295   590    1969\n",
       "3           1233  1088  4455  2069    3779\n",
       "4            522   338  1411  7313   14481\n",
       "5            898   268   744  3602  103698"
      ]
     },
     "execution_count": 29,
     "metadata": {},
     "output_type": "execute_result"
    }
   ],
   "source": [
    "pd.crosstab(Y_test, y_pred_lr_tfidf, rownames=['Actual'], colnames=['Predicted'])"
   ]
  },
  {
   "cell_type": "code",
   "execution_count": 30,
   "id": "e45cdc62",
   "metadata": {},
   "outputs": [
    {
     "data": {
      "text/plain": [
       "<AxesSubplot:xlabel='Score', ylabel='Count'>"
      ]
     },
     "execution_count": 30,
     "metadata": {},
     "output_type": "execute_result"
    },
    {
     "data": {
      "image/png": "[encoded data removed]",
      "text/plain": [
       "<Figure size 640x480 with 1 Axes>"
      ]
     },
     "metadata": {},
     "output_type": "display_data"
    }
   ],
   "source": [
    "sns.histplot(Y_test,color='blue',alpha=0.5)\n",
    "sns.histplot(y_pred_lr_tfidf,color='red',alpha=0.5)"
   ]
  },
  {
   "cell_type": "markdown",
   "id": "0b11449f",
   "metadata": {},
   "source": [
    "# K-NEAREST NEIGHBORS ALGORITHM USING TF-IDF"
   ]
  },
  {
   "cell_type": "code",
   "execution_count": 18,
   "id": "0571dfd4",
   "metadata": {},
   "outputs": [
    {
     "name": "stdout",
     "output_type": "stream",
     "text": [
      "Wall time: 3.66 s\n"
     ]
    },
    {
     "data": {
      "text/html": [
       "<style>#sk-container-id-1 {color: black;background-color: white;}#sk-container-id-1 pre{padding: 0;}#sk-container-id-1 div.sk-toggleable {background-color: white;}#sk-container-id-1 label.sk-toggleable__label {cursor: pointer;display: block;width: 100%;margin-bottom: 0;padding: 0.3em;box-sizing: border-box;text-align: center;}#sk-container-id-1 label.sk-toggleable__label-arrow:before {content: \"▸\";float: left;margin-right: 0.25em;color: #696969;}#sk-container-id-1 label.sk-toggleable__label-arrow:hover:before {color: black;}#sk-container-id-1 div.sk-estimator:hover label.sk-toggleable__label-arrow:before {color: black;}#sk-container-id-1 div.sk-toggleable__content {max-height: 0;max-width: 0;overflow: hidden;text-align: left;background-color: #f0f8ff;}#sk-container-id-1 div.sk-toggleable__content pre {margin: 0.2em;color: black;border-radius: 0.25em;background-color: #f0f8ff;}#sk-container-id-1 input.sk-toggleable__control:checked~div.sk-toggleable__content {max-height: 200px;max-width: 100%;overflow: auto;}#sk-container-id-1 input.sk-toggleable__control:checked~label.sk-toggleable__label-arrow:before {content: \"▾\";}#sk-container-id-1 div.sk-estimator input.sk-toggleable__control:checked~label.sk-toggleable__label {background-color: #d4ebff;}#sk-container-id-1 div.sk-label input.sk-toggleable__control:checked~label.sk-toggleable__label {background-color: #d4ebff;}#sk-container-id-1 input.sk-hidden--visually {border: 0;clip: rect(1px 1px 1px 1px);clip: rect(1px, 1px, 1px, 1px);height: 1px;margin: -1px;overflow: hidden;padding: 0;position: absolute;width: 1px;}#sk-container-id-1 div.sk-estimator {font-family: monospace;background-color: #f0f8ff;border: 1px dotted black;border-radius: 0.25em;box-sizing: border-box;margin-bottom: 0.5em;}#sk-container-id-1 div.sk-estimator:hover {background-color: #d4ebff;}#sk-container-id-1 div.sk-parallel-item::after {content: \"\";width: 100%;border-bottom: 1px solid gray;flex-grow: 1;}#sk-container-id-1 div.sk-label:hover label.sk-toggleable__label {background-color: #d4ebff;}#sk-container-id-1 div.sk-serial::before {content: \"\";position: absolute;border-left: 1px solid gray;box-sizing: border-box;top: 0;bottom: 0;left: 50%;z-index: 0;}#sk-container-id-1 div.sk-serial {display: flex;flex-direction: column;align-items: center;background-color: white;padding-right: 0.2em;padding-left: 0.2em;position: relative;}#sk-container-id-1 div.sk-item {position: relative;z-index: 1;}#sk-container-id-1 div.sk-parallel {display: flex;align-items: stretch;justify-content: center;background-color: white;position: relative;}#sk-container-id-1 div.sk-item::before, #sk-container-id-1 div.sk-parallel-item::before {content: \"\";position: absolute;border-left: 1px solid gray;box-sizing: border-box;top: 0;bottom: 0;left: 50%;z-index: -1;}#sk-container-id-1 div.sk-parallel-item {display: flex;flex-direction: column;z-index: 1;position: relative;background-color: white;}#sk-container-id-1 div.sk-parallel-item:first-child::after {align-self: flex-end;width: 50%;}#sk-container-id-1 div.sk-parallel-item:last-child::after {align-self: flex-start;width: 50%;}#sk-container-id-1 div.sk-parallel-item:only-child::after {width: 0;}#sk-container-id-1 div.sk-dashed-wrapped {border: 1px dashed gray;margin: 0 0.4em 0.5em 0.4em;box-sizing: border-box;padding-bottom: 0.4em;background-color: white;}#sk-container-id-1 div.sk-label label {font-family: monospace;font-weight: bold;display: inline-block;line-height: 1.2em;}#sk-container-id-1 div.sk-label-container {text-align: center;}#sk-container-id-1 div.sk-container {/* jupyter's `normalize.less` sets `[hidden] { display: none; }` but bootstrap.min.css set `[hidden] { display: none !important; }` so we also need the `!important` here to be able to override the default hidden behavior on the sphinx rendered scikit-learn.org. See: https://github.com/scikit-learn/scikit-learn/issues/21755 */display: inline-block !important;position: relative;}#sk-container-id-1 div.sk-text-repr-fallback {display: none;}</style><div id=\"sk-container-id-1\" class=\"sk-top-container\"><div class=\"sk-text-repr-fallback\"><pre>KNeighborsClassifier()</pre><b>In a Jupyter environment, please rerun this cell to show the HTML representation or trust the notebook. <br />On GitHub, the HTML representation is unable to render, please try loading this page with nbviewer.org.</b></div><div class=\"sk-container\" hidden><div class=\"sk-item\"><div class=\"sk-estimator sk-toggleable\"><input class=\"sk-toggleable__control sk-hidden--visually\" id=\"sk-estimator-id-1\" type=\"checkbox\" checked><label for=\"sk-estimator-id-1\" class=\"sk-toggleable__label sk-toggleable__label-arrow\">KNeighborsClassifier</label><div class=\"sk-toggleable__content\"><pre>KNeighborsClassifier()</pre></div></div></div></div></div>"
      ],
      "text/plain": [
       "KNeighborsClassifier()"
      ]
     },
     "execution_count": 18,
     "metadata": {},
     "output_type": "execute_result"
    }
   ],
   "source": [
    "%%time\n",
    "from sklearn.neighbors import KNeighborsClassifier\n",
    "knc_tfidf=KNeighborsClassifier()\n",
    "knc_tfidf.fit(X_train_processed_tfidf,Y_train)"
   ]
  },
  {
   "cell_type": "code",
   "execution_count": null,
   "id": "611566b0",
   "metadata": {},
   "outputs": [],
   "source": [
    "%%time\n",
    "y_pred_knc_tfidf=knc_tfidf.predict(X_test_processed_tfidf)\n",
    "y_pred_knc_tfidf"
   ]
  },
  {
   "cell_type": "code",
   "execution_count": null,
   "id": "d6312dd0",
   "metadata": {},
   "outputs": [],
   "source": [
    "accu_knc=accuracy_score(Y_test,y_pred_knc_tfidf)\n",
    "accu_knc"
   ]
  },
  {
   "cell_type": "code",
   "execution_count": null,
   "id": "09ab6a3b",
   "metadata": {},
   "outputs": [],
   "source": [
    "confusion_matrix(Y_test,y_pred_knc_tfidf)"
   ]
  },
  {
   "cell_type": "code",
   "execution_count": null,
   "id": "4833f6c3",
   "metadata": {},
   "outputs": [],
   "source": [
    "pd.crosstab(Y_test, y_pred_knc_tfidf, rownames=['Actual'], colnames=['Predicted'])"
   ]
  },
  {
   "cell_type": "code",
   "execution_count": null,
   "id": "b0f08e7d",
   "metadata": {},
   "outputs": [],
   "source": [
    "sns.histplot(Y_test,color='blue',alpha=0.5)\n",
    "sns.histplot(y_pred_knc_tfidf,color='red',alpha=0.5)"
   ]
  },
  {
   "cell_type": "code",
   "execution_count": null,
   "id": "7bbdf4bb",
   "metadata": {},
   "outputs": [],
   "source": []
  },
  {
   "cell_type": "code",
   "execution_count": null,
   "id": "8e0c5c12",
   "metadata": {},
   "outputs": [],
   "source": []
  },
  {
   "cell_type": "code",
   "execution_count": null,
   "id": "74f870a3",
   "metadata": {},
   "outputs": [],
   "source": [
    "X_train_processed_tfidf,Y_train,X_test_processed_tfidf"
   ]
  },
  {
   "cell_type": "code",
   "execution_count": 42,
   "id": "9e85ecbe",
   "metadata": {},
   "outputs": [],
   "source": [
    "# from sklearn.linear_model import LinearRegression\n",
    "# from sklearn.linear_model import LogisticRegression\n",
    "# from sklearn.tree import DecisionTreeClassifier\n",
    "# from sklearn.ensemble import RandomForestClassifier\n",
    "# from sklearn.svm import SVC\n",
    "# from sklearn.neighbors import KNeighborsClassifier\n",
    "# from sklearn.naive_bayes import MultinomialNB\n",
    "# import xgboost as xgb\n"
   ]
  },
  {
   "cell_type": "code",
   "execution_count": 9,
   "id": "7b1b21a2",
   "metadata": {},
   "outputs": [],
   "source": [
    "from matplotlib import pyplot as plt\n",
    "from wordcloud import WordCloud"
   ]
  },
  {
   "cell_type": "code",
   "execution_count": 51,
   "id": "df434cf0",
   "metadata": {},
   "outputs": [],
   "source": [
    "from matplotlib import pyplot as plt\n",
    "import seaborn as sns"
   ]
  },
  {
   "cell_type": "code",
   "execution_count": null,
   "id": "3d245e39",
   "metadata": {},
   "outputs": [],
   "source": [
    "# !pip install ydata-profiling"
   ]
  },
  {
   "cell_type": "code",
   "execution_count": null,
   "id": "1a87485b",
   "metadata": {},
   "outputs": [],
   "source": []
  },
  {
   "cell_type": "code",
   "execution_count": null,
   "id": "5a33d186",
   "metadata": {},
   "outputs": [],
   "source": []
  },
  {
   "cell_type": "code",
   "execution_count": null,
   "id": "8617e77d",
   "metadata": {},
   "outputs": [],
   "source": []
  }
 ],
 "metadata": {
  "kernelspec": {
   "display_name": "Python 3 (ipykernel)",
   "language": "python",
   "name": "python3"
  },
  "language_info": {
   "codemirror_mode": {
    "name": "ipython",
    "version": 3
   },
   "file_extension": ".py",
   "mimetype": "text/x-python",
   "name": "python",
   "nbconvert_exporter": "python",
   "pygments_lexer": "ipython3",
   "version": "3.9.13"
  }
 },
 "nbformat": 4,
 "nbformat_minor": 5
}
